{
 "cells": [
  {
   "cell_type": "code",
   "execution_count": 1,
   "metadata": {},
   "outputs": [],
   "source": [
    "import pandas as pd\n",
    "import matplotlib.pyplot as plt\n",
    "import seaborn as sns"
   ]
  },
  {
   "cell_type": "code",
   "execution_count": 2,
   "metadata": {},
   "outputs": [
    {
     "data": {
      "text/html": [
       "<div>\n",
       "<style scoped>\n",
       "    .dataframe tbody tr th:only-of-type {\n",
       "        vertical-align: middle;\n",
       "    }\n",
       "\n",
       "    .dataframe tbody tr th {\n",
       "        vertical-align: top;\n",
       "    }\n",
       "\n",
       "    .dataframe thead th {\n",
       "        text-align: right;\n",
       "    }\n",
       "</style>\n",
       "<table border=\"1\" class=\"dataframe\">\n",
       "  <thead>\n",
       "    <tr style=\"text-align: right;\">\n",
       "      <th></th>\n",
       "      <th>TP_FAIXA_ETARIA</th>\n",
       "      <th>TP_ESCOLA</th>\n",
       "      <th>RENDA_FAM</th>\n",
       "      <th>COMPUTADOR</th>\n",
       "      <th>INTERNET</th>\n",
       "      <th>NOTA</th>\n",
       "    </tr>\n",
       "  </thead>\n",
       "  <tbody>\n",
       "    <tr>\n",
       "      <th>0</th>\n",
       "      <td>3</td>\n",
       "      <td>2</td>\n",
       "      <td>1</td>\n",
       "      <td>1</td>\n",
       "      <td>1</td>\n",
       "      <td>média</td>\n",
       "    </tr>\n",
       "    <tr>\n",
       "      <th>1</th>\n",
       "      <td>2</td>\n",
       "      <td>2</td>\n",
       "      <td>2</td>\n",
       "      <td>1</td>\n",
       "      <td>1</td>\n",
       "      <td>média</td>\n",
       "    </tr>\n",
       "    <tr>\n",
       "      <th>2</th>\n",
       "      <td>8</td>\n",
       "      <td>2</td>\n",
       "      <td>1</td>\n",
       "      <td>0</td>\n",
       "      <td>1</td>\n",
       "      <td>baixa</td>\n",
       "    </tr>\n",
       "    <tr>\n",
       "      <th>3</th>\n",
       "      <td>4</td>\n",
       "      <td>2</td>\n",
       "      <td>1</td>\n",
       "      <td>0</td>\n",
       "      <td>1</td>\n",
       "      <td>baixa</td>\n",
       "    </tr>\n",
       "    <tr>\n",
       "      <th>4</th>\n",
       "      <td>2</td>\n",
       "      <td>2</td>\n",
       "      <td>1</td>\n",
       "      <td>1</td>\n",
       "      <td>1</td>\n",
       "      <td>média</td>\n",
       "    </tr>\n",
       "  </tbody>\n",
       "</table>\n",
       "</div>"
      ],
      "text/plain": [
       "   TP_FAIXA_ETARIA  TP_ESCOLA  RENDA_FAM  COMPUTADOR  INTERNET   NOTA\n",
       "0                3          2          1           1         1  média\n",
       "1                2          2          2           1         1  média\n",
       "2                8          2          1           0         1  baixa\n",
       "3                4          2          1           0         1  baixa\n",
       "4                2          2          1           1         1  média"
      ]
     },
     "execution_count": 2,
     "metadata": {},
     "output_type": "execute_result"
    }
   ],
   "source": [
    "base = pd.read_csv('../data/microdados_enem2021v3.csv')\n",
    "pd.set_option('display.max_rows', 100)\n",
    "base.head()"
   ]
  },
  {
   "cell_type": "code",
   "execution_count": 3,
   "metadata": {},
   "outputs": [],
   "source": [
    "base['TP_FAIXA_ETARIA'].replace({1:'<17',2:'17',3:'18',4:'19',5:'20', \n",
    "                                 6:'21',7:'22',8:'23',9:'24',10:'25', \n",
    "                                 11:'26..30',12:'31..35',13:'36..40',\n",
    "                                 14:'41..45',15:'46..50',16:'51..55',\n",
    "                                 17:'56..60',18:'61..65',19:'66..70',\n",
    "                                 20:'>70'}, inplace = True)"
   ]
  },
  {
   "cell_type": "code",
   "execution_count": 4,
   "metadata": {},
   "outputs": [],
   "source": [
    "base['TP_ESCOLA'].replace({2:'PUBLICA', 3:'PRIVADA'}, inplace = True)"
   ]
  },
  {
   "cell_type": "code",
   "execution_count": 5,
   "metadata": {},
   "outputs": [],
   "source": [
    "base['RENDA_FAM'].replace({0:'A',1:'B',2:'C',3:'D',4:'E',\n",
    "                           5:'F',6:'G',7:'H',8:'I',9:'J',\n",
    "                           10:'K',11:'L',12:'M',13:'N',\n",
    "                           14:'O',15:'P',16:'Q'}, \n",
    "                          inplace = True)"
   ]
  },
  {
   "cell_type": "code",
   "execution_count": 6,
   "metadata": {},
   "outputs": [],
   "source": [
    "base['COMPUTADOR'].replace({0:'NAO',1:'SIM',2:'SIM',3:'SIM',4:'SIM',5:'SIM'}, inplace = True)"
   ]
  },
  {
   "cell_type": "code",
   "execution_count": 7,
   "metadata": {},
   "outputs": [],
   "source": [
    "base['INTERNET'].replace({0:'NAO',1:'SIM'}, inplace = True)"
   ]
  },
  {
   "cell_type": "code",
   "execution_count": 8,
   "metadata": {},
   "outputs": [],
   "source": [
    "base['NOTA'].replace({'baixa':'BAIXA','média':'MÉDIA','alta':'ALTA'}, inplace = True)"
   ]
  },
  {
   "cell_type": "code",
   "execution_count": 9,
   "metadata": {},
   "outputs": [
    {
     "data": {
      "text/html": [
       "<div>\n",
       "<style scoped>\n",
       "    .dataframe tbody tr th:only-of-type {\n",
       "        vertical-align: middle;\n",
       "    }\n",
       "\n",
       "    .dataframe tbody tr th {\n",
       "        vertical-align: top;\n",
       "    }\n",
       "\n",
       "    .dataframe thead th {\n",
       "        text-align: right;\n",
       "    }\n",
       "</style>\n",
       "<table border=\"1\" class=\"dataframe\">\n",
       "  <thead>\n",
       "    <tr style=\"text-align: right;\">\n",
       "      <th></th>\n",
       "      <th>TP_FAIXA_ETARIA</th>\n",
       "      <th>TP_ESCOLA</th>\n",
       "      <th>RENDA_FAM</th>\n",
       "      <th>COMPUTADOR</th>\n",
       "      <th>INTERNET</th>\n",
       "      <th>NOTA</th>\n",
       "    </tr>\n",
       "  </thead>\n",
       "  <tbody>\n",
       "    <tr>\n",
       "      <th>0</th>\n",
       "      <td>18</td>\n",
       "      <td>PUBLICA</td>\n",
       "      <td>B</td>\n",
       "      <td>SIM</td>\n",
       "      <td>SIM</td>\n",
       "      <td>MÉDIA</td>\n",
       "    </tr>\n",
       "    <tr>\n",
       "      <th>1</th>\n",
       "      <td>17</td>\n",
       "      <td>PUBLICA</td>\n",
       "      <td>C</td>\n",
       "      <td>SIM</td>\n",
       "      <td>SIM</td>\n",
       "      <td>MÉDIA</td>\n",
       "    </tr>\n",
       "    <tr>\n",
       "      <th>2</th>\n",
       "      <td>23</td>\n",
       "      <td>PUBLICA</td>\n",
       "      <td>B</td>\n",
       "      <td>NAO</td>\n",
       "      <td>SIM</td>\n",
       "      <td>BAIXA</td>\n",
       "    </tr>\n",
       "    <tr>\n",
       "      <th>3</th>\n",
       "      <td>19</td>\n",
       "      <td>PUBLICA</td>\n",
       "      <td>B</td>\n",
       "      <td>NAO</td>\n",
       "      <td>SIM</td>\n",
       "      <td>BAIXA</td>\n",
       "    </tr>\n",
       "    <tr>\n",
       "      <th>4</th>\n",
       "      <td>17</td>\n",
       "      <td>PUBLICA</td>\n",
       "      <td>B</td>\n",
       "      <td>SIM</td>\n",
       "      <td>SIM</td>\n",
       "      <td>MÉDIA</td>\n",
       "    </tr>\n",
       "  </tbody>\n",
       "</table>\n",
       "</div>"
      ],
      "text/plain": [
       "  TP_FAIXA_ETARIA TP_ESCOLA RENDA_FAM COMPUTADOR INTERNET   NOTA\n",
       "0              18   PUBLICA         B        SIM      SIM  MÉDIA\n",
       "1              17   PUBLICA         C        SIM      SIM  MÉDIA\n",
       "2              23   PUBLICA         B        NAO      SIM  BAIXA\n",
       "3              19   PUBLICA         B        NAO      SIM  BAIXA\n",
       "4              17   PUBLICA         B        SIM      SIM  MÉDIA"
      ]
     },
     "execution_count": 9,
     "metadata": {},
     "output_type": "execute_result"
    }
   ],
   "source": [
    "base.head()"
   ]
  },
  {
   "cell_type": "code",
   "execution_count": 17,
   "metadata": {},
   "outputs": [],
   "source": [
    "def graphicGenerator(index, figsize, style, titleA, titleB, yLabel, xLabel):\n",
    "    \n",
    "    print(base.groupby([index, 'NOTA']).size())\n",
    "    print('--------------------------')\n",
    "\n",
    "    if index == 'TP_FAIXA_ETARIA':\n",
    "        # Gráfico A\n",
    "        plt.figure(figsize = figsize)\n",
    "        sns.set_theme(style = style)\n",
    "        top_10 = base[index].value_counts()[:10].index\n",
    "        sns.countplot(x = index, order = top_10, data = base, linewidth = 0)\n",
    "        plt.title(titleA)\n",
    "        plt.ylabel(yLabel)\n",
    "        plt.xlabel(xLabel)\n",
    "        plt.xticks(rotation = 45)\n",
    "        # Gráfico B\n",
    "        plt.figure(figsize = figsize)\n",
    "        sns.set_theme(style = style)\n",
    "        sns.countplot(x = index, hue = 'NOTA', order = top_10, data = base, linewidth = 0)\n",
    "        plt.title(titleB)\n",
    "        plt.ylabel(yLabel)\n",
    "        plt.xlabel(xLabel)\n",
    "\n",
    "    elif index == 'RENDA_FAM':\n",
    "        # Gráfico A\n",
    "        plt.figure(figsize = figsize)\n",
    "        sns.set_theme(style = style)\n",
    "        top_renda = base.groupby(index).size().index\n",
    "        sns.countplot(x = index, order = top_renda, data = base)\n",
    "        plt.title(titleA)\n",
    "        plt.ylabel(yLabel)\n",
    "        plt.xlabel(xLabel)\n",
    "        # Gráfico B\n",
    "        plt.figure(figsize = figsize)\n",
    "        sns.set_theme(style = style)\n",
    "        sns.countplot(x = index, hue = 'NOTA', order = top_renda, data = base, linewidth = 0)\n",
    "        plt.title(titleB)\n",
    "        plt.ylabel(yLabel)\n",
    "        plt.xlabel(xLabel)\n",
    "        \n",
    "    else:\n",
    "        # Gráfico A\n",
    "        plt.figure(figsize = figsize)\n",
    "        sns.set_theme(style = style)\n",
    "        sns.countplot(x = index, data = base)\n",
    "        plt.title(titleA)\n",
    "        plt.ylabel(yLabel)\n",
    "        plt.xlabel(xLabel)\n",
    "        # Gráfico B\n",
    "        plt.figure(figsize = figsize)\n",
    "        sns.set_theme(style = style)\n",
    "        sns.countplot(x = index, hue = 'NOTA', data = base)\n",
    "        plt.title(titleB)\n",
    "        plt.ylabel(yLabel)\n",
    "        plt.xlabel(xLabel)"
   ]
  },
  {
   "cell_type": "code",
   "execution_count": 11,
   "metadata": {},
   "outputs": [
    {
     "data": {
      "text/html": [
       "<div>\n",
       "<style scoped>\n",
       "    .dataframe tbody tr th:only-of-type {\n",
       "        vertical-align: middle;\n",
       "    }\n",
       "\n",
       "    .dataframe tbody tr th {\n",
       "        vertical-align: top;\n",
       "    }\n",
       "\n",
       "    .dataframe thead th {\n",
       "        text-align: right;\n",
       "    }\n",
       "</style>\n",
       "<table border=\"1\" class=\"dataframe\">\n",
       "  <thead>\n",
       "    <tr style=\"text-align: right;\">\n",
       "      <th></th>\n",
       "      <th>INDEXES</th>\n",
       "    </tr>\n",
       "  </thead>\n",
       "  <tbody>\n",
       "    <tr>\n",
       "      <th>0</th>\n",
       "      <td>TP_FAIXA_ETARIA</td>\n",
       "    </tr>\n",
       "    <tr>\n",
       "      <th>1</th>\n",
       "      <td>TP_ESCOLA</td>\n",
       "    </tr>\n",
       "    <tr>\n",
       "      <th>2</th>\n",
       "      <td>RENDA_FAM</td>\n",
       "    </tr>\n",
       "    <tr>\n",
       "      <th>3</th>\n",
       "      <td>COMPUTADOR</td>\n",
       "    </tr>\n",
       "    <tr>\n",
       "      <th>4</th>\n",
       "      <td>INTERNET</td>\n",
       "    </tr>\n",
       "  </tbody>\n",
       "</table>\n",
       "</div>"
      ],
      "text/plain": [
       "           INDEXES\n",
       "0  TP_FAIXA_ETARIA\n",
       "1        TP_ESCOLA\n",
       "2        RENDA_FAM\n",
       "3       COMPUTADOR\n",
       "4         INTERNET"
      ]
     },
     "execution_count": 11,
     "metadata": {},
     "output_type": "execute_result"
    }
   ],
   "source": [
    "indexes = pd.DataFrame(base.columns).drop([5]).rename(columns = {0:'INDEXES'})\n",
    "indexes"
   ]
  },
  {
   "cell_type": "code",
   "execution_count": 20,
   "metadata": {},
   "outputs": [
    {
     "name": "stdout",
     "output_type": "stream",
     "text": [
      "INTERNET  NOTA \n",
      "NAO       ALTA        131\n",
      "          BAIXA     44425\n",
      "          MÉDIA     18875\n",
      "SIM       ALTA      28895\n",
      "          BAIXA    266423\n",
      "          MÉDIA    421457\n",
      "dtype: int64\n",
      "--------------------------\n",
      "0.21% dos participantes que NÃO possuem internet conseguiram nota alta.\n",
      "4.03% dos participantes que POSSUEM internet conseguiram nota alta.\n"
     ]
    },
    {
     "data": {
      "image/png": "[encoded data removed]",
      "text/plain": [
       "<Figure size 360x360 with 1 Axes>"
      ]
     },
     "metadata": {},
     "output_type": "display_data"
    },
    {
     "data": {
      "image/png": "[encoded data removed]",
      "text/plain": [
       "<Figure size 360x360 with 1 Axes>"
      ]
     },
     "metadata": {},
     "output_type": "display_data"
    }
   ],
   "source": [
    "inputIndex = int(input('Input Index'))\n",
    "index = base.columns[inputIndex]\n",
    "\n",
    "match index:\n",
    "    case 'TP_FAIXA_ETARIA':\n",
    "        figsize = (10, 10)\n",
    "        style = 'darkgrid'\n",
    "        titleA = 'TOP 10 FAIXA ETARIA'\n",
    "        titleB = 'NOTAS POR FAIXA ETÁRIA'\n",
    "        yLabel = 'Participantes'\n",
    "        xLabel = 'FAIXA ETÁRIA'\n",
    "        graphicGenerator(index, figsize, style, titleA, titleB, yLabel, xLabel)\n",
    "\n",
    "    case 'TP_ESCOLA':\n",
    "        figsize = (5, 5)\n",
    "        style = 'darkgrid'\n",
    "        titleA = 'TIPO DE ESCOLA'\n",
    "        titleB = 'NOTAS POR TIPO DE ESCOLA'\n",
    "        yLabel = 'Participantes'\n",
    "        xLabel = ''\n",
    "        c1 = 20366*100/167911\n",
    "        c2 = 8660*100/612295\n",
    "        graphicGenerator(index, figsize, style, titleA, titleB, yLabel, xLabel)\n",
    "        print(f'{c1:.2f}%', 'dos participantes de escola PRIVADA conseguiram nota alta.')\n",
    "        print(f'{c2:.2f}%', 'dos participantes de escola PÚBLICA conseguiram nota alta.')\n",
    "    \n",
    "    case 'RENDA_FAM':\n",
    "        figsize = (10, 10)\n",
    "        style = 'darkgrid'\n",
    "        titleA = 'RENDA FAMILIAR'\n",
    "        titleB = 'NOTAS POR RENDA FAMILIAR'\n",
    "        yLabel = 'Participantes'\n",
    "        xLabel = 'RENDA'\n",
    "        c1 = 822*100/194609\n",
    "        c2 = 4080*100/14914\n",
    "        graphicGenerator(index, figsize, style, titleA, titleB, yLabel, xLabel)\n",
    "        print(f'{c1:.2f}%', 'dos participantes que possuem renda ATÉ R$1.100,00 conseguiram nota alta.')\n",
    "        print(f'{c2:.2f}%', 'dos participantes que possuem renda ACIMA DE R$22.000,00 conseguiram nota alta.')\n",
    "\n",
    "    case 'COMPUTADOR':\n",
    "        figsize = (5, 5)\n",
    "        style = 'darkgrid'\n",
    "        titleA = 'COMPUTADOR'\n",
    "        titleB = 'NOTAS X COMPUTADOR'\n",
    "        yLabel = 'Participantes'\n",
    "        xLabel = ''\n",
    "        c1 = 1234*100/308287\n",
    "        c2 = 27792*100/471919\n",
    "        graphicGenerator(index, figsize, style, titleA, titleB, yLabel, xLabel)\n",
    "        print(f'{c1:.2f}%', 'dos participantes que NÃO possuem computador conseguiram nota alta.')\n",
    "        print(f'{c2:.2f}%', 'dos participantes que POSSUEM computador conseguiram nota alta.')    \n",
    "\n",
    "    case 'INTERNET':\n",
    "        figsize = (5, 5)\n",
    "        style = 'darkgrid'\n",
    "        titleA = 'INTERNET'\n",
    "        titleB = 'NOTAS X INTERNET'\n",
    "        yLabel = 'Participantes'\n",
    "        xLabel = ''\n",
    "        c1 = 131*100/63431\n",
    "        c2 = 28895*100/716775\n",
    "        graphicGenerator(index, figsize, style, titleA, titleB, yLabel, xLabel)\n",
    "        print(f'{c1:.2f}%', 'dos participantes que NÃO possuem internet conseguiram nota alta.')\n",
    "        print(f'{c2:.2f}%', 'dos participantes que POSSUEM internet conseguiram nota alta.')"
   ]
  }
 ],
 "metadata": {
  "kernelspec": {
   "display_name": "Python 3.10.5 64-bit",
   "language": "python",
   "name": "python3"
  },
  "language_info": {
   "codemirror_mode": {
    "name": "ipython",
    "version": 3
   },
   "file_extension": ".py",
   "mimetype": "text/x-python",
   "name": "python",
   "nbconvert_exporter": "python",
   "pygments_lexer": "ipython3",
   "version": "3.10.5"
  },
  "vscode": {
   "interpreter": {
    "hash": "f0cc6ac6ae42d7b7a2c0ba126ab853cd3055a2361239d2799ab31271d6bd3859"
   }
  }
 },
 "nbformat": 4,
 "nbformat_minor": 4
}
