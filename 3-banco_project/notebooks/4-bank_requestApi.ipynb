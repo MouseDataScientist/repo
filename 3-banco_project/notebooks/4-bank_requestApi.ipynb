{
 "cells": [
  {
   "cell_type": "code",
   "execution_count": 1,
   "metadata": {},
   "outputs": [],
   "source": [
    "import pandas as pd\n",
    "import requests"
   ]
  },
  {
   "cell_type": "code",
   "execution_count": 2,
   "metadata": {},
   "outputs": [],
   "source": [
    "base = pd.read_csv('../data/bank-full.csv_v2')\n",
    "pd.set_option('display.max_columns', None)"
   ]
  },
  {
   "cell_type": "code",
   "execution_count": 3,
   "metadata": {},
   "outputs": [
    {
     "data": {
      "text/html": [
       "<div>\n",
       "<style scoped>\n",
       "    .dataframe tbody tr th:only-of-type {\n",
       "        vertical-align: middle;\n",
       "    }\n",
       "\n",
       "    .dataframe tbody tr th {\n",
       "        vertical-align: top;\n",
       "    }\n",
       "\n",
       "    .dataframe thead th {\n",
       "        text-align: right;\n",
       "    }\n",
       "</style>\n",
       "<table border=\"1\" class=\"dataframe\">\n",
       "  <thead>\n",
       "    <tr style=\"text-align: right;\">\n",
       "      <th></th>\n",
       "      <th>age</th>\n",
       "      <th>education</th>\n",
       "      <th>default</th>\n",
       "      <th>balance</th>\n",
       "      <th>housing</th>\n",
       "      <th>loan</th>\n",
       "      <th>day</th>\n",
       "      <th>month</th>\n",
       "      <th>duration</th>\n",
       "      <th>campaign</th>\n",
       "      <th>pdays</th>\n",
       "      <th>previous</th>\n",
       "      <th>admin.</th>\n",
       "      <th>blue-collar</th>\n",
       "      <th>entrepreneur</th>\n",
       "      <th>housemaid</th>\n",
       "      <th>management</th>\n",
       "      <th>retired</th>\n",
       "      <th>self-employed</th>\n",
       "      <th>services</th>\n",
       "      <th>student</th>\n",
       "      <th>technician</th>\n",
       "      <th>unemployed</th>\n",
       "      <th>divorced</th>\n",
       "      <th>married</th>\n",
       "      <th>single</th>\n",
       "      <th>cellular</th>\n",
       "      <th>telephone</th>\n",
       "      <th>failure</th>\n",
       "      <th>other</th>\n",
       "      <th>success</th>\n",
       "    </tr>\n",
       "  </thead>\n",
       "  <tbody>\n",
       "    <tr>\n",
       "      <th>29629</th>\n",
       "      <td>32</td>\n",
       "      <td>1</td>\n",
       "      <td>0</td>\n",
       "      <td>13565</td>\n",
       "      <td>0</td>\n",
       "      <td>0</td>\n",
       "      <td>3</td>\n",
       "      <td>2</td>\n",
       "      <td>613</td>\n",
       "      <td>2</td>\n",
       "      <td>-1</td>\n",
       "      <td>0</td>\n",
       "      <td>0.0</td>\n",
       "      <td>0.0</td>\n",
       "      <td>0.0</td>\n",
       "      <td>0.0</td>\n",
       "      <td>0.0</td>\n",
       "      <td>0.0</td>\n",
       "      <td>0.0</td>\n",
       "      <td>0.0</td>\n",
       "      <td>0.0</td>\n",
       "      <td>1.0</td>\n",
       "      <td>0.0</td>\n",
       "      <td>0.0</td>\n",
       "      <td>0.0</td>\n",
       "      <td>1.0</td>\n",
       "      <td>1.0</td>\n",
       "      <td>0.0</td>\n",
       "      <td>0.0</td>\n",
       "      <td>0.0</td>\n",
       "      <td>0.0</td>\n",
       "    </tr>\n",
       "  </tbody>\n",
       "</table>\n",
       "</div>"
      ],
      "text/plain": [
       "       age  education  default  balance  housing  loan  day  month  duration  \\\n",
       "29629   32          1        0    13565        0     0    3      2       613   \n",
       "\n",
       "       campaign  pdays  previous  admin.  blue-collar  entrepreneur  \\\n",
       "29629         2     -1         0     0.0          0.0           0.0   \n",
       "\n",
       "       housemaid  management  retired  self-employed  services  student  \\\n",
       "29629        0.0         0.0      0.0            0.0       0.0      0.0   \n",
       "\n",
       "       technician  unemployed  divorced  married  single  cellular  telephone  \\\n",
       "29629         1.0         0.0       0.0      0.0     1.0       1.0        0.0   \n",
       "\n",
       "       failure  other  success  \n",
       "29629      0.0    0.0      0.0  "
      ]
     },
     "execution_count": 3,
     "metadata": {},
     "output_type": "execute_result"
    }
   ],
   "source": [
    "sample = base.drop(['y'], axis=1).sample()\n",
    "sample"
   ]
  },
  {
   "cell_type": "code",
   "execution_count": 4,
   "metadata": {},
   "outputs": [
    {
     "data": {
      "text/plain": [
       "'[{\"age\":32,\"education\":1,\"default\":0,\"balance\":13565,\"housing\":0,\"loan\":0,\"day\":3,\"month\":2,\"duration\":613,\"campaign\":2,\"pdays\":-1,\"previous\":0,\"admin.\":0.0,\"blue-collar\":0.0,\"entrepreneur\":0.0,\"housemaid\":0.0,\"management\":0.0,\"retired\":0.0,\"self-employed\":0.0,\"services\":0.0,\"student\":0.0,\"technician\":1.0,\"unemployed\":0.0,\"divorced\":0.0,\"married\":0.0,\"single\":1.0,\"cellular\":1.0,\"telephone\":0.0,\"failure\":0.0,\"other\":0.0,\"success\":0.0}]'"
      ]
     },
     "execution_count": 4,
     "metadata": {},
     "output_type": "execute_result"
    }
   ],
   "source": [
    "sample_json = sample.to_json(orient='records')\n",
    "sample_json"
   ]
  },
  {
   "cell_type": "code",
   "execution_count": 5,
   "metadata": {},
   "outputs": [
    {
     "data": {
      "text/plain": [
       "200"
      ]
     },
     "execution_count": 5,
     "metadata": {},
     "output_type": "execute_result"
    }
   ],
   "source": [
    "url = 'http://127.0.0.1:5000/predict'\n",
    "data = sample_json\n",
    "header = {'Content-type':'application/json'}\n",
    "\n",
    "response = requests.post(url=url, data=data, headers=header) \n",
    "response.status_code"
   ]
  },
  {
   "cell_type": "code",
   "execution_count": 6,
   "metadata": {},
   "outputs": [
    {
     "data": {
      "text/plain": [
       "[{'age': 32,\n",
       "  'education': 1,\n",
       "  'default': 0,\n",
       "  'balance': 13565,\n",
       "  'housing': 0,\n",
       "  'loan': 0,\n",
       "  'day': 3,\n",
       "  'month': 2,\n",
       "  'duration': 613,\n",
       "  'campaign': 2,\n",
       "  'pdays': -1,\n",
       "  'previous': 0,\n",
       "  'admin.': 0.0,\n",
       "  'blue-collar': 0.0,\n",
       "  'entrepreneur': 0.0,\n",
       "  'housemaid': 0.0,\n",
       "  'management': 0.0,\n",
       "  'retired': 0.0,\n",
       "  'self-employed': 0.0,\n",
       "  'services': 0.0,\n",
       "  'student': 0.0,\n",
       "  'technician': 1.0,\n",
       "  'unemployed': 0.0,\n",
       "  'divorced': 0.0,\n",
       "  'married': 0.0,\n",
       "  'single': 1.0,\n",
       "  'cellular': 1.0,\n",
       "  'telephone': 0.0,\n",
       "  'failure': 0.0,\n",
       "  'other': 0.0,\n",
       "  'success': 0.0,\n",
       "  'y': 'no'}]"
      ]
     },
     "execution_count": 6,
     "metadata": {},
     "output_type": "execute_result"
    }
   ],
   "source": [
    "response.json()"
   ]
  },
  {
   "cell_type": "code",
   "execution_count": 7,
   "metadata": {},
   "outputs": [
    {
     "data": {
      "text/html": [
       "<div>\n",
       "<style scoped>\n",
       "    .dataframe tbody tr th:only-of-type {\n",
       "        vertical-align: middle;\n",
       "    }\n",
       "\n",
       "    .dataframe tbody tr th {\n",
       "        vertical-align: top;\n",
       "    }\n",
       "\n",
       "    .dataframe thead th {\n",
       "        text-align: right;\n",
       "    }\n",
       "</style>\n",
       "<table border=\"1\" class=\"dataframe\">\n",
       "  <thead>\n",
       "    <tr style=\"text-align: right;\">\n",
       "      <th></th>\n",
       "      <th>age</th>\n",
       "      <th>education</th>\n",
       "      <th>default</th>\n",
       "      <th>balance</th>\n",
       "      <th>housing</th>\n",
       "      <th>loan</th>\n",
       "      <th>day</th>\n",
       "      <th>month</th>\n",
       "      <th>duration</th>\n",
       "      <th>campaign</th>\n",
       "      <th>pdays</th>\n",
       "      <th>previous</th>\n",
       "      <th>admin.</th>\n",
       "      <th>blue-collar</th>\n",
       "      <th>entrepreneur</th>\n",
       "      <th>housemaid</th>\n",
       "      <th>management</th>\n",
       "      <th>retired</th>\n",
       "      <th>self-employed</th>\n",
       "      <th>services</th>\n",
       "      <th>student</th>\n",
       "      <th>technician</th>\n",
       "      <th>unemployed</th>\n",
       "      <th>divorced</th>\n",
       "      <th>married</th>\n",
       "      <th>single</th>\n",
       "      <th>cellular</th>\n",
       "      <th>telephone</th>\n",
       "      <th>failure</th>\n",
       "      <th>other</th>\n",
       "      <th>success</th>\n",
       "      <th>y</th>\n",
       "    </tr>\n",
       "  </thead>\n",
       "  <tbody>\n",
       "    <tr>\n",
       "      <th>0</th>\n",
       "      <td>32</td>\n",
       "      <td>1</td>\n",
       "      <td>0</td>\n",
       "      <td>13565</td>\n",
       "      <td>0</td>\n",
       "      <td>0</td>\n",
       "      <td>3</td>\n",
       "      <td>2</td>\n",
       "      <td>613</td>\n",
       "      <td>2</td>\n",
       "      <td>-1</td>\n",
       "      <td>0</td>\n",
       "      <td>0.0</td>\n",
       "      <td>0.0</td>\n",
       "      <td>0.0</td>\n",
       "      <td>0.0</td>\n",
       "      <td>0.0</td>\n",
       "      <td>0.0</td>\n",
       "      <td>0.0</td>\n",
       "      <td>0.0</td>\n",
       "      <td>0.0</td>\n",
       "      <td>1.0</td>\n",
       "      <td>0.0</td>\n",
       "      <td>0.0</td>\n",
       "      <td>0.0</td>\n",
       "      <td>1.0</td>\n",
       "      <td>1.0</td>\n",
       "      <td>0.0</td>\n",
       "      <td>0.0</td>\n",
       "      <td>0.0</td>\n",
       "      <td>0.0</td>\n",
       "      <td>no</td>\n",
       "    </tr>\n",
       "  </tbody>\n",
       "</table>\n",
       "</div>"
      ],
      "text/plain": [
       "   age  education  default  balance  housing  loan  day  month  duration  \\\n",
       "0   32          1        0    13565        0     0    3      2       613   \n",
       "\n",
       "   campaign  pdays  previous  admin.  blue-collar  entrepreneur  housemaid  \\\n",
       "0         2     -1         0     0.0          0.0           0.0        0.0   \n",
       "\n",
       "   management  retired  self-employed  services  student  technician  \\\n",
       "0         0.0      0.0            0.0       0.0      0.0         1.0   \n",
       "\n",
       "   unemployed  divorced  married  single  cellular  telephone  failure  other  \\\n",
       "0         0.0       0.0      0.0     1.0       1.0        0.0      0.0    0.0   \n",
       "\n",
       "   success   y  \n",
       "0      0.0  no  "
      ]
     },
     "execution_count": 7,
     "metadata": {},
     "output_type": "execute_result"
    }
   ],
   "source": [
    "pd.DataFrame(response.json(), columns=response.json()[0].keys())"
   ]
  }
 ],
 "metadata": {
  "kernelspec": {
   "display_name": "Python 3.10.5 64-bit",
   "language": "python",
   "name": "python3"
  },
  "language_info": {
   "codemirror_mode": {
    "name": "ipython",
    "version": 3
   },
   "file_extension": ".py",
   "mimetype": "text/x-python",
   "name": "python",
   "nbconvert_exporter": "python",
   "pygments_lexer": "ipython3",
   "version": "3.10.5"
  },
  "orig_nbformat": 4,
  "vscode": {
   "interpreter": {
    "hash": "f0cc6ac6ae42d7b7a2c0ba126ab853cd3055a2361239d2799ab31271d6bd3859"
   }
  }
 },
 "nbformat": 4,
 "nbformat_minor": 2
}
