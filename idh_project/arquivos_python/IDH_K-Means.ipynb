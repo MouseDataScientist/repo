{
 "cells": [
  {
   "cell_type": "code",
   "execution_count": 1,
   "metadata": {},
   "outputs": [],
   "source": [
    "#Bibliotecas\n",
    "import pandas as pd\n",
    "import numpy as np\n",
    "from sklearn.cluster import KMeans\n",
    "from sklearn.preprocessing import LabelEncoder\n",
    "from sklearn.metrics import confusion_matrix, accuracy_score"
   ]
  },
  {
   "cell_type": "code",
   "execution_count": 2,
   "metadata": {},
   "outputs": [
    {
     "data": {
      "text/html": [
       "<div>\n",
       "<style scoped>\n",
       "    .dataframe tbody tr th:only-of-type {\n",
       "        vertical-align: middle;\n",
       "    }\n",
       "\n",
       "    .dataframe tbody tr th {\n",
       "        vertical-align: top;\n",
       "    }\n",
       "\n",
       "    .dataframe thead th {\n",
       "        text-align: right;\n",
       "    }\n",
       "</style>\n",
       "<table border=\"1\" class=\"dataframe\">\n",
       "  <thead>\n",
       "    <tr style=\"text-align: right;\">\n",
       "      <th></th>\n",
       "      <th>Unnamed: 0</th>\n",
       "      <th>PAÍS</th>\n",
       "      <th>PIB</th>\n",
       "      <th>ILE</th>\n",
       "      <th>IPC</th>\n",
       "      <th>ClassIDH</th>\n",
       "    </tr>\n",
       "  </thead>\n",
       "  <tbody>\n",
       "    <tr>\n",
       "      <th>0</th>\n",
       "      <td>47</td>\n",
       "      <td>Emirados Árabes Unidos</td>\n",
       "      <td>0.005014</td>\n",
       "      <td>7.28</td>\n",
       "      <td>71</td>\n",
       "      <td>Alto</td>\n",
       "    </tr>\n",
       "    <tr>\n",
       "      <th>1</th>\n",
       "      <td>121</td>\n",
       "      <td>Polônia</td>\n",
       "      <td>0.007092</td>\n",
       "      <td>7.20</td>\n",
       "      <td>58</td>\n",
       "      <td>Alto</td>\n",
       "    </tr>\n",
       "    <tr>\n",
       "      <th>2</th>\n",
       "      <td>122</td>\n",
       "      <td>Portugal</td>\n",
       "      <td>0.002916</td>\n",
       "      <td>7.79</td>\n",
       "      <td>62</td>\n",
       "      <td>Alto</td>\n",
       "    </tr>\n",
       "    <tr>\n",
       "      <th>3</th>\n",
       "      <td>57</td>\n",
       "      <td>França</td>\n",
       "      <td>0.030892</td>\n",
       "      <td>7.55</td>\n",
       "      <td>69</td>\n",
       "      <td>Alto</td>\n",
       "    </tr>\n",
       "    <tr>\n",
       "      <th>4</th>\n",
       "      <td>56</td>\n",
       "      <td>Finlândia</td>\n",
       "      <td>0.000332</td>\n",
       "      <td>7.92</td>\n",
       "      <td>86</td>\n",
       "      <td>Alto</td>\n",
       "    </tr>\n",
       "  </tbody>\n",
       "</table>\n",
       "</div>"
      ],
      "text/plain": [
       "   Unnamed: 0                    PAÍS       PIB   ILE  IPC ClassIDH\n",
       "0          47  Emirados Árabes Unidos  0.005014  7.28   71     Alto\n",
       "1         121                 Polônia  0.007092  7.20   58     Alto\n",
       "2         122                Portugal  0.002916  7.79   62     Alto\n",
       "3          57                  França  0.030892  7.55   69     Alto\n",
       "4          56               Finlândia  0.000332  7.92   86     Alto"
      ]
     },
     "execution_count": 2,
     "metadata": {},
     "output_type": "execute_result"
    }
   ],
   "source": [
    "#Carregamento da base de dados\n",
    "base = pd.read_csv('idh_classificado.csv')\n",
    "base.head()"
   ]
  },
  {
   "cell_type": "code",
   "execution_count": 3,
   "metadata": {},
   "outputs": [],
   "source": [
    "#Eliminando coluna Unnamed\n",
    "base.drop(['Unnamed: 0'], axis = 1, inplace = True)"
   ]
  },
  {
   "cell_type": "code",
   "execution_count": 4,
   "metadata": {},
   "outputs": [],
   "source": [
    "#Classe com ordenamento específico para IDH\n",
    "classe_ordenada = pd.CategoricalDtype(categories = ['Alto', 'Médio', 'Baixo'], ordered = True)\n",
    "base['ClassIDH'] = base['ClassIDH'].astype(classe_ordenada)"
   ]
  },
  {
   "cell_type": "code",
   "execution_count": 5,
   "metadata": {},
   "outputs": [
    {
     "data": {
      "text/html": [
       "<div>\n",
       "<style scoped>\n",
       "    .dataframe tbody tr th:only-of-type {\n",
       "        vertical-align: middle;\n",
       "    }\n",
       "\n",
       "    .dataframe tbody tr th {\n",
       "        vertical-align: top;\n",
       "    }\n",
       "\n",
       "    .dataframe thead th {\n",
       "        text-align: right;\n",
       "    }\n",
       "</style>\n",
       "<table border=\"1\" class=\"dataframe\">\n",
       "  <thead>\n",
       "    <tr style=\"text-align: right;\">\n",
       "      <th></th>\n",
       "      <th>PAÍS</th>\n",
       "      <th>PIB</th>\n",
       "      <th>ILE</th>\n",
       "      <th>IPC</th>\n",
       "      <th>ClassIDH</th>\n",
       "    </tr>\n",
       "  </thead>\n",
       "  <tbody>\n",
       "    <tr>\n",
       "      <th>0</th>\n",
       "      <td>Emirados Árabes Unidos</td>\n",
       "      <td>0.005014</td>\n",
       "      <td>7.28</td>\n",
       "      <td>71</td>\n",
       "      <td>Alto</td>\n",
       "    </tr>\n",
       "    <tr>\n",
       "      <th>33</th>\n",
       "      <td>Hong Kong</td>\n",
       "      <td>0.004391</td>\n",
       "      <td>8.91</td>\n",
       "      <td>76</td>\n",
       "      <td>Alto</td>\n",
       "    </tr>\n",
       "    <tr>\n",
       "      <th>34</th>\n",
       "      <td>Holanda</td>\n",
       "      <td>0.010731</td>\n",
       "      <td>7.96</td>\n",
       "      <td>82</td>\n",
       "      <td>Alto</td>\n",
       "    </tr>\n",
       "    <tr>\n",
       "      <th>35</th>\n",
       "      <td>Nova Zelândia</td>\n",
       "      <td>0.002459</td>\n",
       "      <td>8.56</td>\n",
       "      <td>87</td>\n",
       "      <td>Alto</td>\n",
       "    </tr>\n",
       "    <tr>\n",
       "      <th>36</th>\n",
       "      <td>Islândia</td>\n",
       "      <td>0.000314</td>\n",
       "      <td>7.90</td>\n",
       "      <td>78</td>\n",
       "      <td>Alto</td>\n",
       "    </tr>\n",
       "    <tr>\n",
       "      <th>...</th>\n",
       "      <td>...</td>\n",
       "      <td>...</td>\n",
       "      <td>...</td>\n",
       "      <td>...</td>\n",
       "      <td>...</td>\n",
       "    </tr>\n",
       "    <tr>\n",
       "      <th>139</th>\n",
       "      <td>Burundi</td>\n",
       "      <td>0.000041</td>\n",
       "      <td>5.65</td>\n",
       "      <td>19</td>\n",
       "      <td>Baixo</td>\n",
       "    </tr>\n",
       "    <tr>\n",
       "      <th>138</th>\n",
       "      <td>Burkina Faso</td>\n",
       "      <td>0.000171</td>\n",
       "      <td>6.04</td>\n",
       "      <td>40</td>\n",
       "      <td>Baixo</td>\n",
       "    </tr>\n",
       "    <tr>\n",
       "      <th>153</th>\n",
       "      <td>Chade</td>\n",
       "      <td>0.000133</td>\n",
       "      <td>5.60</td>\n",
       "      <td>20</td>\n",
       "      <td>Baixo</td>\n",
       "    </tr>\n",
       "    <tr>\n",
       "      <th>145</th>\n",
       "      <td>Gâmbia</td>\n",
       "      <td>0.000019</td>\n",
       "      <td>7.04</td>\n",
       "      <td>37</td>\n",
       "      <td>Baixo</td>\n",
       "    </tr>\n",
       "    <tr>\n",
       "      <th>154</th>\n",
       "      <td>República Centro-Africana</td>\n",
       "      <td>0.000002</td>\n",
       "      <td>5.36</td>\n",
       "      <td>25</td>\n",
       "      <td>Baixo</td>\n",
       "    </tr>\n",
       "  </tbody>\n",
       "</table>\n",
       "<p>155 rows × 5 columns</p>\n",
       "</div>"
      ],
      "text/plain": [
       "                          PAÍS       PIB   ILE  IPC ClassIDH\n",
       "0       Emirados Árabes Unidos  0.005014  7.28   71     Alto\n",
       "33                   Hong Kong  0.004391  8.91   76     Alto\n",
       "34                     Holanda  0.010731  7.96   82     Alto\n",
       "35               Nova Zelândia  0.002459  8.56   87     Alto\n",
       "36                    Islândia  0.000314  7.90   78     Alto\n",
       "..                         ...       ...   ...  ...      ...\n",
       "139                    Burundi  0.000041  5.65   19    Baixo\n",
       "138               Burkina Faso  0.000171  6.04   40    Baixo\n",
       "153                      Chade  0.000133  5.60   20    Baixo\n",
       "145                     Gâmbia  0.000019  7.04   37    Baixo\n",
       "154  República Centro-Africana  0.000002  5.36   25    Baixo\n",
       "\n",
       "[155 rows x 5 columns]"
      ]
     },
     "execution_count": 5,
     "metadata": {},
     "output_type": "execute_result"
    }
   ],
   "source": [
    "#Modificando o dataframe ordenando pelo IDH do maior para o menor\n",
    "base.sort_values('ClassIDH', ascending = True, inplace = True)\n",
    "base"
   ]
  },
  {
   "cell_type": "code",
   "execution_count": 6,
   "metadata": {},
   "outputs": [
    {
     "data": {
      "text/plain": [
       "ClassIDH\n",
       "Alto     62\n",
       "Médio    76\n",
       "Baixo    17\n",
       "dtype: int64"
      ]
     },
     "execution_count": 6,
     "metadata": {},
     "output_type": "execute_result"
    }
   ],
   "source": [
    "#Visualizando a quantidade por categoria\n",
    "base.groupby(['ClassIDH']).size()"
   ]
  },
  {
   "cell_type": "code",
   "execution_count": 7,
   "metadata": {},
   "outputs": [
    {
     "data": {
      "text/plain": [
       "0       Alto\n",
       "33      Alto\n",
       "34      Alto\n",
       "35      Alto\n",
       "36      Alto\n",
       "       ...  \n",
       "139    Baixo\n",
       "138    Baixo\n",
       "153    Baixo\n",
       "145    Baixo\n",
       "154    Baixo\n",
       "Name: ClassIDH, Length: 155, dtype: category\n",
       "Categories (3, object): ['Alto' < 'Médio' < 'Baixo']"
      ]
     },
     "execution_count": 7,
     "metadata": {},
     "output_type": "execute_result"
    }
   ],
   "source": [
    "#Definindo variáveis independentes e variáveis dependentes\n",
    "agrupadores = base.iloc[:, 2:4]\n",
    "classe = base.iloc[:, 4]\n",
    "classe"
   ]
  },
  {
   "cell_type": "code",
   "execution_count": 8,
   "metadata": {},
   "outputs": [
    {
     "data": {
      "text/plain": [
       "array([0, 0, 0, 0, 0, 0, 0, 0, 0, 0, 0, 0, 0, 0, 0, 0, 0, 0, 0, 0, 0, 0,\n",
       "       0, 0, 0, 0, 0, 0, 0, 0, 0, 0, 0, 0, 0, 0, 0, 0, 0, 0, 0, 0, 0, 0,\n",
       "       0, 0, 0, 0, 0, 0, 0, 0, 0, 0, 0, 0, 0, 0, 0, 0, 0, 0, 2, 2, 2, 2,\n",
       "       2, 2, 2, 2, 2, 2, 2, 2, 2, 2, 2, 2, 2, 2, 2, 2, 2, 2, 2, 2, 2, 2,\n",
       "       2, 2, 2, 2, 2, 2, 2, 2, 2, 2, 2, 2, 2, 2, 2, 2, 2, 2, 2, 2, 2, 2,\n",
       "       2, 2, 2, 2, 2, 2, 2, 2, 2, 2, 2, 2, 2, 2, 2, 2, 2, 2, 2, 2, 2, 2,\n",
       "       2, 2, 2, 2, 2, 2, 1, 1, 1, 1, 1, 1, 1, 1, 1, 1, 1, 1, 1, 1, 1, 1,\n",
       "       1])"
      ]
     },
     "execution_count": 8,
     "metadata": {},
     "output_type": "execute_result"
    }
   ],
   "source": [
    "#Codificando a classe\n",
    "labelencoder = LabelEncoder()\n",
    "classe = labelencoder.fit_transform(classe)\n",
    "classe"
   ]
  },
  {
   "cell_type": "code",
   "execution_count": 9,
   "metadata": {},
   "outputs": [],
   "source": [
    "#Contagem de grupos e quantidade de cada grupo\n",
    "grupos, quantidades = np.unique(classe, return_counts = True)"
   ]
  },
  {
   "cell_type": "code",
   "execution_count": 10,
   "metadata": {},
   "outputs": [
    {
     "data": {
      "text/plain": [
       "array([0, 1, 2])"
      ]
     },
     "execution_count": 10,
     "metadata": {},
     "output_type": "execute_result"
    }
   ],
   "source": [
    "#Quantidade de grupos\n",
    "grupos"
   ]
  },
  {
   "cell_type": "code",
   "execution_count": 11,
   "metadata": {},
   "outputs": [
    {
     "data": {
      "text/plain": [
       "array([62, 17, 76], dtype=int64)"
      ]
     },
     "execution_count": 11,
     "metadata": {},
     "output_type": "execute_result"
    }
   ],
   "source": [
    "#Quantidade de dentro de cada grupo\n",
    "quantidades"
   ]
  },
  {
   "cell_type": "code",
   "execution_count": 12,
   "metadata": {},
   "outputs": [
    {
     "data": {
      "text/plain": [
       "KMeans(n_clusters=3)"
      ]
     },
     "execution_count": 12,
     "metadata": {},
     "output_type": "execute_result"
    }
   ],
   "source": [
    "'''Definindo o número de clusters (grupos) e realizando o agrupamento com K-means utilizando \n",
    "ILE e IPC para o agrupamento'''\n",
    "cluster = KMeans(n_clusters = 3)\n",
    "cluster.fit(agrupadores)"
   ]
  },
  {
   "cell_type": "code",
   "execution_count": 13,
   "metadata": {},
   "outputs": [
    {
     "data": {
      "text/plain": [
       "array([[ 7.9537037 , 76.96296296],\n",
       "       [ 6.4208    , 28.89333333],\n",
       "       [ 7.24169811, 49.71698113]])"
      ]
     },
     "execution_count": 13,
     "metadata": {},
     "output_type": "execute_result"
    }
   ],
   "source": [
    "#Visualizando os centros utilizados pelo agrupador\n",
    "centroides = cluster.cluster_centers_ \n",
    "centroides"
   ]
  },
  {
   "cell_type": "code",
   "execution_count": 14,
   "metadata": {},
   "outputs": [
    {
     "data": {
      "text/plain": [
       "array([0, 0, 0, 0, 0, 2, 2, 0, 2, 2, 2, 0, 1, 0, 2, 0, 0, 2, 0, 2, 0, 1,\n",
       "       0, 0, 1, 2, 2, 2, 2, 0, 0, 0, 0, 2, 2, 2, 0, 0, 0, 0, 2, 2, 0, 2,\n",
       "       2, 2, 0, 2, 2, 2, 2, 2, 2, 0, 2, 2, 2, 2, 0, 2, 1, 2, 2, 2, 1, 1,\n",
       "       1, 1, 2, 1, 2, 1, 1, 1, 1, 1, 1, 1, 1, 1, 1, 1, 1, 0, 2, 1, 1, 2,\n",
       "       2, 1, 2, 1, 1, 2, 2, 2, 1, 1, 1, 1, 1, 1, 2, 1, 2, 1, 1, 1, 2, 1,\n",
       "       1, 1, 1, 1, 1, 2, 2, 1, 1, 1, 1, 1, 1, 1, 2, 1, 2, 1, 1, 2, 1, 1,\n",
       "       1, 1, 1, 2, 1, 1, 1, 1, 1, 1, 1, 1, 1, 1, 1, 1, 1, 1, 1, 2, 1, 1,\n",
       "       1])"
      ]
     },
     "execution_count": 14,
     "metadata": {},
     "output_type": "execute_result"
    }
   ],
   "source": [
    "#Visualizando o agrupamento realizado\n",
    "agrupamento = cluster.labels_\n",
    "agrupamento"
   ]
  },
  {
   "cell_type": "code",
   "execution_count": 15,
   "metadata": {},
   "outputs": [],
   "source": [
    "#Contagem de grupos e quantidades de cada grupo\n",
    "grupos2, quantidades2 = np.unique(agrupamento, return_counts = True)"
   ]
  },
  {
   "cell_type": "code",
   "execution_count": 16,
   "metadata": {},
   "outputs": [
    {
     "data": {
      "text/plain": [
       "array([0, 1, 2])"
      ]
     },
     "execution_count": 16,
     "metadata": {},
     "output_type": "execute_result"
    }
   ],
   "source": [
    "#Quantidade de grupos\n",
    "grupos2"
   ]
  },
  {
   "cell_type": "code",
   "execution_count": 17,
   "metadata": {},
   "outputs": [
    {
     "data": {
      "text/plain": [
       "array([27, 75, 53], dtype=int64)"
      ]
     },
     "execution_count": 17,
     "metadata": {},
     "output_type": "execute_result"
    }
   ],
   "source": [
    "#Quantidades dentro de cada grupo\n",
    "quantidades2"
   ]
  },
  {
   "cell_type": "code",
   "execution_count": 18,
   "metadata": {},
   "outputs": [
    {
     "data": {
      "text/plain": [
       "array([[26,  4, 32],\n",
       "       [ 0, 16,  1],\n",
       "       [ 1, 55, 20]], dtype=int64)"
      ]
     },
     "execution_count": 18,
     "metadata": {},
     "output_type": "execute_result"
    }
   ],
   "source": [
    "#Analisando a matriz de confusão \n",
    "resultados = confusion_matrix(classe, agrupamento)\n",
    "resultados"
   ]
  },
  {
   "cell_type": "code",
   "execution_count": 19,
   "metadata": {},
   "outputs": [
    {
     "data": {
      "text/plain": [
       "0.4"
      ]
     },
     "execution_count": 19,
     "metadata": {},
     "output_type": "execute_result"
    }
   ],
   "source": [
    "#Verificando a performance de acerto do agrupamento K-means\n",
    "taxa_acerto = accuracy_score(classe, agrupamento)\n",
    "taxa_acerto"
   ]
  }
 ],
 "metadata": {
  "kernelspec": {
   "display_name": "Python 3",
   "language": "python",
   "name": "python3"
  },
  "language_info": {
   "codemirror_mode": {
    "name": "ipython",
    "version": 3
   },
   "file_extension": ".py",
   "mimetype": "text/x-python",
   "name": "python",
   "nbconvert_exporter": "python",
   "pygments_lexer": "ipython3",
   "version": "3.8.5"
  }
 },
 "nbformat": 4,
 "nbformat_minor": 4
}
