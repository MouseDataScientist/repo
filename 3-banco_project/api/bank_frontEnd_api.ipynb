{
 "cells": [
  {
   "cell_type": "code",
   "execution_count": 1,
   "metadata": {},
   "outputs": [],
   "source": [
    "import pandas as pd\n",
    "import numpy as np\n",
    "import pickle\n",
    "from flask import Flask, request, render_template"
   ]
  },
  {
   "cell_type": "code",
   "execution_count": 2,
   "metadata": {},
   "outputs": [],
   "source": [
    "model = pickle.load(open('../model/model.pkl', 'rb'))"
   ]
  },
  {
   "cell_type": "code",
   "execution_count": 3,
   "metadata": {},
   "outputs": [
    {
     "name": "stdout",
     "output_type": "stream",
     "text": [
      " * Serving Flask app '__main__' (lazy loading)\n",
      " * Environment: production\n",
      "\u001b[31m   WARNING: This is a development server. Do not use it in a production deployment.\u001b[0m\n",
      "\u001b[2m   Use a production WSGI server instead.\u001b[0m\n",
      " * Debug mode: off\n"
     ]
    },
    {
     "name": "stderr",
     "output_type": "stream",
     "text": [
      " * Running on http://127.0.0.1:5000 (Press CTRL+C to quit)\n",
      "127.0.0.1 - - [06/Feb/2023 16:42:06] \"GET / HTTP/1.1\" 200 -\n",
      "127.0.0.1 - - [06/Feb/2023 16:42:22] \"POST /predict HTTP/1.1\" 200 -\n"
     ]
    },
    {
     "name": "stdout",
     "output_type": "stream",
     "text": [
      "::::::DADOS DE ENTRADA::::::\n",
      "Faixa Etária: 11\n",
      "Escola: 3\n",
      "Renda Fam: 6\n",
      "Computador: 3\n",
      "Internet: 1\n",
      "Previsão de nota: alta\n"
     ]
    }
   ],
   "source": [
    "app = Flask(__name__, template_folder='../templates/')\n",
    "\n",
    "@app.route('/')\n",
    "def homepage():\n",
    "    return render_template('template.html', response=str(''))\n",
    "\n",
    "@app.route('/predict', methods = ['POST'])\n",
    "def predict():\n",
    "\n",
    "    idade = request.form['idade']\n",
    "    escola = request.form['escola']\n",
    "    renda = request.form['renda']\n",
    "    computador = request.form['computador']\n",
    "    internet = request.form['internet']\n",
    "    data = np.array([[idade,escola,renda,computador,internet]])\n",
    "\n",
    "    print('::::::DADOS DE ENTRADA::::::')\n",
    "    print('Faixa Etária: {}'.format(idade))\n",
    "    print('Escola: {}'.format(escola))\n",
    "    print('Renda Fam: {}'.format(renda))\n",
    "    print('Computador: {}'.format(computador))\n",
    "    print('Internet: {}'.format(internet))\n",
    "\n",
    "    classe = model.predict(data)[0]\n",
    "    print('Previsão de nota: {}'.format(str(classe)))\n",
    "\n",
    "    return render_template('template.html', classe=str(classe).upper() + '!')\n",
    "\n",
    "if __name__ == '__main__':\n",
    "    app.run(host='127.0.0.1', port='5000')"
   ]
  }
 ],
 "metadata": {
  "kernelspec": {
   "display_name": "Python 3.10.5 64-bit",
   "language": "python",
   "name": "python3"
  },
  "language_info": {
   "codemirror_mode": {
    "name": "ipython",
    "version": 3
   },
   "file_extension": ".py",
   "mimetype": "text/x-python",
   "name": "python",
   "nbconvert_exporter": "python",
   "pygments_lexer": "ipython3",
   "version": "3.10.5"
  },
  "vscode": {
   "interpreter": {
    "hash": "f0cc6ac6ae42d7b7a2c0ba126ab853cd3055a2361239d2799ab31271d6bd3859"
   }
  }
 },
 "nbformat": 4,
 "nbformat_minor": 4
}
