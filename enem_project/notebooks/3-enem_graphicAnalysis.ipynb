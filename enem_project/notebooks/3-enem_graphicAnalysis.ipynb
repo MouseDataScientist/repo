{
 "cells": [
  {
   "cell_type": "code",
   "execution_count": 1,
   "metadata": {},
   "outputs": [],
   "source": [
    "import pandas as pd\n",
    "import matplotlib.pyplot as plt\n",
    "import seaborn as sns"
   ]
  },
  {
   "cell_type": "code",
   "execution_count": 2,
   "metadata": {},
   "outputs": [
    {
     "data": {
      "text/html": [
       "<div>\n",
       "<style scoped>\n",
       "    .dataframe tbody tr th:only-of-type {\n",
       "        vertical-align: middle;\n",
       "    }\n",
       "\n",
       "    .dataframe tbody tr th {\n",
       "        vertical-align: top;\n",
       "    }\n",
       "\n",
       "    .dataframe thead th {\n",
       "        text-align: right;\n",
       "    }\n",
       "</style>\n",
       "<table border=\"1\" class=\"dataframe\">\n",
       "  <thead>\n",
       "    <tr style=\"text-align: right;\">\n",
       "      <th></th>\n",
       "      <th>TP_FAIXA_ETARIA</th>\n",
       "      <th>TP_ESCOLA</th>\n",
       "      <th>RENDA_FAM</th>\n",
       "      <th>COMPUTADOR</th>\n",
       "      <th>INTERNET</th>\n",
       "      <th>NOTA</th>\n",
       "    </tr>\n",
       "  </thead>\n",
       "  <tbody>\n",
       "    <tr>\n",
       "      <th>0</th>\n",
       "      <td>3</td>\n",
       "      <td>2</td>\n",
       "      <td>1</td>\n",
       "      <td>1</td>\n",
       "      <td>1</td>\n",
       "      <td>média</td>\n",
       "    </tr>\n",
       "    <tr>\n",
       "      <th>1</th>\n",
       "      <td>2</td>\n",
       "      <td>2</td>\n",
       "      <td>2</td>\n",
       "      <td>1</td>\n",
       "      <td>1</td>\n",
       "      <td>média</td>\n",
       "    </tr>\n",
       "    <tr>\n",
       "      <th>2</th>\n",
       "      <td>8</td>\n",
       "      <td>2</td>\n",
       "      <td>1</td>\n",
       "      <td>0</td>\n",
       "      <td>1</td>\n",
       "      <td>baixa</td>\n",
       "    </tr>\n",
       "    <tr>\n",
       "      <th>3</th>\n",
       "      <td>4</td>\n",
       "      <td>2</td>\n",
       "      <td>1</td>\n",
       "      <td>0</td>\n",
       "      <td>1</td>\n",
       "      <td>baixa</td>\n",
       "    </tr>\n",
       "    <tr>\n",
       "      <th>4</th>\n",
       "      <td>2</td>\n",
       "      <td>2</td>\n",
       "      <td>1</td>\n",
       "      <td>1</td>\n",
       "      <td>1</td>\n",
       "      <td>média</td>\n",
       "    </tr>\n",
       "  </tbody>\n",
       "</table>\n",
       "</div>"
      ],
      "text/plain": [
       "   TP_FAIXA_ETARIA  TP_ESCOLA  RENDA_FAM  COMPUTADOR  INTERNET   NOTA\n",
       "0                3          2          1           1         1  média\n",
       "1                2          2          2           1         1  média\n",
       "2                8          2          1           0         1  baixa\n",
       "3                4          2          1           0         1  baixa\n",
       "4                2          2          1           1         1  média"
      ]
     },
     "execution_count": 2,
     "metadata": {},
     "output_type": "execute_result"
    }
   ],
   "source": [
    "base = pd.read_csv('../data/enem_featureSelected.csv')\n",
    "pd.set_option('display.max_rows', 100)\n",
    "base.head()"
   ]
  },
  {
   "cell_type": "code",
   "execution_count": 3,
   "metadata": {},
   "outputs": [],
   "source": [
    "base['TP_FAIXA_ETARIA'].replace({1:'<17',2:'17',3:'18',4:'19',5:'20', \n",
    "                                 6:'21',7:'22',8:'23',9:'24',10:'25', \n",
    "                                 11:'26..30',12:'31..35',13:'36..40',\n",
    "                                 14:'41..45',15:'46..50',16:'51..55',\n",
    "                                 17:'56..60',18:'61..65',19:'66..70',\n",
    "                                 20:'>70'}, inplace = True)"
   ]
  },
  {
   "cell_type": "code",
   "execution_count": 4,
   "metadata": {},
   "outputs": [],
   "source": [
    "base['TP_ESCOLA'].replace({2:'PUBLICA', 3:'PRIVADA'}, inplace = True)"
   ]
  },
  {
   "cell_type": "code",
   "execution_count": 5,
   "metadata": {},
   "outputs": [],
   "source": [
    "base['RENDA_FAM'].replace({0:'A',1:'B',2:'C',3:'D',4:'E',\n",
    "                           5:'F',6:'G',7:'H',8:'I',9:'J',\n",
    "                           10:'K',11:'L',12:'M',13:'N',\n",
    "                           14:'O',15:'P',16:'Q'}, \n",
    "                          inplace = True)"
   ]
  },
  {
   "cell_type": "code",
   "execution_count": 6,
   "metadata": {},
   "outputs": [],
   "source": [
    "base['COMPUTADOR'].replace({0:'NAO',1:'SIM',2:'SIM',3:'SIM',4:'SIM',5:'SIM'}, inplace = True)"
   ]
  },
  {
   "cell_type": "code",
   "execution_count": 7,
   "metadata": {},
   "outputs": [],
   "source": [
    "base['INTERNET'].replace({0:'NAO',1:'SIM'}, inplace = True)"
   ]
  },
  {
   "cell_type": "code",
   "execution_count": 8,
   "metadata": {},
   "outputs": [
    {
     "data": {
      "text/html": [
       "<div>\n",
       "<style scoped>\n",
       "    .dataframe tbody tr th:only-of-type {\n",
       "        vertical-align: middle;\n",
       "    }\n",
       "\n",
       "    .dataframe tbody tr th {\n",
       "        vertical-align: top;\n",
       "    }\n",
       "\n",
       "    .dataframe thead th {\n",
       "        text-align: right;\n",
       "    }\n",
       "</style>\n",
       "<table border=\"1\" class=\"dataframe\">\n",
       "  <thead>\n",
       "    <tr style=\"text-align: right;\">\n",
       "      <th></th>\n",
       "      <th>TP_FAIXA_ETARIA</th>\n",
       "      <th>TP_ESCOLA</th>\n",
       "      <th>RENDA_FAM</th>\n",
       "      <th>COMPUTADOR</th>\n",
       "      <th>INTERNET</th>\n",
       "      <th>NOTA</th>\n",
       "    </tr>\n",
       "  </thead>\n",
       "  <tbody>\n",
       "    <tr>\n",
       "      <th>0</th>\n",
       "      <td>18</td>\n",
       "      <td>PUBLICA</td>\n",
       "      <td>B</td>\n",
       "      <td>SIM</td>\n",
       "      <td>SIM</td>\n",
       "      <td>média</td>\n",
       "    </tr>\n",
       "    <tr>\n",
       "      <th>1</th>\n",
       "      <td>17</td>\n",
       "      <td>PUBLICA</td>\n",
       "      <td>C</td>\n",
       "      <td>SIM</td>\n",
       "      <td>SIM</td>\n",
       "      <td>média</td>\n",
       "    </tr>\n",
       "    <tr>\n",
       "      <th>2</th>\n",
       "      <td>23</td>\n",
       "      <td>PUBLICA</td>\n",
       "      <td>B</td>\n",
       "      <td>NAO</td>\n",
       "      <td>SIM</td>\n",
       "      <td>baixa</td>\n",
       "    </tr>\n",
       "    <tr>\n",
       "      <th>3</th>\n",
       "      <td>19</td>\n",
       "      <td>PUBLICA</td>\n",
       "      <td>B</td>\n",
       "      <td>NAO</td>\n",
       "      <td>SIM</td>\n",
       "      <td>baixa</td>\n",
       "    </tr>\n",
       "    <tr>\n",
       "      <th>4</th>\n",
       "      <td>17</td>\n",
       "      <td>PUBLICA</td>\n",
       "      <td>B</td>\n",
       "      <td>SIM</td>\n",
       "      <td>SIM</td>\n",
       "      <td>média</td>\n",
       "    </tr>\n",
       "  </tbody>\n",
       "</table>\n",
       "</div>"
      ],
      "text/plain": [
       "  TP_FAIXA_ETARIA TP_ESCOLA RENDA_FAM COMPUTADOR INTERNET   NOTA\n",
       "0              18   PUBLICA         B        SIM      SIM  média\n",
       "1              17   PUBLICA         C        SIM      SIM  média\n",
       "2              23   PUBLICA         B        NAO      SIM  baixa\n",
       "3              19   PUBLICA         B        NAO      SIM  baixa\n",
       "4              17   PUBLICA         B        SIM      SIM  média"
      ]
     },
     "execution_count": 8,
     "metadata": {},
     "output_type": "execute_result"
    }
   ],
   "source": [
    "base.head()"
   ]
  },
  {
   "cell_type": "code",
   "execution_count": 9,
   "metadata": {},
   "outputs": [
    {
     "data": {
      "text/plain": [
       "TP_FAIXA_ETARIA\n",
       "17        353207\n",
       "18        331481\n",
       "19         56921\n",
       "20         15720\n",
       "21          4678\n",
       "22          1920\n",
       "23          1008\n",
       "24           739\n",
       "25           529\n",
       "26..30      1640\n",
       "31..35      1039\n",
       "36..40       772\n",
       "41..45       516\n",
       "46..50       379\n",
       "51..55       236\n",
       "56..60       121\n",
       "61..65        43\n",
       "66..70        14\n",
       "<17         9237\n",
       ">70            6\n",
       "dtype: int64"
      ]
     },
     "execution_count": 9,
     "metadata": {},
     "output_type": "execute_result"
    }
   ],
   "source": [
    "#FAIXA ETÁRIA\n",
    "base.groupby('TP_FAIXA_ETARIA').size()"
   ]
  },
  {
   "cell_type": "code",
   "execution_count": 17,
   "metadata": {},
   "outputs": [
    {
     "data": {
      "image/png": "[encoded data removed]",
      "text/plain": [
       "<Figure size 720x720 with 1 Axes>"
      ]
     },
     "metadata": {},
     "output_type": "display_data"
    }
   ],
   "source": [
    "top_10 = base['TP_FAIXA_ETARIA'].value_counts()[:10].index\n",
    "plt.figure(figsize = (10, 10))\n",
    "sns.set_theme(style = 'darkgrid')\n",
    "sns.countplot(x = 'TP_FAIXA_ETARIA', order = top_10, data = base, linewidth = 0)\n",
    "plt.title('TOP 10 FAIXA ETÁRIA')\n",
    "plt.ylabel('Participantes')\n",
    "plt.xlabel('FAIXA ETÁRIA')\n",
    "plt.xticks(rotation = 45)\n",
    "plt.show()"
   ]
  },
  {
   "cell_type": "code",
   "execution_count": 11,
   "metadata": {},
   "outputs": [
    {
     "data": {
      "text/plain": [
       "TP_ESCOLA\n",
       "PRIVADA    167911\n",
       "PUBLICA    612295\n",
       "dtype: int64"
      ]
     },
     "execution_count": 11,
     "metadata": {},
     "output_type": "execute_result"
    }
   ],
   "source": [
    "#ESCOLA\n",
    "base.groupby('TP_ESCOLA').size()"
   ]
  },
  {
   "cell_type": "code",
   "execution_count": 12,
   "metadata": {},
   "outputs": [
    {
     "data": {
      "image/png": "[encoded data removed]",
      "text/plain": [
       "<Figure size 360x360 with 1 Axes>"
      ]
     },
     "metadata": {},
     "output_type": "display_data"
    }
   ],
   "source": [
    "plt.figure(figsize = (5, 5))\n",
    "sns.set_theme(style = 'darkgrid')\n",
    "sns.countplot(x = 'TP_ESCOLA', data = base)\n",
    "plt.title('TIPO DE ESCOLA')\n",
    "plt.ylabel('PARTICIPANTES')\n",
    "plt.xlabel('')\n",
    "plt.show()"
   ]
  },
  {
   "cell_type": "code",
   "execution_count": 13,
   "metadata": {},
   "outputs": [
    {
     "data": {
      "text/plain": [
       "RENDA_FAM\n",
       "A     40999\n",
       "B    194609\n",
       "C    115078\n",
       "D     94108\n",
       "E     50823\n",
       "F     59293\n",
       "G     51725\n",
       "H     41761\n",
       "I     26230\n",
       "J     16242\n",
       "K     12969\n",
       "L     11072\n",
       "M     16620\n",
       "N     10340\n",
       "O     11703\n",
       "P     11720\n",
       "Q     14914\n",
       "dtype: int64"
      ]
     },
     "execution_count": 13,
     "metadata": {},
     "output_type": "execute_result"
    }
   ],
   "source": [
    "#RENDA_FAM\n",
    "base.groupby('RENDA_FAM').size()"
   ]
  },
  {
   "cell_type": "code",
   "execution_count": 35,
   "metadata": {},
   "outputs": [
    {
     "data": {
      "image/png": "[encoded data removed]",
      "text/plain": [
       "<Figure size 360x360 with 1 Axes>"
      ]
     },
     "metadata": {},
     "output_type": "display_data"
    }
   ],
   "source": [
    "top_renda = base.groupby('RENDA_FAM').size().index\n",
    "plt.figure(figsize = (5, 5))\n",
    "sns.set_theme(style = 'darkgrid')\n",
    "sns.countplot(x = 'RENDA_FAM', order = top_renda, data = base)\n",
    "plt.title('RENDA FAMILIAR')\n",
    "plt.ylabel('PARTICIPANTES')\n",
    "plt.xlabel('RENDA')\n",
    "plt.show()"
   ]
  },
  {
   "cell_type": "code",
   "execution_count": 15,
   "metadata": {},
   "outputs": [
    {
     "data": {
      "text/plain": [
       "COMPUTADOR\n",
       "NAO    308287\n",
       "SIM    471919\n",
       "dtype: int64"
      ]
     },
     "execution_count": 15,
     "metadata": {},
     "output_type": "execute_result"
    }
   ],
   "source": [
    "#COMPUTADOR\n",
    "base.groupby('COMPUTADOR').size()"
   ]
  },
  {
   "cell_type": "code",
   "execution_count": 16,
   "metadata": {},
   "outputs": [
    {
     "data": {
      "image/png": "[encoded data removed]",
      "text/plain": [
       "<Figure size 360x360 with 1 Axes>"
      ]
     },
     "metadata": {},
     "output_type": "display_data"
    }
   ],
   "source": [
    "plt.figure(figsize = (5, 5))\n",
    "sns.set_theme(style = 'darkgrid')\n",
    "sns.countplot(x = 'COMPUTADOR', data = base)\n",
    "plt.title('COMPUTADOR')\n",
    "plt.ylabel('PARTICIPANTES')\n",
    "plt.xlabel('')\n",
    "plt.show()"
   ]
  },
  {
   "cell_type": "code",
   "execution_count": 17,
   "metadata": {},
   "outputs": [
    {
     "data": {
      "text/plain": [
       "INTERNET\n",
       "NAO     63431\n",
       "SIM    716775\n",
       "dtype: int64"
      ]
     },
     "execution_count": 17,
     "metadata": {},
     "output_type": "execute_result"
    }
   ],
   "source": [
    "#INTERNET\n",
    "base.groupby('INTERNET').size()"
   ]
  },
  {
   "cell_type": "code",
   "execution_count": 18,
   "metadata": {},
   "outputs": [
    {
     "data": {
      "image/png": "[encoded data removed]",
      "text/plain": [
       "<Figure size 360x360 with 1 Axes>"
      ]
     },
     "metadata": {},
     "output_type": "display_data"
    }
   ],
   "source": [
    "plt.figure(figsize = (5, 5))\n",
    "sns.set_theme(style = 'darkgrid')\n",
    "sns.countplot(x = 'INTERNET', data = base)\n",
    "plt.title('INTERNET')\n",
    "plt.ylabel('PARTICIPANTES')\n",
    "plt.xlabel('')\n",
    "plt.show()"
   ]
  },
  {
   "cell_type": "code",
   "execution_count": 19,
   "metadata": {},
   "outputs": [
    {
     "data": {
      "text/plain": [
       "NOTA\n",
       "alta      29026\n",
       "baixa    310848\n",
       "média    440332\n",
       "dtype: int64"
      ]
     },
     "execution_count": 19,
     "metadata": {},
     "output_type": "execute_result"
    }
   ],
   "source": [
    "#NOTA\n",
    "base.groupby('NOTA').size()"
   ]
  },
  {
   "cell_type": "code",
   "execution_count": 20,
   "metadata": {},
   "outputs": [
    {
     "data": {
      "image/png": "[encoded data removed]",
      "text/plain": [
       "<Figure size 360x360 with 1 Axes>"
      ]
     },
     "metadata": {},
     "output_type": "display_data"
    }
   ],
   "source": [
    "plt.figure(figsize = (5, 5))\n",
    "sns.set_theme(style = 'darkgrid')\n",
    "sns.countplot(x = 'NOTA', data = base)\n",
    "plt.title('NOTAS')\n",
    "plt.ylabel('PARTICIPANTES')\n",
    "plt.xlabel('')\n",
    "plt.show()"
   ]
  },
  {
   "cell_type": "code",
   "execution_count": 21,
   "metadata": {
    "scrolled": true
   },
   "outputs": [
    {
     "data": {
      "text/html": [
       "<div>\n",
       "<style scoped>\n",
       "    .dataframe tbody tr th:only-of-type {\n",
       "        vertical-align: middle;\n",
       "    }\n",
       "\n",
       "    .dataframe tbody tr th {\n",
       "        vertical-align: top;\n",
       "    }\n",
       "\n",
       "    .dataframe thead th {\n",
       "        text-align: right;\n",
       "    }\n",
       "</style>\n",
       "<table border=\"1\" class=\"dataframe\">\n",
       "  <thead>\n",
       "    <tr style=\"text-align: right;\">\n",
       "      <th></th>\n",
       "      <th>TP_FAIXA_ETARIA</th>\n",
       "      <th>NOTA</th>\n",
       "      <th>0</th>\n",
       "    </tr>\n",
       "  </thead>\n",
       "  <tbody>\n",
       "    <tr>\n",
       "      <th>0</th>\n",
       "      <td>17</td>\n",
       "      <td>alta</td>\n",
       "      <td>16435</td>\n",
       "    </tr>\n",
       "    <tr>\n",
       "      <th>1</th>\n",
       "      <td>17</td>\n",
       "      <td>baixa</td>\n",
       "      <td>116755</td>\n",
       "    </tr>\n",
       "    <tr>\n",
       "      <th>2</th>\n",
       "      <td>17</td>\n",
       "      <td>média</td>\n",
       "      <td>220017</td>\n",
       "    </tr>\n",
       "    <tr>\n",
       "      <th>3</th>\n",
       "      <td>18</td>\n",
       "      <td>alta</td>\n",
       "      <td>11095</td>\n",
       "    </tr>\n",
       "    <tr>\n",
       "      <th>4</th>\n",
       "      <td>18</td>\n",
       "      <td>baixa</td>\n",
       "      <td>136946</td>\n",
       "    </tr>\n",
       "    <tr>\n",
       "      <th>5</th>\n",
       "      <td>18</td>\n",
       "      <td>média</td>\n",
       "      <td>183440</td>\n",
       "    </tr>\n",
       "    <tr>\n",
       "      <th>6</th>\n",
       "      <td>19</td>\n",
       "      <td>alta</td>\n",
       "      <td>936</td>\n",
       "    </tr>\n",
       "    <tr>\n",
       "      <th>7</th>\n",
       "      <td>19</td>\n",
       "      <td>baixa</td>\n",
       "      <td>32970</td>\n",
       "    </tr>\n",
       "    <tr>\n",
       "      <th>8</th>\n",
       "      <td>19</td>\n",
       "      <td>média</td>\n",
       "      <td>23015</td>\n",
       "    </tr>\n",
       "    <tr>\n",
       "      <th>9</th>\n",
       "      <td>20</td>\n",
       "      <td>alta</td>\n",
       "      <td>183</td>\n",
       "    </tr>\n",
       "    <tr>\n",
       "      <th>10</th>\n",
       "      <td>20</td>\n",
       "      <td>baixa</td>\n",
       "      <td>10367</td>\n",
       "    </tr>\n",
       "    <tr>\n",
       "      <th>11</th>\n",
       "      <td>20</td>\n",
       "      <td>média</td>\n",
       "      <td>5170</td>\n",
       "    </tr>\n",
       "    <tr>\n",
       "      <th>12</th>\n",
       "      <td>21</td>\n",
       "      <td>alta</td>\n",
       "      <td>10</td>\n",
       "    </tr>\n",
       "    <tr>\n",
       "      <th>13</th>\n",
       "      <td>21</td>\n",
       "      <td>baixa</td>\n",
       "      <td>3459</td>\n",
       "    </tr>\n",
       "    <tr>\n",
       "      <th>14</th>\n",
       "      <td>21</td>\n",
       "      <td>média</td>\n",
       "      <td>1209</td>\n",
       "    </tr>\n",
       "    <tr>\n",
       "      <th>15</th>\n",
       "      <td>22</td>\n",
       "      <td>alta</td>\n",
       "      <td>6</td>\n",
       "    </tr>\n",
       "    <tr>\n",
       "      <th>16</th>\n",
       "      <td>22</td>\n",
       "      <td>baixa</td>\n",
       "      <td>1498</td>\n",
       "    </tr>\n",
       "    <tr>\n",
       "      <th>17</th>\n",
       "      <td>22</td>\n",
       "      <td>média</td>\n",
       "      <td>416</td>\n",
       "    </tr>\n",
       "    <tr>\n",
       "      <th>18</th>\n",
       "      <td>23</td>\n",
       "      <td>baixa</td>\n",
       "      <td>816</td>\n",
       "    </tr>\n",
       "    <tr>\n",
       "      <th>19</th>\n",
       "      <td>23</td>\n",
       "      <td>média</td>\n",
       "      <td>192</td>\n",
       "    </tr>\n",
       "    <tr>\n",
       "      <th>20</th>\n",
       "      <td>24</td>\n",
       "      <td>alta</td>\n",
       "      <td>3</td>\n",
       "    </tr>\n",
       "    <tr>\n",
       "      <th>21</th>\n",
       "      <td>24</td>\n",
       "      <td>baixa</td>\n",
       "      <td>605</td>\n",
       "    </tr>\n",
       "    <tr>\n",
       "      <th>22</th>\n",
       "      <td>24</td>\n",
       "      <td>média</td>\n",
       "      <td>131</td>\n",
       "    </tr>\n",
       "    <tr>\n",
       "      <th>23</th>\n",
       "      <td>25</td>\n",
       "      <td>baixa</td>\n",
       "      <td>450</td>\n",
       "    </tr>\n",
       "    <tr>\n",
       "      <th>24</th>\n",
       "      <td>25</td>\n",
       "      <td>média</td>\n",
       "      <td>79</td>\n",
       "    </tr>\n",
       "    <tr>\n",
       "      <th>25</th>\n",
       "      <td>26..30</td>\n",
       "      <td>alta</td>\n",
       "      <td>1</td>\n",
       "    </tr>\n",
       "    <tr>\n",
       "      <th>26</th>\n",
       "      <td>26..30</td>\n",
       "      <td>baixa</td>\n",
       "      <td>1383</td>\n",
       "    </tr>\n",
       "    <tr>\n",
       "      <th>27</th>\n",
       "      <td>26..30</td>\n",
       "      <td>média</td>\n",
       "      <td>256</td>\n",
       "    </tr>\n",
       "    <tr>\n",
       "      <th>28</th>\n",
       "      <td>31..35</td>\n",
       "      <td>baixa</td>\n",
       "      <td>886</td>\n",
       "    </tr>\n",
       "    <tr>\n",
       "      <th>29</th>\n",
       "      <td>31..35</td>\n",
       "      <td>média</td>\n",
       "      <td>153</td>\n",
       "    </tr>\n",
       "    <tr>\n",
       "      <th>30</th>\n",
       "      <td>36..40</td>\n",
       "      <td>baixa</td>\n",
       "      <td>668</td>\n",
       "    </tr>\n",
       "    <tr>\n",
       "      <th>31</th>\n",
       "      <td>36..40</td>\n",
       "      <td>média</td>\n",
       "      <td>104</td>\n",
       "    </tr>\n",
       "    <tr>\n",
       "      <th>32</th>\n",
       "      <td>41..45</td>\n",
       "      <td>baixa</td>\n",
       "      <td>454</td>\n",
       "    </tr>\n",
       "    <tr>\n",
       "      <th>33</th>\n",
       "      <td>41..45</td>\n",
       "      <td>média</td>\n",
       "      <td>62</td>\n",
       "    </tr>\n",
       "    <tr>\n",
       "      <th>34</th>\n",
       "      <td>46..50</td>\n",
       "      <td>baixa</td>\n",
       "      <td>332</td>\n",
       "    </tr>\n",
       "    <tr>\n",
       "      <th>35</th>\n",
       "      <td>46..50</td>\n",
       "      <td>média</td>\n",
       "      <td>47</td>\n",
       "    </tr>\n",
       "    <tr>\n",
       "      <th>36</th>\n",
       "      <td>51..55</td>\n",
       "      <td>baixa</td>\n",
       "      <td>209</td>\n",
       "    </tr>\n",
       "    <tr>\n",
       "      <th>37</th>\n",
       "      <td>51..55</td>\n",
       "      <td>média</td>\n",
       "      <td>27</td>\n",
       "    </tr>\n",
       "    <tr>\n",
       "      <th>38</th>\n",
       "      <td>56..60</td>\n",
       "      <td>baixa</td>\n",
       "      <td>107</td>\n",
       "    </tr>\n",
       "    <tr>\n",
       "      <th>39</th>\n",
       "      <td>56..60</td>\n",
       "      <td>média</td>\n",
       "      <td>14</td>\n",
       "    </tr>\n",
       "    <tr>\n",
       "      <th>40</th>\n",
       "      <td>61..65</td>\n",
       "      <td>baixa</td>\n",
       "      <td>37</td>\n",
       "    </tr>\n",
       "    <tr>\n",
       "      <th>41</th>\n",
       "      <td>61..65</td>\n",
       "      <td>média</td>\n",
       "      <td>6</td>\n",
       "    </tr>\n",
       "    <tr>\n",
       "      <th>42</th>\n",
       "      <td>66..70</td>\n",
       "      <td>baixa</td>\n",
       "      <td>13</td>\n",
       "    </tr>\n",
       "    <tr>\n",
       "      <th>43</th>\n",
       "      <td>66..70</td>\n",
       "      <td>média</td>\n",
       "      <td>1</td>\n",
       "    </tr>\n",
       "    <tr>\n",
       "      <th>44</th>\n",
       "      <td>&lt;17</td>\n",
       "      <td>alta</td>\n",
       "      <td>357</td>\n",
       "    </tr>\n",
       "    <tr>\n",
       "      <th>45</th>\n",
       "      <td>&lt;17</td>\n",
       "      <td>baixa</td>\n",
       "      <td>2887</td>\n",
       "    </tr>\n",
       "    <tr>\n",
       "      <th>46</th>\n",
       "      <td>&lt;17</td>\n",
       "      <td>média</td>\n",
       "      <td>5993</td>\n",
       "    </tr>\n",
       "    <tr>\n",
       "      <th>47</th>\n",
       "      <td>&gt;70</td>\n",
       "      <td>baixa</td>\n",
       "      <td>6</td>\n",
       "    </tr>\n",
       "  </tbody>\n",
       "</table>\n",
       "</div>"
      ],
      "text/plain": [
       "   TP_FAIXA_ETARIA   NOTA       0\n",
       "0               17   alta   16435\n",
       "1               17  baixa  116755\n",
       "2               17  média  220017\n",
       "3               18   alta   11095\n",
       "4               18  baixa  136946\n",
       "5               18  média  183440\n",
       "6               19   alta     936\n",
       "7               19  baixa   32970\n",
       "8               19  média   23015\n",
       "9               20   alta     183\n",
       "10              20  baixa   10367\n",
       "11              20  média    5170\n",
       "12              21   alta      10\n",
       "13              21  baixa    3459\n",
       "14              21  média    1209\n",
       "15              22   alta       6\n",
       "16              22  baixa    1498\n",
       "17              22  média     416\n",
       "18              23  baixa     816\n",
       "19              23  média     192\n",
       "20              24   alta       3\n",
       "21              24  baixa     605\n",
       "22              24  média     131\n",
       "23              25  baixa     450\n",
       "24              25  média      79\n",
       "25          26..30   alta       1\n",
       "26          26..30  baixa    1383\n",
       "27          26..30  média     256\n",
       "28          31..35  baixa     886\n",
       "29          31..35  média     153\n",
       "30          36..40  baixa     668\n",
       "31          36..40  média     104\n",
       "32          41..45  baixa     454\n",
       "33          41..45  média      62\n",
       "34          46..50  baixa     332\n",
       "35          46..50  média      47\n",
       "36          51..55  baixa     209\n",
       "37          51..55  média      27\n",
       "38          56..60  baixa     107\n",
       "39          56..60  média      14\n",
       "40          61..65  baixa      37\n",
       "41          61..65  média       6\n",
       "42          66..70  baixa      13\n",
       "43          66..70  média       1\n",
       "44             <17   alta     357\n",
       "45             <17  baixa    2887\n",
       "46             <17  média    5993\n",
       "47             >70  baixa       6"
      ]
     },
     "execution_count": 21,
     "metadata": {},
     "output_type": "execute_result"
    }
   ],
   "source": [
    "#NOTA X FAIXA ETÁRIA\n",
    "base.groupby(['TP_FAIXA_ETARIA', 'NOTA']).size().reset_index()"
   ]
  },
  {
   "cell_type": "code",
   "execution_count": 22,
   "metadata": {},
   "outputs": [
    {
     "data": {
      "image/png": "[encoded data removed]",
      "text/plain": [
       "<Figure size 720x720 with 1 Axes>"
      ]
     },
     "metadata": {},
     "output_type": "display_data"
    }
   ],
   "source": [
    "plt.figure(figsize = (10, 10))\n",
    "sns.set_theme(style = 'darkgrid')\n",
    "sns.countplot(x = 'TP_FAIXA_ETARIA', hue = 'NOTA', order = top_10, data = base, linewidth = 0)\n",
    "plt.title('TOP 10 FAIXA ETÁRIA')\n",
    "plt.ylabel('Participantes')\n",
    "plt.xlabel('FAIXA ETÁRIA')\n",
    "plt.show()"
   ]
  },
  {
   "cell_type": "code",
   "execution_count": 23,
   "metadata": {},
   "outputs": [
    {
     "data": {
      "text/html": [
       "<div>\n",
       "<style scoped>\n",
       "    .dataframe tbody tr th:only-of-type {\n",
       "        vertical-align: middle;\n",
       "    }\n",
       "\n",
       "    .dataframe tbody tr th {\n",
       "        vertical-align: top;\n",
       "    }\n",
       "\n",
       "    .dataframe thead th {\n",
       "        text-align: right;\n",
       "    }\n",
       "</style>\n",
       "<table border=\"1\" class=\"dataframe\">\n",
       "  <thead>\n",
       "    <tr style=\"text-align: right;\">\n",
       "      <th></th>\n",
       "      <th>TP_ESCOLA</th>\n",
       "      <th>NOTA</th>\n",
       "      <th>0</th>\n",
       "    </tr>\n",
       "  </thead>\n",
       "  <tbody>\n",
       "    <tr>\n",
       "      <th>0</th>\n",
       "      <td>PRIVADA</td>\n",
       "      <td>alta</td>\n",
       "      <td>20366</td>\n",
       "    </tr>\n",
       "    <tr>\n",
       "      <th>1</th>\n",
       "      <td>PRIVADA</td>\n",
       "      <td>baixa</td>\n",
       "      <td>19703</td>\n",
       "    </tr>\n",
       "    <tr>\n",
       "      <th>2</th>\n",
       "      <td>PRIVADA</td>\n",
       "      <td>média</td>\n",
       "      <td>127842</td>\n",
       "    </tr>\n",
       "    <tr>\n",
       "      <th>3</th>\n",
       "      <td>PUBLICA</td>\n",
       "      <td>alta</td>\n",
       "      <td>8660</td>\n",
       "    </tr>\n",
       "    <tr>\n",
       "      <th>4</th>\n",
       "      <td>PUBLICA</td>\n",
       "      <td>baixa</td>\n",
       "      <td>291145</td>\n",
       "    </tr>\n",
       "    <tr>\n",
       "      <th>5</th>\n",
       "      <td>PUBLICA</td>\n",
       "      <td>média</td>\n",
       "      <td>312490</td>\n",
       "    </tr>\n",
       "  </tbody>\n",
       "</table>\n",
       "</div>"
      ],
      "text/plain": [
       "  TP_ESCOLA   NOTA       0\n",
       "0   PRIVADA   alta   20366\n",
       "1   PRIVADA  baixa   19703\n",
       "2   PRIVADA  média  127842\n",
       "3   PUBLICA   alta    8660\n",
       "4   PUBLICA  baixa  291145\n",
       "5   PUBLICA  média  312490"
      ]
     },
     "execution_count": 23,
     "metadata": {},
     "output_type": "execute_result"
    }
   ],
   "source": [
    "#NOTA X ESCOLA \n",
    "base.groupby(['TP_ESCOLA', 'NOTA']).size().reset_index()"
   ]
  },
  {
   "cell_type": "code",
   "execution_count": 24,
   "metadata": {},
   "outputs": [
    {
     "data": {
      "image/png": "[encoded data removed]",
      "text/plain": [
       "<Figure size 360x360 with 1 Axes>"
      ]
     },
     "metadata": {},
     "output_type": "display_data"
    }
   ],
   "source": [
    "plt.figure(figsize = (5, 5))\n",
    "sns.set_theme(style = 'darkgrid')\n",
    "sns.countplot(x = 'NOTA', hue = 'TP_ESCOLA', data = base)\n",
    "plt.title('NOTAS X ESCOLA')\n",
    "plt.ylabel('PARTICIPANTES')\n",
    "plt.xlabel('NOTA')\n",
    "plt.show()"
   ]
  },
  {
   "cell_type": "code",
   "execution_count": 25,
   "metadata": {},
   "outputs": [
    {
     "name": "stdout",
     "output_type": "stream",
     "text": [
      "12.13 por cento dos participantes de escola PRIVADA conseguiram nota alta.\n",
      "1.41 por cento dos participantes de escola PÚBLICA conseguiram nota alta.\n"
     ]
    }
   ],
   "source": [
    "x = 20366*100/167911\n",
    "y = 8660*100/612295\n",
    "print(f'{x:,.2f} por cento dos participantes de escola PRIVADA conseguiram nota alta.')\n",
    "print(f'{y:,.2f} por cento dos participantes de escola PÚBLICA conseguiram nota alta.')"
   ]
  },
  {
   "cell_type": "code",
   "execution_count": 26,
   "metadata": {
    "scrolled": true
   },
   "outputs": [
    {
     "data": {
      "text/html": [
       "<div>\n",
       "<style scoped>\n",
       "    .dataframe tbody tr th:only-of-type {\n",
       "        vertical-align: middle;\n",
       "    }\n",
       "\n",
       "    .dataframe tbody tr th {\n",
       "        vertical-align: top;\n",
       "    }\n",
       "\n",
       "    .dataframe thead th {\n",
       "        text-align: right;\n",
       "    }\n",
       "</style>\n",
       "<table border=\"1\" class=\"dataframe\">\n",
       "  <thead>\n",
       "    <tr style=\"text-align: right;\">\n",
       "      <th></th>\n",
       "      <th>RENDA_FAM</th>\n",
       "      <th>NOTA</th>\n",
       "      <th>0</th>\n",
       "    </tr>\n",
       "  </thead>\n",
       "  <tbody>\n",
       "    <tr>\n",
       "      <th>0</th>\n",
       "      <td>A</td>\n",
       "      <td>alta</td>\n",
       "      <td>113</td>\n",
       "    </tr>\n",
       "    <tr>\n",
       "      <th>1</th>\n",
       "      <td>A</td>\n",
       "      <td>baixa</td>\n",
       "      <td>29250</td>\n",
       "    </tr>\n",
       "    <tr>\n",
       "      <th>2</th>\n",
       "      <td>A</td>\n",
       "      <td>média</td>\n",
       "      <td>11636</td>\n",
       "    </tr>\n",
       "    <tr>\n",
       "      <th>3</th>\n",
       "      <td>B</td>\n",
       "      <td>alta</td>\n",
       "      <td>822</td>\n",
       "    </tr>\n",
       "    <tr>\n",
       "      <th>4</th>\n",
       "      <td>B</td>\n",
       "      <td>baixa</td>\n",
       "      <td>118660</td>\n",
       "    </tr>\n",
       "    <tr>\n",
       "      <th>5</th>\n",
       "      <td>B</td>\n",
       "      <td>média</td>\n",
       "      <td>75127</td>\n",
       "    </tr>\n",
       "    <tr>\n",
       "      <th>6</th>\n",
       "      <td>C</td>\n",
       "      <td>alta</td>\n",
       "      <td>1015</td>\n",
       "    </tr>\n",
       "    <tr>\n",
       "      <th>7</th>\n",
       "      <td>C</td>\n",
       "      <td>baixa</td>\n",
       "      <td>54162</td>\n",
       "    </tr>\n",
       "    <tr>\n",
       "      <th>8</th>\n",
       "      <td>C</td>\n",
       "      <td>média</td>\n",
       "      <td>59901</td>\n",
       "    </tr>\n",
       "    <tr>\n",
       "      <th>9</th>\n",
       "      <td>D</td>\n",
       "      <td>alta</td>\n",
       "      <td>1277</td>\n",
       "    </tr>\n",
       "    <tr>\n",
       "      <th>10</th>\n",
       "      <td>D</td>\n",
       "      <td>baixa</td>\n",
       "      <td>37797</td>\n",
       "    </tr>\n",
       "    <tr>\n",
       "      <th>11</th>\n",
       "      <td>D</td>\n",
       "      <td>média</td>\n",
       "      <td>55034</td>\n",
       "    </tr>\n",
       "    <tr>\n",
       "      <th>12</th>\n",
       "      <td>E</td>\n",
       "      <td>alta</td>\n",
       "      <td>1086</td>\n",
       "    </tr>\n",
       "    <tr>\n",
       "      <th>13</th>\n",
       "      <td>E</td>\n",
       "      <td>baixa</td>\n",
       "      <td>17158</td>\n",
       "    </tr>\n",
       "    <tr>\n",
       "      <th>14</th>\n",
       "      <td>E</td>\n",
       "      <td>média</td>\n",
       "      <td>32579</td>\n",
       "    </tr>\n",
       "    <tr>\n",
       "      <th>15</th>\n",
       "      <td>F</td>\n",
       "      <td>alta</td>\n",
       "      <td>1575</td>\n",
       "    </tr>\n",
       "    <tr>\n",
       "      <th>16</th>\n",
       "      <td>F</td>\n",
       "      <td>baixa</td>\n",
       "      <td>17707</td>\n",
       "    </tr>\n",
       "    <tr>\n",
       "      <th>17</th>\n",
       "      <td>F</td>\n",
       "      <td>média</td>\n",
       "      <td>40011</td>\n",
       "    </tr>\n",
       "    <tr>\n",
       "      <th>18</th>\n",
       "      <td>G</td>\n",
       "      <td>alta</td>\n",
       "      <td>2123</td>\n",
       "    </tr>\n",
       "    <tr>\n",
       "      <th>19</th>\n",
       "      <td>G</td>\n",
       "      <td>baixa</td>\n",
       "      <td>12676</td>\n",
       "    </tr>\n",
       "    <tr>\n",
       "      <th>20</th>\n",
       "      <td>G</td>\n",
       "      <td>média</td>\n",
       "      <td>36926</td>\n",
       "    </tr>\n",
       "    <tr>\n",
       "      <th>21</th>\n",
       "      <td>H</td>\n",
       "      <td>alta</td>\n",
       "      <td>2452</td>\n",
       "    </tr>\n",
       "    <tr>\n",
       "      <th>22</th>\n",
       "      <td>H</td>\n",
       "      <td>baixa</td>\n",
       "      <td>8338</td>\n",
       "    </tr>\n",
       "    <tr>\n",
       "      <th>23</th>\n",
       "      <td>H</td>\n",
       "      <td>média</td>\n",
       "      <td>30971</td>\n",
       "    </tr>\n",
       "    <tr>\n",
       "      <th>24</th>\n",
       "      <td>I</td>\n",
       "      <td>alta</td>\n",
       "      <td>1909</td>\n",
       "    </tr>\n",
       "    <tr>\n",
       "      <th>25</th>\n",
       "      <td>I</td>\n",
       "      <td>baixa</td>\n",
       "      <td>4473</td>\n",
       "    </tr>\n",
       "    <tr>\n",
       "      <th>26</th>\n",
       "      <td>I</td>\n",
       "      <td>média</td>\n",
       "      <td>19848</td>\n",
       "    </tr>\n",
       "    <tr>\n",
       "      <th>27</th>\n",
       "      <td>J</td>\n",
       "      <td>alta</td>\n",
       "      <td>1407</td>\n",
       "    </tr>\n",
       "    <tr>\n",
       "      <th>28</th>\n",
       "      <td>J</td>\n",
       "      <td>baixa</td>\n",
       "      <td>2399</td>\n",
       "    </tr>\n",
       "    <tr>\n",
       "      <th>29</th>\n",
       "      <td>J</td>\n",
       "      <td>média</td>\n",
       "      <td>12436</td>\n",
       "    </tr>\n",
       "    <tr>\n",
       "      <th>30</th>\n",
       "      <td>K</td>\n",
       "      <td>alta</td>\n",
       "      <td>1280</td>\n",
       "    </tr>\n",
       "    <tr>\n",
       "      <th>31</th>\n",
       "      <td>K</td>\n",
       "      <td>baixa</td>\n",
       "      <td>1760</td>\n",
       "    </tr>\n",
       "    <tr>\n",
       "      <th>32</th>\n",
       "      <td>K</td>\n",
       "      <td>média</td>\n",
       "      <td>9929</td>\n",
       "    </tr>\n",
       "    <tr>\n",
       "      <th>33</th>\n",
       "      <td>L</td>\n",
       "      <td>alta</td>\n",
       "      <td>1236</td>\n",
       "    </tr>\n",
       "    <tr>\n",
       "      <th>34</th>\n",
       "      <td>L</td>\n",
       "      <td>baixa</td>\n",
       "      <td>1329</td>\n",
       "    </tr>\n",
       "    <tr>\n",
       "      <th>35</th>\n",
       "      <td>L</td>\n",
       "      <td>média</td>\n",
       "      <td>8507</td>\n",
       "    </tr>\n",
       "    <tr>\n",
       "      <th>36</th>\n",
       "      <td>M</td>\n",
       "      <td>alta</td>\n",
       "      <td>2266</td>\n",
       "    </tr>\n",
       "    <tr>\n",
       "      <th>37</th>\n",
       "      <td>M</td>\n",
       "      <td>baixa</td>\n",
       "      <td>1748</td>\n",
       "    </tr>\n",
       "    <tr>\n",
       "      <th>38</th>\n",
       "      <td>M</td>\n",
       "      <td>média</td>\n",
       "      <td>12606</td>\n",
       "    </tr>\n",
       "    <tr>\n",
       "      <th>39</th>\n",
       "      <td>N</td>\n",
       "      <td>alta</td>\n",
       "      <td>1627</td>\n",
       "    </tr>\n",
       "    <tr>\n",
       "      <th>40</th>\n",
       "      <td>N</td>\n",
       "      <td>baixa</td>\n",
       "      <td>900</td>\n",
       "    </tr>\n",
       "    <tr>\n",
       "      <th>41</th>\n",
       "      <td>N</td>\n",
       "      <td>média</td>\n",
       "      <td>7813</td>\n",
       "    </tr>\n",
       "    <tr>\n",
       "      <th>42</th>\n",
       "      <td>O</td>\n",
       "      <td>alta</td>\n",
       "      <td>2175</td>\n",
       "    </tr>\n",
       "    <tr>\n",
       "      <th>43</th>\n",
       "      <td>O</td>\n",
       "      <td>baixa</td>\n",
       "      <td>950</td>\n",
       "    </tr>\n",
       "    <tr>\n",
       "      <th>44</th>\n",
       "      <td>O</td>\n",
       "      <td>média</td>\n",
       "      <td>8578</td>\n",
       "    </tr>\n",
       "    <tr>\n",
       "      <th>45</th>\n",
       "      <td>P</td>\n",
       "      <td>alta</td>\n",
       "      <td>2583</td>\n",
       "    </tr>\n",
       "    <tr>\n",
       "      <th>46</th>\n",
       "      <td>P</td>\n",
       "      <td>baixa</td>\n",
       "      <td>773</td>\n",
       "    </tr>\n",
       "    <tr>\n",
       "      <th>47</th>\n",
       "      <td>P</td>\n",
       "      <td>média</td>\n",
       "      <td>8364</td>\n",
       "    </tr>\n",
       "    <tr>\n",
       "      <th>48</th>\n",
       "      <td>Q</td>\n",
       "      <td>alta</td>\n",
       "      <td>4080</td>\n",
       "    </tr>\n",
       "    <tr>\n",
       "      <th>49</th>\n",
       "      <td>Q</td>\n",
       "      <td>baixa</td>\n",
       "      <td>768</td>\n",
       "    </tr>\n",
       "    <tr>\n",
       "      <th>50</th>\n",
       "      <td>Q</td>\n",
       "      <td>média</td>\n",
       "      <td>10066</td>\n",
       "    </tr>\n",
       "  </tbody>\n",
       "</table>\n",
       "</div>"
      ],
      "text/plain": [
       "   RENDA_FAM   NOTA       0\n",
       "0          A   alta     113\n",
       "1          A  baixa   29250\n",
       "2          A  média   11636\n",
       "3          B   alta     822\n",
       "4          B  baixa  118660\n",
       "5          B  média   75127\n",
       "6          C   alta    1015\n",
       "7          C  baixa   54162\n",
       "8          C  média   59901\n",
       "9          D   alta    1277\n",
       "10         D  baixa   37797\n",
       "11         D  média   55034\n",
       "12         E   alta    1086\n",
       "13         E  baixa   17158\n",
       "14         E  média   32579\n",
       "15         F   alta    1575\n",
       "16         F  baixa   17707\n",
       "17         F  média   40011\n",
       "18         G   alta    2123\n",
       "19         G  baixa   12676\n",
       "20         G  média   36926\n",
       "21         H   alta    2452\n",
       "22         H  baixa    8338\n",
       "23         H  média   30971\n",
       "24         I   alta    1909\n",
       "25         I  baixa    4473\n",
       "26         I  média   19848\n",
       "27         J   alta    1407\n",
       "28         J  baixa    2399\n",
       "29         J  média   12436\n",
       "30         K   alta    1280\n",
       "31         K  baixa    1760\n",
       "32         K  média    9929\n",
       "33         L   alta    1236\n",
       "34         L  baixa    1329\n",
       "35         L  média    8507\n",
       "36         M   alta    2266\n",
       "37         M  baixa    1748\n",
       "38         M  média   12606\n",
       "39         N   alta    1627\n",
       "40         N  baixa     900\n",
       "41         N  média    7813\n",
       "42         O   alta    2175\n",
       "43         O  baixa     950\n",
       "44         O  média    8578\n",
       "45         P   alta    2583\n",
       "46         P  baixa     773\n",
       "47         P  média    8364\n",
       "48         Q   alta    4080\n",
       "49         Q  baixa     768\n",
       "50         Q  média   10066"
      ]
     },
     "execution_count": 26,
     "metadata": {},
     "output_type": "execute_result"
    }
   ],
   "source": [
    "#NOTA X RENDA_FAM\n",
    "base.groupby(['RENDA_FAM', 'NOTA']).size().reset_index()"
   ]
  },
  {
   "cell_type": "code",
   "execution_count": 27,
   "metadata": {},
   "outputs": [
    {
     "data": {
      "image/png": "[encoded data removed]",
      "text/plain": [
       "<Figure size 720x720 with 1 Axes>"
      ]
     },
     "metadata": {},
     "output_type": "display_data"
    }
   ],
   "source": [
    "plt.figure(figsize = (10, 10))\n",
    "sns.set_theme(style = 'darkgrid')\n",
    "sns.countplot(x = 'RENDA_FAM', hue = 'NOTA', order = top_renda, data = base, linewidth = 0)\n",
    "plt.title('NOTAS X RENDA FAMILIAR')\n",
    "plt.ylabel('PARTICIPANTES')\n",
    "plt.xlabel('RENDA')\n",
    "plt.show()"
   ]
  },
  {
   "cell_type": "code",
   "execution_count": 28,
   "metadata": {},
   "outputs": [
    {
     "name": "stdout",
     "output_type": "stream",
     "text": [
      "0.42 por cento dos participantes que possuem renda ATÉ R$1.100,00 conseguiram nota alta.\n",
      "27.36 por cento dos participantes que possuem renda ACIMA DE R$22.000,00 conseguiram nota alta.\n"
     ]
    }
   ],
   "source": [
    "x = 822*100/194609\n",
    "y = 4080*100/14914\n",
    "print(f'{x:,.2f} por cento dos participantes que possuem renda ATÉ R$1.100,00 conseguiram nota alta.')\n",
    "print(f'{y:,.2f} por cento dos participantes que possuem renda ACIMA DE R$22.000,00 conseguiram nota alta.')"
   ]
  },
  {
   "cell_type": "code",
   "execution_count": 29,
   "metadata": {},
   "outputs": [
    {
     "data": {
      "text/html": [
       "<div>\n",
       "<style scoped>\n",
       "    .dataframe tbody tr th:only-of-type {\n",
       "        vertical-align: middle;\n",
       "    }\n",
       "\n",
       "    .dataframe tbody tr th {\n",
       "        vertical-align: top;\n",
       "    }\n",
       "\n",
       "    .dataframe thead th {\n",
       "        text-align: right;\n",
       "    }\n",
       "</style>\n",
       "<table border=\"1\" class=\"dataframe\">\n",
       "  <thead>\n",
       "    <tr style=\"text-align: right;\">\n",
       "      <th></th>\n",
       "      <th>COMPUTADOR</th>\n",
       "      <th>NOTA</th>\n",
       "      <th>0</th>\n",
       "    </tr>\n",
       "  </thead>\n",
       "  <tbody>\n",
       "    <tr>\n",
       "      <th>0</th>\n",
       "      <td>NAO</td>\n",
       "      <td>alta</td>\n",
       "      <td>1234</td>\n",
       "    </tr>\n",
       "    <tr>\n",
       "      <th>1</th>\n",
       "      <td>NAO</td>\n",
       "      <td>baixa</td>\n",
       "      <td>184873</td>\n",
       "    </tr>\n",
       "    <tr>\n",
       "      <th>2</th>\n",
       "      <td>NAO</td>\n",
       "      <td>média</td>\n",
       "      <td>122180</td>\n",
       "    </tr>\n",
       "    <tr>\n",
       "      <th>3</th>\n",
       "      <td>SIM</td>\n",
       "      <td>alta</td>\n",
       "      <td>27792</td>\n",
       "    </tr>\n",
       "    <tr>\n",
       "      <th>4</th>\n",
       "      <td>SIM</td>\n",
       "      <td>baixa</td>\n",
       "      <td>125975</td>\n",
       "    </tr>\n",
       "    <tr>\n",
       "      <th>5</th>\n",
       "      <td>SIM</td>\n",
       "      <td>média</td>\n",
       "      <td>318152</td>\n",
       "    </tr>\n",
       "  </tbody>\n",
       "</table>\n",
       "</div>"
      ],
      "text/plain": [
       "  COMPUTADOR   NOTA       0\n",
       "0        NAO   alta    1234\n",
       "1        NAO  baixa  184873\n",
       "2        NAO  média  122180\n",
       "3        SIM   alta   27792\n",
       "4        SIM  baixa  125975\n",
       "5        SIM  média  318152"
      ]
     },
     "execution_count": 29,
     "metadata": {},
     "output_type": "execute_result"
    }
   ],
   "source": [
    "#NOTA X COMPUTADOR\n",
    "base.groupby(['COMPUTADOR', 'NOTA']).size().reset_index()"
   ]
  },
  {
   "cell_type": "code",
   "execution_count": 30,
   "metadata": {},
   "outputs": [
    {
     "data": {
      "image/png": "[encoded data removed]",
      "text/plain": [
       "<Figure size 360x360 with 1 Axes>"
      ]
     },
     "metadata": {},
     "output_type": "display_data"
    }
   ],
   "source": [
    "plt.figure(figsize = (5, 5))\n",
    "sns.set_theme(style = 'darkgrid')\n",
    "sns.countplot(x = 'NOTA', hue = 'COMPUTADOR', data = base)\n",
    "plt.title('NOTAS X COMPUTADOR')\n",
    "plt.ylabel('PARTICIPANTES')\n",
    "plt.xlabel('NOTA')\n",
    "plt.show()"
   ]
  },
  {
   "cell_type": "code",
   "execution_count": 31,
   "metadata": {},
   "outputs": [
    {
     "name": "stdout",
     "output_type": "stream",
     "text": [
      "0.40 por cento dos participantes que NÃO possuem computador conseguiram nota alta.\n",
      "5.89 por cento dos participantes que POSSUEM computador conseguiram nota alta.\n"
     ]
    }
   ],
   "source": [
    "x = 1234*100/308287\n",
    "y = 27792*100/471919\n",
    "print(f'{x:,.2f} por cento dos participantes que NÃO possuem computador conseguiram nota alta.')\n",
    "print(f'{y:,.2f} por cento dos participantes que POSSUEM computador conseguiram nota alta.')"
   ]
  },
  {
   "cell_type": "code",
   "execution_count": 32,
   "metadata": {},
   "outputs": [
    {
     "data": {
      "text/html": [
       "<div>\n",
       "<style scoped>\n",
       "    .dataframe tbody tr th:only-of-type {\n",
       "        vertical-align: middle;\n",
       "    }\n",
       "\n",
       "    .dataframe tbody tr th {\n",
       "        vertical-align: top;\n",
       "    }\n",
       "\n",
       "    .dataframe thead th {\n",
       "        text-align: right;\n",
       "    }\n",
       "</style>\n",
       "<table border=\"1\" class=\"dataframe\">\n",
       "  <thead>\n",
       "    <tr style=\"text-align: right;\">\n",
       "      <th></th>\n",
       "      <th>INTERNET</th>\n",
       "      <th>NOTA</th>\n",
       "      <th>0</th>\n",
       "    </tr>\n",
       "  </thead>\n",
       "  <tbody>\n",
       "    <tr>\n",
       "      <th>0</th>\n",
       "      <td>NAO</td>\n",
       "      <td>alta</td>\n",
       "      <td>131</td>\n",
       "    </tr>\n",
       "    <tr>\n",
       "      <th>1</th>\n",
       "      <td>NAO</td>\n",
       "      <td>baixa</td>\n",
       "      <td>44425</td>\n",
       "    </tr>\n",
       "    <tr>\n",
       "      <th>2</th>\n",
       "      <td>NAO</td>\n",
       "      <td>média</td>\n",
       "      <td>18875</td>\n",
       "    </tr>\n",
       "    <tr>\n",
       "      <th>3</th>\n",
       "      <td>SIM</td>\n",
       "      <td>alta</td>\n",
       "      <td>28895</td>\n",
       "    </tr>\n",
       "    <tr>\n",
       "      <th>4</th>\n",
       "      <td>SIM</td>\n",
       "      <td>baixa</td>\n",
       "      <td>266423</td>\n",
       "    </tr>\n",
       "    <tr>\n",
       "      <th>5</th>\n",
       "      <td>SIM</td>\n",
       "      <td>média</td>\n",
       "      <td>421457</td>\n",
       "    </tr>\n",
       "  </tbody>\n",
       "</table>\n",
       "</div>"
      ],
      "text/plain": [
       "  INTERNET   NOTA       0\n",
       "0      NAO   alta     131\n",
       "1      NAO  baixa   44425\n",
       "2      NAO  média   18875\n",
       "3      SIM   alta   28895\n",
       "4      SIM  baixa  266423\n",
       "5      SIM  média  421457"
      ]
     },
     "execution_count": 32,
     "metadata": {},
     "output_type": "execute_result"
    }
   ],
   "source": [
    "#NOTA X INTERNET\n",
    "base.groupby(['INTERNET', 'NOTA']).size().reset_index()"
   ]
  },
  {
   "cell_type": "code",
   "execution_count": 33,
   "metadata": {},
   "outputs": [
    {
     "data": {
      "image/png": "[encoded data removed]",
      "text/plain": [
       "<Figure size 360x360 with 1 Axes>"
      ]
     },
     "metadata": {},
     "output_type": "display_data"
    }
   ],
   "source": [
    "plt.figure(figsize = (5, 5))\n",
    "sns.set_theme(style = 'darkgrid')\n",
    "sns.countplot(x = 'NOTA', hue = 'INTERNET', data = base)\n",
    "plt.title('NOTAS X INTERNET')\n",
    "plt.ylabel('PARTICIPANTES')\n",
    "plt.xlabel('NOTA')\n",
    "plt.show()"
   ]
  },
  {
   "cell_type": "code",
   "execution_count": 34,
   "metadata": {},
   "outputs": [
    {
     "name": "stdout",
     "output_type": "stream",
     "text": [
      "0.21 por cento dos participantes que NÃO possuem internet conseguiram nota alta.\n",
      "4.03 por cento dos participantes que POSSUEM internet conseguiram nota alta.\n"
     ]
    }
   ],
   "source": [
    "x = 131*100/63431\n",
    "y = 28895*100/716775\n",
    "print(f'{x:,.2f} por cento dos participantes que NÃO possuem internet conseguiram nota alta.')\n",
    "print(f'{y:,.2f} por cento dos participantes que POSSUEM internet conseguiram nota alta.')"
   ]
  }
 ],
 "metadata": {
  "kernelspec": {
   "display_name": "Python 3.10.5 64-bit",
   "language": "python",
   "name": "python3"
  },
  "language_info": {
   "codemirror_mode": {
    "name": "ipython",
    "version": 3
   },
   "file_extension": ".py",
   "mimetype": "text/x-python",
   "name": "python",
   "nbconvert_exporter": "python",
   "pygments_lexer": "ipython3",
   "version": "3.10.5"
  },
  "vscode": {
   "interpreter": {
    "hash": "f0cc6ac6ae42d7b7a2c0ba126ab853cd3055a2361239d2799ab31271d6bd3859"
   }
  }
 },
 "nbformat": 4,
 "nbformat_minor": 4
}
