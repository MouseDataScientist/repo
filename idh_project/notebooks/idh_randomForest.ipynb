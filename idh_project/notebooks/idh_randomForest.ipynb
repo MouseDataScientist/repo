{
 "cells": [
  {
   "cell_type": "code",
   "execution_count": 1,
   "metadata": {},
   "outputs": [],
   "source": [
    "#Bibliotecas\n",
    "import pandas as pd\n",
    "import numpy as np\n",
    "from sklearn.model_selection import train_test_split\n",
    "from sklearn.ensemble import RandomForestClassifier\n",
    "from sklearn.metrics import confusion_matrix, accuracy_score\n",
    "from sklearn.ensemble import ExtraTreesClassifier"
   ]
  },
  {
   "cell_type": "code",
   "execution_count": 2,
   "metadata": {},
   "outputs": [
    {
     "data": {
      "text/html": [
       "<div>\n",
       "<style scoped>\n",
       "    .dataframe tbody tr th:only-of-type {\n",
       "        vertical-align: middle;\n",
       "    }\n",
       "\n",
       "    .dataframe tbody tr th {\n",
       "        vertical-align: top;\n",
       "    }\n",
       "\n",
       "    .dataframe thead th {\n",
       "        text-align: right;\n",
       "    }\n",
       "</style>\n",
       "<table border=\"1\" class=\"dataframe\">\n",
       "  <thead>\n",
       "    <tr style=\"text-align: right;\">\n",
       "      <th></th>\n",
       "      <th>Unnamed: 0</th>\n",
       "      <th>PAÍS</th>\n",
       "      <th>PIB</th>\n",
       "      <th>ILE</th>\n",
       "      <th>IPC</th>\n",
       "      <th>ClassIDH</th>\n",
       "    </tr>\n",
       "  </thead>\n",
       "  <tbody>\n",
       "    <tr>\n",
       "      <th>0</th>\n",
       "      <td>47</td>\n",
       "      <td>Emirados Árabes Unidos</td>\n",
       "      <td>0.005014</td>\n",
       "      <td>7.28</td>\n",
       "      <td>71</td>\n",
       "      <td>Alto</td>\n",
       "    </tr>\n",
       "    <tr>\n",
       "      <th>1</th>\n",
       "      <td>121</td>\n",
       "      <td>Polônia</td>\n",
       "      <td>0.007092</td>\n",
       "      <td>7.20</td>\n",
       "      <td>58</td>\n",
       "      <td>Alto</td>\n",
       "    </tr>\n",
       "    <tr>\n",
       "      <th>2</th>\n",
       "      <td>122</td>\n",
       "      <td>Portugal</td>\n",
       "      <td>0.002916</td>\n",
       "      <td>7.79</td>\n",
       "      <td>62</td>\n",
       "      <td>Alto</td>\n",
       "    </tr>\n",
       "    <tr>\n",
       "      <th>3</th>\n",
       "      <td>57</td>\n",
       "      <td>França</td>\n",
       "      <td>0.030892</td>\n",
       "      <td>7.55</td>\n",
       "      <td>69</td>\n",
       "      <td>Alto</td>\n",
       "    </tr>\n",
       "    <tr>\n",
       "      <th>4</th>\n",
       "      <td>56</td>\n",
       "      <td>Finlândia</td>\n",
       "      <td>0.000332</td>\n",
       "      <td>7.92</td>\n",
       "      <td>86</td>\n",
       "      <td>Alto</td>\n",
       "    </tr>\n",
       "  </tbody>\n",
       "</table>\n",
       "</div>"
      ],
      "text/plain": [
       "   Unnamed: 0                    PAÍS       PIB   ILE  IPC ClassIDH\n",
       "0          47  Emirados Árabes Unidos  0.005014  7.28   71     Alto\n",
       "1         121                 Polônia  0.007092  7.20   58     Alto\n",
       "2         122                Portugal  0.002916  7.79   62     Alto\n",
       "3          57                  França  0.030892  7.55   69     Alto\n",
       "4          56               Finlândia  0.000332  7.92   86     Alto"
      ]
     },
     "execution_count": 2,
     "metadata": {},
     "output_type": "execute_result"
    }
   ],
   "source": [
    "#Carregamento da base de dados\n",
    "base = pd.read_csv('idh_classificado.csv')\n",
    "base.head()"
   ]
  },
  {
   "cell_type": "code",
   "execution_count": 3,
   "metadata": {},
   "outputs": [],
   "source": [
    "#Dropando a coluna Unnamed\n",
    "base.drop(['Unnamed: 0'], axis = 1, inplace = True)"
   ]
  },
  {
   "cell_type": "code",
   "execution_count": 4,
   "metadata": {
    "scrolled": true
   },
   "outputs": [
    {
     "data": {
      "text/plain": [
       "array([[ 7.28, 71.  ],\n",
       "       [ 7.2 , 58.  ],\n",
       "       [ 7.79, 62.  ],\n",
       "       [ 7.55, 69.  ],\n",
       "       [ 7.92, 86.  ],\n",
       "       [ 8.11, 74.  ],\n",
       "       [ 8.24, 69.  ],\n",
       "       [ 7.89, 62.  ],\n",
       "       [ 7.43, 60.  ],\n",
       "       [ 7.61, 50.  ],\n",
       "       [ 8.15, 77.  ],\n",
       "       [ 8.03, 54.  ],\n",
       "       [ 7.87, 56.  ],\n",
       "       [ 7.88, 44.  ],\n",
       "       [ 8.17, 87.  ],\n",
       "       [ 7.36, 47.  ],\n",
       "       [ 8.26, 56.  ],\n",
       "       [ 7.15, 48.  ],\n",
       "       [ 7.79, 36.  ],\n",
       "       [ 6.69, 52.  ],\n",
       "       [ 7.84, 80.  ],\n",
       "       [ 8.21, 60.  ],\n",
       "       [ 7.94, 56.  ],\n",
       "       [ 6.72, 40.  ],\n",
       "       [ 7.64, 45.  ],\n",
       "       [ 7.98, 73.  ],\n",
       "       [ 7.61, 53.  ],\n",
       "       [ 7.68, 56.  ],\n",
       "       [ 7.63, 60.  ],\n",
       "       [ 8.21, 74.  ],\n",
       "       [ 8.16, 52.  ],\n",
       "       [ 7.72, 84.  ],\n",
       "       [ 7.53, 44.  ],\n",
       "       [ 8.91, 76.  ],\n",
       "       [ 7.96, 82.  ],\n",
       "       [ 8.56, 87.  ],\n",
       "       [ 7.9 , 78.  ],\n",
       "       [ 7.61, 59.  ],\n",
       "       [ 7.52, 53.  ],\n",
       "       [ 8.2 , 77.  ],\n",
       "       [ 6.85, 53.  ],\n",
       "       [ 7.3 , 60.  ],\n",
       "       [ 7.76, 43.  ],\n",
       "       [ 7.56, 64.  ],\n",
       "       [ 6.7 , 28.  ],\n",
       "       [ 7.62, 75.  ],\n",
       "       [ 8.48, 85.  ],\n",
       "       [ 7.72, 85.  ],\n",
       "       [ 7.86, 77.  ],\n",
       "       [ 7.36, 71.  ],\n",
       "       [ 6.91, 62.  ],\n",
       "       [ 8.06, 77.  ],\n",
       "       [ 7.09, 62.  ],\n",
       "       [ 7.91, 80.  ],\n",
       "       [ 7.52, 34.  ],\n",
       "       [ 8.81, 85.  ],\n",
       "       [ 7.85, 67.  ],\n",
       "       [ 7.22, 39.  ],\n",
       "       [ 7.89, 58.  ],\n",
       "       [ 7.33, 42.  ],\n",
       "       [ 6.88, 45.  ],\n",
       "       [ 5.5 , 45.  ],\n",
       "       [ 7.35, 53.  ],\n",
       "       [ 6.76, 52.  ],\n",
       "       [ 6.2 , 30.  ],\n",
       "       [ 7.38, 35.  ],\n",
       "       [ 5.94, 29.  ],\n",
       "       [ 7.3 , 32.  ],\n",
       "       [ 7.2 , 29.  ],\n",
       "       [ 6.49, 28.  ],\n",
       "       [ 6.69, 41.  ],\n",
       "       [ 6.26, 37.  ],\n",
       "       [ 7.42, 28.  ],\n",
       "       [ 6.71, 34.  ],\n",
       "       [ 7.27, 40.  ],\n",
       "       [ 6.97, 26.  ],\n",
       "       [ 6.25, 45.  ],\n",
       "       [ 7.58, 28.  ],\n",
       "       [ 5.19, 13.  ],\n",
       "       [ 6.78, 38.  ],\n",
       "       [ 4.19, 16.  ],\n",
       "       [ 7.17, 30.  ],\n",
       "       [ 6.94, 28.  ],\n",
       "       [ 6.14, 44.  ],\n",
       "       [ 6.87, 36.  ],\n",
       "       [ 7.78, 36.  ],\n",
       "       [ 6.5 , 25.  ],\n",
       "       [ 6.75, 37.  ],\n",
       "       [ 7.22, 28.  ],\n",
       "       [ 5.95, 32.  ],\n",
       "       [ 6.19, 38.  ],\n",
       "       [ 6.23, 28.  ],\n",
       "       [ 5.97, 43.  ],\n",
       "       [ 7.04, 22.  ],\n",
       "       [ 6.97, 44.  ],\n",
       "       [ 5.74, 20.  ],\n",
       "       [ 4.94, 24.  ],\n",
       "       [ 6.69, 41.  ],\n",
       "       [ 6.28, 31.  ],\n",
       "       [ 5.8 , 31.  ],\n",
       "       [ 7.42, 34.  ],\n",
       "       [ 6.86, 36.  ],\n",
       "       [ 6.68, 38.  ],\n",
       "       [ 6.33, 24.  ],\n",
       "       [ 7.62, 61.  ],\n",
       "       [ 7.39, 34.  ],\n",
       "       [ 5.68, 35.  ],\n",
       "       [ 6.68, 30.  ],\n",
       "       [ 6.63, 35.  ],\n",
       "       [ 6.55, 25.  ],\n",
       "       [ 6.82, 37.  ],\n",
       "       [ 6.53, 41.  ],\n",
       "       [ 7.22, 20.  ],\n",
       "       [ 5.86, 25.  ],\n",
       "       [ 7.8 , 26.  ],\n",
       "       [ 7.65, 58.  ],\n",
       "       [ 6.52, 40.  ],\n",
       "       [ 6.05, 26.  ],\n",
       "       [ 7.81, 35.  ],\n",
       "       [ 7.13, 35.  ],\n",
       "       [ 4.79, 18.  ],\n",
       "       [ 5.5 , 26.  ],\n",
       "       [ 6.76, 28.  ],\n",
       "       [ 4.9 , 35.  ],\n",
       "       [ 6.57, 40.  ],\n",
       "       [ 6.62, 41.  ],\n",
       "       [ 7.59, 48.  ],\n",
       "       [ 6.6 , 29.  ],\n",
       "       [ 7.09, 34.  ],\n",
       "       [ 5.06, 26.  ],\n",
       "       [ 7.26, 40.  ],\n",
       "       [ 8.03, 42.  ],\n",
       "       [ 6.66, 41.  ],\n",
       "       [ 6.44, 30.  ],\n",
       "       [ 7.26, 26.  ],\n",
       "       [ 6.51, 18.  ],\n",
       "       [ 7.71, 43.  ],\n",
       "       [ 6.82, 68.  ],\n",
       "       [ 6.04, 40.  ],\n",
       "       [ 5.65, 19.  ],\n",
       "       [ 5.96, 31.  ],\n",
       "       [ 6.15, 33.  ],\n",
       "       [ 5.08, 19.  ],\n",
       "       [ 5.36, 18.  ],\n",
       "       [ 5.87, 37.  ],\n",
       "       [ 7.04, 37.  ],\n",
       "       [ 5.62, 29.  ],\n",
       "       [ 6.06, 18.  ],\n",
       "       [ 5.45, 15.  ],\n",
       "       [ 5.97, 32.  ],\n",
       "       [ 6.15, 26.  ],\n",
       "       [ 6.35, 28.  ],\n",
       "       [ 5.83, 29.  ],\n",
       "       [ 5.6 , 20.  ],\n",
       "       [ 5.36, 25.  ]])"
      ]
     },
     "execution_count": 4,
     "metadata": {},
     "output_type": "execute_result"
    }
   ],
   "source": [
    "#Definindo variáveis independentes e variáveis dependentes\n",
    "X = base.iloc[:,2:4].values\n",
    "y = base.iloc[:,4].values\n",
    "X"
   ]
  },
  {
   "cell_type": "code",
   "execution_count": 5,
   "metadata": {},
   "outputs": [],
   "source": [
    "#Dividindo dados entre treino e teste definindo 30% para teste\n",
    "X_treino, X_teste, y_treino, y_teste = train_test_split(X, \n",
    "                                                        y, \n",
    "                                                        test_size = 0.2, \n",
    "                                                        random_state = 1)"
   ]
  },
  {
   "cell_type": "code",
   "execution_count": 6,
   "metadata": {},
   "outputs": [
    {
     "data": {
      "text/plain": [
       "RandomForestClassifier()"
      ]
     },
     "execution_count": 6,
     "metadata": {},
     "output_type": "execute_result"
    }
   ],
   "source": [
    "#Aplicando algoritmo de ávores aleatórias Random Forest para o treinamento do modelo\n",
    "forest = RandomForestClassifier(n_estimators = 100)\n",
    "forest.fit(X_treino, y_treino)"
   ]
  },
  {
   "cell_type": "code",
   "execution_count": 7,
   "metadata": {},
   "outputs": [
    {
     "data": {
      "text/plain": [
       "array([[9, 0, 4],\n",
       "       [0, 2, 2],\n",
       "       [1, 4, 9]], dtype=int64)"
      ]
     },
     "execution_count": 7,
     "metadata": {},
     "output_type": "execute_result"
    }
   ],
   "source": [
    "#Criando a Matriz de Confusão para verificar a taxa de acerto\n",
    "X = forest.predict(X_teste)\n",
    "confusion = confusion_matrix(y_teste, X)\n",
    "confusion"
   ]
  },
  {
   "cell_type": "code",
   "execution_count": 1,
   "metadata": {},
   "outputs": [
    {
     "ename": "NameError",
     "evalue": "name 'accuracy_score' is not defined",
     "output_type": "error",
     "traceback": [
      "\u001b[1;31m---------------------------------------------------------------------------\u001b[0m",
      "\u001b[1;31mNameError\u001b[0m                                 Traceback (most recent call last)",
      "\u001b[1;32mh:\\RAFAEL\\Trabalho\\Portifólio\\idh_project\\python\\idh_randomForest.ipynb Célula: 8\u001b[0m in \u001b[0;36m<cell line: 2>\u001b[1;34m()\u001b[0m\n\u001b[0;32m      <a href='vscode-notebook-cell:/h%3A/RAFAEL/Trabalho/Portif%C3%B3lio/idh_project/python/idh_randomForest.ipynb#ch0000007?line=0'>1</a>\u001b[0m \u001b[39m#Verificando a performance de acerto da classificação\u001b[39;00m\n\u001b[1;32m----> <a href='vscode-notebook-cell:/h%3A/RAFAEL/Trabalho/Portif%C3%B3lio/idh_project/python/idh_randomForest.ipynb#ch0000007?line=1'>2</a>\u001b[0m taxa_acerto \u001b[39m=\u001b[39m accuracy_score(y_teste, X)\n\u001b[0;32m      <a href='vscode-notebook-cell:/h%3A/RAFAEL/Trabalho/Portif%C3%B3lio/idh_project/python/idh_randomForest.ipynb#ch0000007?line=2'>3</a>\u001b[0m taxa_acerto\n",
      "\u001b[1;31mNameError\u001b[0m: name 'accuracy_score' is not defined"
     ]
    }
   ],
   "source": [
    "#Verificando a performance de acerto da classificação\n",
    "taxa_acerto = accuracy_score(y_teste, X)\n",
    "taxa_acerto"
   ]
  }
 ],
 "metadata": {
  "kernelspec": {
   "display_name": "Python 3.10.5 64-bit",
   "language": "python",
   "name": "python3"
  },
  "language_info": {
   "codemirror_mode": {
    "name": "ipython",
    "version": 3
   },
   "file_extension": ".py",
   "mimetype": "text/x-python",
   "name": "python",
   "nbconvert_exporter": "python",
   "pygments_lexer": "ipython3",
   "version": "3.10.5"
  },
  "vscode": {
   "interpreter": {
    "hash": "f0cc6ac6ae42d7b7a2c0ba126ab853cd3055a2361239d2799ab31271d6bd3859"
   }
  }
 },
 "nbformat": 4,
 "nbformat_minor": 4
}
