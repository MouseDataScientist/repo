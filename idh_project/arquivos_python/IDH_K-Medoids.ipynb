{
 "cells": [
  {
   "cell_type": "code",
   "execution_count": 1,
   "metadata": {},
   "outputs": [],
   "source": [
    "import pandas as pd\n",
    "import numpy as np\n",
    "from sklearn.preprocessing import LabelEncoder\n",
    "from sklearn.metrics import confusion_matrix, accuracy_score\n",
    "from pyclustering.cluster.kmedoids import kmedoids\n",
    "from pyclustering.cluster import cluster_visualizer"
   ]
  },
  {
   "cell_type": "code",
   "execution_count": 2,
   "metadata": {},
   "outputs": [
    {
     "data": {
      "text/html": [
       "<div>\n",
       "<style scoped>\n",
       "    .dataframe tbody tr th:only-of-type {\n",
       "        vertical-align: middle;\n",
       "    }\n",
       "\n",
       "    .dataframe tbody tr th {\n",
       "        vertical-align: top;\n",
       "    }\n",
       "\n",
       "    .dataframe thead th {\n",
       "        text-align: right;\n",
       "    }\n",
       "</style>\n",
       "<table border=\"1\" class=\"dataframe\">\n",
       "  <thead>\n",
       "    <tr style=\"text-align: right;\">\n",
       "      <th></th>\n",
       "      <th>PAÍS</th>\n",
       "      <th>PIB</th>\n",
       "      <th>ILE</th>\n",
       "      <th>IPC</th>\n",
       "      <th>ClassIDH</th>\n",
       "    </tr>\n",
       "  </thead>\n",
       "  <tbody>\n",
       "    <tr>\n",
       "      <th>0</th>\n",
       "      <td>África do Sul</td>\n",
       "      <td>0.004457</td>\n",
       "      <td>6.97</td>\n",
       "      <td>44</td>\n",
       "      <td>Médio</td>\n",
       "    </tr>\n",
       "    <tr>\n",
       "      <th>1</th>\n",
       "      <td>Albânia</td>\n",
       "      <td>0.000182</td>\n",
       "      <td>7.81</td>\n",
       "      <td>35</td>\n",
       "      <td>Médio</td>\n",
       "    </tr>\n",
       "    <tr>\n",
       "      <th>2</th>\n",
       "      <td>Alemanha</td>\n",
       "      <td>0.045774</td>\n",
       "      <td>7.91</td>\n",
       "      <td>80</td>\n",
       "      <td>Alto</td>\n",
       "    </tr>\n",
       "    <tr>\n",
       "      <th>3</th>\n",
       "      <td>Angola</td>\n",
       "      <td>0.001282</td>\n",
       "      <td>5.50</td>\n",
       "      <td>26</td>\n",
       "      <td>Médio</td>\n",
       "    </tr>\n",
       "    <tr>\n",
       "      <th>4</th>\n",
       "      <td>Arábia Saudita</td>\n",
       "      <td>0.008244</td>\n",
       "      <td>6.85</td>\n",
       "      <td>53</td>\n",
       "      <td>Alto</td>\n",
       "    </tr>\n",
       "    <tr>\n",
       "      <th>...</th>\n",
       "      <td>...</td>\n",
       "      <td>...</td>\n",
       "      <td>...</td>\n",
       "      <td>...</td>\n",
       "      <td>...</td>\n",
       "    </tr>\n",
       "    <tr>\n",
       "      <th>151</th>\n",
       "      <td>Uruguai</td>\n",
       "      <td>0.000722</td>\n",
       "      <td>7.36</td>\n",
       "      <td>71</td>\n",
       "      <td>Alto</td>\n",
       "    </tr>\n",
       "    <tr>\n",
       "      <th>152</th>\n",
       "      <td>Venezuela</td>\n",
       "      <td>0.001191</td>\n",
       "      <td>2.83</td>\n",
       "      <td>16</td>\n",
       "      <td>Médio</td>\n",
       "    </tr>\n",
       "    <tr>\n",
       "      <th>153</th>\n",
       "      <td>Vietnã</td>\n",
       "      <td>0.002921</td>\n",
       "      <td>6.26</td>\n",
       "      <td>37</td>\n",
       "      <td>Médio</td>\n",
       "    </tr>\n",
       "    <tr>\n",
       "      <th>154</th>\n",
       "      <td>Zâmbia</td>\n",
       "      <td>0.000032</td>\n",
       "      <td>7.09</td>\n",
       "      <td>34</td>\n",
       "      <td>Médio</td>\n",
       "    </tr>\n",
       "    <tr>\n",
       "      <th>155</th>\n",
       "      <td>Zimbábue</td>\n",
       "      <td>0.000254</td>\n",
       "      <td>4.94</td>\n",
       "      <td>24</td>\n",
       "      <td>Médio</td>\n",
       "    </tr>\n",
       "  </tbody>\n",
       "</table>\n",
       "<p>156 rows × 5 columns</p>\n",
       "</div>"
      ],
      "text/plain": [
       "               PAÍS       PIB   ILE  IPC ClassIDH\n",
       "0     África do Sul  0.004457  6.97   44    Médio\n",
       "1           Albânia  0.000182  7.81   35    Médio\n",
       "2          Alemanha  0.045774  7.91   80     Alto\n",
       "3            Angola  0.001282  5.50   26    Médio\n",
       "4    Arábia Saudita  0.008244  6.85   53     Alto\n",
       "..              ...       ...   ...  ...      ...\n",
       "151         Uruguai  0.000722  7.36   71     Alto\n",
       "152       Venezuela  0.001191  2.83   16    Médio\n",
       "153          Vietnã  0.002921  6.26   37    Médio\n",
       "154          Zâmbia  0.000032  7.09   34    Médio\n",
       "155        Zimbábue  0.000254  4.94   24    Médio\n",
       "\n",
       "[156 rows x 5 columns]"
      ]
     },
     "execution_count": 2,
     "metadata": {},
     "output_type": "execute_result"
    }
   ],
   "source": [
    "#Carregamento da base de dados\n",
    "base = pd.read_csv('idh_classificado.csv')\n",
    "base"
   ]
  },
  {
   "cell_type": "code",
   "execution_count": 3,
   "metadata": {},
   "outputs": [],
   "source": [
    "#Criando ordenamento específico para IDH\n",
    "classe_ordenada = pd.CategoricalDtype(categories = ['Alto', 'Médio', 'Baixo'], ordered = True)\n",
    "base['ClassIDH'] = base['ClassIDH'].astype(classe_ordenada)"
   ]
  },
  {
   "cell_type": "code",
   "execution_count": 4,
   "metadata": {},
   "outputs": [
    {
     "data": {
      "text/html": [
       "<div>\n",
       "<style scoped>\n",
       "    .dataframe tbody tr th:only-of-type {\n",
       "        vertical-align: middle;\n",
       "    }\n",
       "\n",
       "    .dataframe tbody tr th {\n",
       "        vertical-align: top;\n",
       "    }\n",
       "\n",
       "    .dataframe thead th {\n",
       "        text-align: right;\n",
       "    }\n",
       "</style>\n",
       "<table border=\"1\" class=\"dataframe\">\n",
       "  <thead>\n",
       "    <tr style=\"text-align: right;\">\n",
       "      <th></th>\n",
       "      <th>PAÍS</th>\n",
       "      <th>PIB</th>\n",
       "      <th>ILE</th>\n",
       "      <th>IPC</th>\n",
       "      <th>ClassIDH</th>\n",
       "    </tr>\n",
       "  </thead>\n",
       "  <tbody>\n",
       "    <tr>\n",
       "      <th>47</th>\n",
       "      <td>Emirados Árabes Unidos</td>\n",
       "      <td>0.005014</td>\n",
       "      <td>7.28</td>\n",
       "      <td>71</td>\n",
       "      <td>Alto</td>\n",
       "    </tr>\n",
       "    <tr>\n",
       "      <th>121</th>\n",
       "      <td>Polônia</td>\n",
       "      <td>0.007092</td>\n",
       "      <td>7.20</td>\n",
       "      <td>58</td>\n",
       "      <td>Alto</td>\n",
       "    </tr>\n",
       "    <tr>\n",
       "      <th>122</th>\n",
       "      <td>Portugal</td>\n",
       "      <td>0.002916</td>\n",
       "      <td>7.79</td>\n",
       "      <td>62</td>\n",
       "      <td>Alto</td>\n",
       "    </tr>\n",
       "    <tr>\n",
       "      <th>57</th>\n",
       "      <td>França</td>\n",
       "      <td>0.030892</td>\n",
       "      <td>7.55</td>\n",
       "      <td>69</td>\n",
       "      <td>Alto</td>\n",
       "    </tr>\n",
       "    <tr>\n",
       "      <th>56</th>\n",
       "      <td>Finlândia</td>\n",
       "      <td>0.000332</td>\n",
       "      <td>7.92</td>\n",
       "      <td>86</td>\n",
       "      <td>Alto</td>\n",
       "    </tr>\n",
       "    <tr>\n",
       "      <th>...</th>\n",
       "      <td>...</td>\n",
       "      <td>...</td>\n",
       "      <td>...</td>\n",
       "      <td>...</td>\n",
       "      <td>...</td>\n",
       "    </tr>\n",
       "    <tr>\n",
       "      <th>103</th>\n",
       "      <td>Moçambique</td>\n",
       "      <td>0.000174</td>\n",
       "      <td>6.15</td>\n",
       "      <td>26</td>\n",
       "      <td>Baixo</td>\n",
       "    </tr>\n",
       "    <tr>\n",
       "      <th>90</th>\n",
       "      <td>Libéria</td>\n",
       "      <td>0.000039</td>\n",
       "      <td>6.35</td>\n",
       "      <td>28</td>\n",
       "      <td>Baixo</td>\n",
       "    </tr>\n",
       "    <tr>\n",
       "      <th>98</th>\n",
       "      <td>Mali</td>\n",
       "      <td>0.000020</td>\n",
       "      <td>5.83</td>\n",
       "      <td>29</td>\n",
       "      <td>Baixo</td>\n",
       "    </tr>\n",
       "    <tr>\n",
       "      <th>33</th>\n",
       "      <td>Chade</td>\n",
       "      <td>0.000133</td>\n",
       "      <td>5.60</td>\n",
       "      <td>20</td>\n",
       "      <td>Baixo</td>\n",
       "    </tr>\n",
       "    <tr>\n",
       "      <th>126</th>\n",
       "      <td>República Centro-Africana</td>\n",
       "      <td>0.000002</td>\n",
       "      <td>5.36</td>\n",
       "      <td>25</td>\n",
       "      <td>Baixo</td>\n",
       "    </tr>\n",
       "  </tbody>\n",
       "</table>\n",
       "<p>156 rows × 5 columns</p>\n",
       "</div>"
      ],
      "text/plain": [
       "                          PAÍS       PIB   ILE  IPC ClassIDH\n",
       "47      Emirados Árabes Unidos  0.005014  7.28   71     Alto\n",
       "121                    Polônia  0.007092  7.20   58     Alto\n",
       "122                   Portugal  0.002916  7.79   62     Alto\n",
       "57                      França  0.030892  7.55   69     Alto\n",
       "56                   Finlândia  0.000332  7.92   86     Alto\n",
       "..                         ...       ...   ...  ...      ...\n",
       "103                 Moçambique  0.000174  6.15   26    Baixo\n",
       "90                     Libéria  0.000039  6.35   28    Baixo\n",
       "98                        Mali  0.000020  5.83   29    Baixo\n",
       "33                       Chade  0.000133  5.60   20    Baixo\n",
       "126  República Centro-Africana  0.000002  5.36   25    Baixo\n",
       "\n",
       "[156 rows x 5 columns]"
      ]
     },
     "execution_count": 4,
     "metadata": {},
     "output_type": "execute_result"
    }
   ],
   "source": [
    "#Aplicando ordenamento criado na base de dados\n",
    "base.sort_values('ClassIDH', ascending = True, inplace = True)\n",
    "base"
   ]
  },
  {
   "cell_type": "code",
   "execution_count": 5,
   "metadata": {},
   "outputs": [
    {
     "data": {
      "text/plain": [
       "ClassIDH\n",
       "Alto     62\n",
       "Médio    77\n",
       "Baixo    17\n",
       "dtype: int64"
      ]
     },
     "execution_count": 5,
     "metadata": {},
     "output_type": "execute_result"
    }
   ],
   "source": [
    "#Agrupando por classe\n",
    "base.groupby(['ClassIDH']).size()"
   ]
  },
  {
   "cell_type": "code",
   "execution_count": 6,
   "metadata": {},
   "outputs": [
    {
     "data": {
      "text/html": [
       "<div>\n",
       "<style scoped>\n",
       "    .dataframe tbody tr th:only-of-type {\n",
       "        vertical-align: middle;\n",
       "    }\n",
       "\n",
       "    .dataframe tbody tr th {\n",
       "        vertical-align: top;\n",
       "    }\n",
       "\n",
       "    .dataframe thead th {\n",
       "        text-align: right;\n",
       "    }\n",
       "</style>\n",
       "<table border=\"1\" class=\"dataframe\">\n",
       "  <thead>\n",
       "    <tr style=\"text-align: right;\">\n",
       "      <th></th>\n",
       "      <th>ILE</th>\n",
       "      <th>IPC</th>\n",
       "      <th>ClassIDH</th>\n",
       "    </tr>\n",
       "  </thead>\n",
       "  <tbody>\n",
       "    <tr>\n",
       "      <th>47</th>\n",
       "      <td>7.28</td>\n",
       "      <td>71</td>\n",
       "      <td>Alto</td>\n",
       "    </tr>\n",
       "    <tr>\n",
       "      <th>121</th>\n",
       "      <td>7.20</td>\n",
       "      <td>58</td>\n",
       "      <td>Alto</td>\n",
       "    </tr>\n",
       "    <tr>\n",
       "      <th>122</th>\n",
       "      <td>7.79</td>\n",
       "      <td>62</td>\n",
       "      <td>Alto</td>\n",
       "    </tr>\n",
       "    <tr>\n",
       "      <th>57</th>\n",
       "      <td>7.55</td>\n",
       "      <td>69</td>\n",
       "      <td>Alto</td>\n",
       "    </tr>\n",
       "    <tr>\n",
       "      <th>56</th>\n",
       "      <td>7.92</td>\n",
       "      <td>86</td>\n",
       "      <td>Alto</td>\n",
       "    </tr>\n",
       "    <tr>\n",
       "      <th>...</th>\n",
       "      <td>...</td>\n",
       "      <td>...</td>\n",
       "      <td>...</td>\n",
       "    </tr>\n",
       "    <tr>\n",
       "      <th>103</th>\n",
       "      <td>6.15</td>\n",
       "      <td>26</td>\n",
       "      <td>Baixo</td>\n",
       "    </tr>\n",
       "    <tr>\n",
       "      <th>90</th>\n",
       "      <td>6.35</td>\n",
       "      <td>28</td>\n",
       "      <td>Baixo</td>\n",
       "    </tr>\n",
       "    <tr>\n",
       "      <th>98</th>\n",
       "      <td>5.83</td>\n",
       "      <td>29</td>\n",
       "      <td>Baixo</td>\n",
       "    </tr>\n",
       "    <tr>\n",
       "      <th>33</th>\n",
       "      <td>5.60</td>\n",
       "      <td>20</td>\n",
       "      <td>Baixo</td>\n",
       "    </tr>\n",
       "    <tr>\n",
       "      <th>126</th>\n",
       "      <td>5.36</td>\n",
       "      <td>25</td>\n",
       "      <td>Baixo</td>\n",
       "    </tr>\n",
       "  </tbody>\n",
       "</table>\n",
       "<p>156 rows × 3 columns</p>\n",
       "</div>"
      ],
      "text/plain": [
       "      ILE  IPC ClassIDH\n",
       "47   7.28   71     Alto\n",
       "121  7.20   58     Alto\n",
       "122  7.79   62     Alto\n",
       "57   7.55   69     Alto\n",
       "56   7.92   86     Alto\n",
       "..    ...  ...      ...\n",
       "103  6.15   26    Baixo\n",
       "90   6.35   28    Baixo\n",
       "98   5.83   29    Baixo\n",
       "33   5.60   20    Baixo\n",
       "126  5.36   25    Baixo\n",
       "\n",
       "[156 rows x 3 columns]"
      ]
     },
     "execution_count": 6,
     "metadata": {},
     "output_type": "execute_result"
    }
   ],
   "source": [
    "#Separando atributos agrupadores para calcular as medianas de cada categoria do IDH (Alto, Médio, Baixo)\n",
    "media_classes = base.iloc[:, 2:5]\n",
    "media_classes"
   ]
  },
  {
   "cell_type": "code",
   "execution_count": 7,
   "metadata": {},
   "outputs": [],
   "source": [
    "#Descobrindo a média de ILE e IPC para um IDH Alto\n",
    "media_IDHalto = media_classes.loc[media_classes['ClassIDH']=='Alto']\n",
    "alto = media_IDHalto.mean()\n",
    "#Descobrindo a média de ILE e IPC para um IDH Médio\n",
    "media_IDHmedio = media_classes.loc[media_classes['ClassIDH']=='Médio']\n",
    "medio = media_IDHmedio.mean()\n",
    "#Descobrindo a média de ILE e IPC para um IDH Baixo\n",
    "media_IDHbaixo = media_classes.loc[media_classes['ClassIDH']=='Baixo']\n",
    "baixo = media_IDHbaixo.mean()"
   ]
  },
  {
   "cell_type": "code",
   "execution_count": 8,
   "metadata": {},
   "outputs": [
    {
     "data": {
      "text/plain": [
       "ILE     7.67871\n",
       "IPC    62.00000\n",
       "dtype: float64"
      ]
     },
     "execution_count": 8,
     "metadata": {},
     "output_type": "execute_result"
    }
   ],
   "source": [
    "#Alto\n",
    "alto"
   ]
  },
  {
   "cell_type": "code",
   "execution_count": 9,
   "metadata": {},
   "outputs": [
    {
     "data": {
      "text/plain": [
       "ILE     6.588701\n",
       "IPC    33.714286\n",
       "dtype: float64"
      ]
     },
     "execution_count": 9,
     "metadata": {},
     "output_type": "execute_result"
    }
   ],
   "source": [
    "#Médio\n",
    "medio"
   ]
  },
  {
   "cell_type": "code",
   "execution_count": 10,
   "metadata": {},
   "outputs": [
    {
     "data": {
      "text/plain": [
       "ILE     5.855294\n",
       "IPC    26.823529\n",
       "dtype: float64"
      ]
     },
     "execution_count": 10,
     "metadata": {},
     "output_type": "execute_result"
    }
   ],
   "source": [
    "#Baixo\n",
    "baixo"
   ]
  },
  {
   "cell_type": "code",
   "execution_count": 11,
   "metadata": {},
   "outputs": [],
   "source": [
    "#Definindo agrupadores e classe\n",
    "agrupadores = base.iloc[:, 2:4].values\n",
    "classe = base.iloc[:, 4].values"
   ]
  },
  {
   "cell_type": "code",
   "execution_count": 12,
   "metadata": {},
   "outputs": [
    {
     "data": {
      "text/plain": [
       "array([0, 0, 0, 0, 0, 0, 0, 0, 0, 0, 0, 0, 0, 0, 0, 0, 0, 0, 0, 0, 0, 0,\n",
       "       0, 0, 0, 0, 0, 0, 0, 0, 0, 0, 0, 0, 0, 0, 0, 0, 0, 0, 0, 0, 0, 0,\n",
       "       0, 0, 0, 0, 0, 0, 0, 0, 0, 0, 0, 0, 0, 0, 0, 0, 0, 0, 2, 2, 2, 2,\n",
       "       2, 2, 2, 2, 2, 2, 2, 2, 2, 2, 2, 2, 2, 2, 2, 2, 2, 2, 2, 2, 2, 2,\n",
       "       2, 2, 2, 2, 2, 2, 2, 2, 2, 2, 2, 2, 2, 2, 2, 2, 2, 2, 2, 2, 2, 2,\n",
       "       2, 2, 2, 2, 2, 2, 2, 2, 2, 2, 2, 2, 2, 2, 2, 2, 2, 2, 2, 2, 2, 2,\n",
       "       2, 2, 2, 2, 2, 2, 2, 1, 1, 1, 1, 1, 1, 1, 1, 1, 1, 1, 1, 1, 1, 1,\n",
       "       1, 1])"
      ]
     },
     "execution_count": 12,
     "metadata": {},
     "output_type": "execute_result"
    }
   ],
   "source": [
    "#Codificando a classe com Label Encoder\n",
    "labelencoder = LabelEncoder()\n",
    "classe = labelencoder.fit_transform(classe)\n",
    "classe"
   ]
  },
  {
   "cell_type": "code",
   "execution_count": 13,
   "metadata": {},
   "outputs": [
    {
     "data": {
      "text/plain": [
       "[30, 98, 145]"
      ]
     },
     "execution_count": 13,
     "metadata": {},
     "output_type": "execute_result"
    }
   ],
   "source": [
    "#Definindo os centros dos agrupadores\n",
    "cluster = kmedoids(agrupadores, [30, 98, 145])\n",
    "cluster.get_medoids()"
   ]
  },
  {
   "cell_type": "code",
   "execution_count": 14,
   "metadata": {},
   "outputs": [
    {
     "data": {
      "text/plain": [
       "[[1,\n",
       "  2,\n",
       "  7,\n",
       "  8,\n",
       "  9,\n",
       "  11,\n",
       "  12,\n",
       "  13,\n",
       "  15,\n",
       "  16,\n",
       "  17,\n",
       "  19,\n",
       "  21,\n",
       "  22,\n",
       "  24,\n",
       "  26,\n",
       "  27,\n",
       "  28,\n",
       "  30,\n",
       "  32,\n",
       "  37,\n",
       "  38,\n",
       "  40,\n",
       "  41,\n",
       "  42,\n",
       "  43,\n",
       "  50,\n",
       "  52,\n",
       "  58,\n",
       "  59,\n",
       "  60,\n",
       "  61,\n",
       "  62,\n",
       "  63,\n",
       "  77,\n",
       "  84,\n",
       "  93,\n",
       "  95,\n",
       "  105,\n",
       "  116,\n",
       "  127,\n",
       "  132,\n",
       "  137],\n",
       " [0,\n",
       "  3,\n",
       "  4,\n",
       "  5,\n",
       "  6,\n",
       "  10,\n",
       "  14,\n",
       "  20,\n",
       "  25,\n",
       "  29,\n",
       "  31,\n",
       "  33,\n",
       "  34,\n",
       "  35,\n",
       "  36,\n",
       "  39,\n",
       "  45,\n",
       "  46,\n",
       "  47,\n",
       "  48,\n",
       "  49,\n",
       "  51,\n",
       "  53,\n",
       "  55,\n",
       "  56,\n",
       "  138],\n",
       " [18,\n",
       "  23,\n",
       "  44,\n",
       "  54,\n",
       "  57,\n",
       "  64,\n",
       "  65,\n",
       "  66,\n",
       "  67,\n",
       "  68,\n",
       "  69,\n",
       "  70,\n",
       "  71,\n",
       "  72,\n",
       "  73,\n",
       "  74,\n",
       "  75,\n",
       "  76,\n",
       "  78,\n",
       "  79,\n",
       "  80,\n",
       "  81,\n",
       "  82,\n",
       "  83,\n",
       "  85,\n",
       "  86,\n",
       "  87,\n",
       "  88,\n",
       "  89,\n",
       "  90,\n",
       "  91,\n",
       "  92,\n",
       "  94,\n",
       "  96,\n",
       "  97,\n",
       "  98,\n",
       "  99,\n",
       "  100,\n",
       "  101,\n",
       "  102,\n",
       "  103,\n",
       "  104,\n",
       "  106,\n",
       "  107,\n",
       "  108,\n",
       "  109,\n",
       "  110,\n",
       "  111,\n",
       "  112,\n",
       "  113,\n",
       "  114,\n",
       "  115,\n",
       "  117,\n",
       "  118,\n",
       "  119,\n",
       "  120,\n",
       "  121,\n",
       "  122,\n",
       "  123,\n",
       "  124,\n",
       "  125,\n",
       "  126,\n",
       "  128,\n",
       "  129,\n",
       "  130,\n",
       "  131,\n",
       "  133,\n",
       "  134,\n",
       "  135,\n",
       "  136,\n",
       "  139,\n",
       "  140,\n",
       "  141,\n",
       "  142,\n",
       "  143,\n",
       "  144,\n",
       "  145,\n",
       "  146,\n",
       "  147,\n",
       "  148,\n",
       "  149,\n",
       "  150,\n",
       "  151,\n",
       "  152,\n",
       "  153,\n",
       "  154,\n",
       "  155]]"
      ]
     },
     "execution_count": 14,
     "metadata": {},
     "output_type": "execute_result"
    }
   ],
   "source": [
    "#Agrupando a classe com base nos centros definidos anteriormente\n",
    "cluster.process()\n",
    "agrupamento = cluster.get_clusters()\n",
    "medoides = cluster.get_medoids()\n",
    "agrupamento"
   ]
  },
  {
   "cell_type": "code",
   "execution_count": 15,
   "metadata": {},
   "outputs": [
    {
     "data": {
      "image/png": "[encoded data removed]",
      "text/plain": [
       "<Figure size 432x288 with 1 Axes>"
      ]
     },
     "metadata": {
      "needs_background": "light"
     },
     "output_type": "display_data"
    },
    {
     "data": {
      "image/png": "[encoded data removed]",
      "text/plain": [
       "<Figure size 432x288 with 1 Axes>"
      ]
     },
     "execution_count": 15,
     "metadata": {},
     "output_type": "execute_result"
    }
   ],
   "source": [
    "#Visualizando o agrupamento\n",
    "v = cluster_visualizer()\n",
    "v.append_clusters(agrupamento, agrupadores)\n",
    "#Visualizando medoids de inicialização dos clusters\n",
    "v.append_cluster(medoides,  data = agrupadores, marker = '*', markersize = 20)\n",
    "v.show()"
   ]
  },
  {
   "cell_type": "code",
   "execution_count": 16,
   "metadata": {},
   "outputs": [],
   "source": [
    "#Criando 2 listas, uma com dados reais da classe e outra com a classe agrupada com K-medoids\n",
    "lista_agrupamento = []\n",
    "lista_real = []\n",
    "for i in range(len(agrupamento)):\n",
    "     for j in range(len(agrupamento[i])):\n",
    "        lista_agrupamento.append(i)\n",
    "        lista_real.append(classe[agrupamento[i][j]])"
   ]
  },
  {
   "cell_type": "code",
   "execution_count": 17,
   "metadata": {},
   "outputs": [
    {
     "data": {
      "text/plain": [
       "array([[32, 25,  5],\n",
       "       [ 0,  0, 17],\n",
       "       [11,  1, 65]], dtype=int64)"
      ]
     },
     "execution_count": 17,
     "metadata": {},
     "output_type": "execute_result"
    }
   ],
   "source": [
    "#Criando a matriz de confusão para comparar as duas listas\n",
    "lista_agrupamento = np.asarray(lista_agrupamento)\n",
    "lista_real = np.asarray(lista_real)\n",
    "resultado = confusion_matrix(lista_real, lista_agrupamento)\n",
    "resultado"
   ]
  },
  {
   "cell_type": "code",
   "execution_count": 18,
   "metadata": {},
   "outputs": [
    {
     "data": {
      "text/plain": [
       "0.6217948717948718"
      ]
     },
     "execution_count": 18,
     "metadata": {},
     "output_type": "execute_result"
    }
   ],
   "source": [
    "#Verificando a performance de acerto do agrupamento K-medoids\n",
    "taxa_acerto = accuracy_score(lista_real, lista_agrupamento)\n",
    "taxa_acerto"
   ]
  }
 ],
 "metadata": {
  "kernelspec": {
   "display_name": "Python 3",
   "language": "python",
   "name": "python3"
  },
  "language_info": {
   "codemirror_mode": {
    "name": "ipython",
    "version": 3
   },
   "file_extension": ".py",
   "mimetype": "text/x-python",
   "name": "python",
   "nbconvert_exporter": "python",
   "pygments_lexer": "ipython3",
   "version": "3.8.5"
  }
 },
 "nbformat": 4,
 "nbformat_minor": 4
}
