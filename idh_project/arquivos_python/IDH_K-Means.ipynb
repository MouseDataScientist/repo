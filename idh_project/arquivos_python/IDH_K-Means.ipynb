{
 "cells": [
  {
   "cell_type": "code",
   "execution_count": 1,
   "metadata": {},
   "outputs": [],
   "source": [
    "#Bibliotecas\n",
    "import pandas as pd\n",
    "import numpy as np\n",
    "from sklearn.cluster import KMeans\n",
    "from sklearn.preprocessing import LabelEncoder\n",
    "from sklearn.metrics import confusion_matrix, accuracy_score"
   ]
  },
  {
   "cell_type": "code",
   "execution_count": 2,
   "metadata": {},
   "outputs": [
    {
     "data": {
      "text/html": [
       "<div>\n",
       "<style scoped>\n",
       "    .dataframe tbody tr th:only-of-type {\n",
       "        vertical-align: middle;\n",
       "    }\n",
       "\n",
       "    .dataframe tbody tr th {\n",
       "        vertical-align: top;\n",
       "    }\n",
       "\n",
       "    .dataframe thead th {\n",
       "        text-align: right;\n",
       "    }\n",
       "</style>\n",
       "<table border=\"1\" class=\"dataframe\">\n",
       "  <thead>\n",
       "    <tr style=\"text-align: right;\">\n",
       "      <th></th>\n",
       "      <th>PAÍS</th>\n",
       "      <th>PIB</th>\n",
       "      <th>ILE</th>\n",
       "      <th>IPC</th>\n",
       "      <th>ClassIDH</th>\n",
       "    </tr>\n",
       "  </thead>\n",
       "  <tbody>\n",
       "    <tr>\n",
       "      <th>0</th>\n",
       "      <td>África do Sul</td>\n",
       "      <td>0.004457</td>\n",
       "      <td>6.97</td>\n",
       "      <td>44</td>\n",
       "      <td>Médio</td>\n",
       "    </tr>\n",
       "    <tr>\n",
       "      <th>1</th>\n",
       "      <td>Albânia</td>\n",
       "      <td>0.000182</td>\n",
       "      <td>7.81</td>\n",
       "      <td>35</td>\n",
       "      <td>Médio</td>\n",
       "    </tr>\n",
       "    <tr>\n",
       "      <th>2</th>\n",
       "      <td>Alemanha</td>\n",
       "      <td>0.045774</td>\n",
       "      <td>7.91</td>\n",
       "      <td>80</td>\n",
       "      <td>Alto</td>\n",
       "    </tr>\n",
       "    <tr>\n",
       "      <th>3</th>\n",
       "      <td>Angola</td>\n",
       "      <td>0.001282</td>\n",
       "      <td>5.50</td>\n",
       "      <td>26</td>\n",
       "      <td>Médio</td>\n",
       "    </tr>\n",
       "    <tr>\n",
       "      <th>4</th>\n",
       "      <td>Arábia Saudita</td>\n",
       "      <td>0.008244</td>\n",
       "      <td>6.85</td>\n",
       "      <td>53</td>\n",
       "      <td>Alto</td>\n",
       "    </tr>\n",
       "  </tbody>\n",
       "</table>\n",
       "</div>"
      ],
      "text/plain": [
       "             PAÍS       PIB   ILE  IPC ClassIDH\n",
       "0   África do Sul  0.004457  6.97   44    Médio\n",
       "1         Albânia  0.000182  7.81   35    Médio\n",
       "2        Alemanha  0.045774  7.91   80     Alto\n",
       "3          Angola  0.001282  5.50   26    Médio\n",
       "4  Arábia Saudita  0.008244  6.85   53     Alto"
      ]
     },
     "execution_count": 2,
     "metadata": {},
     "output_type": "execute_result"
    }
   ],
   "source": [
    "#Carregamento da base de dados\n",
    "base = pd.read_csv('idh_classificado.csv')\n",
    "base.head()"
   ]
  },
  {
   "cell_type": "code",
   "execution_count": 3,
   "metadata": {},
   "outputs": [],
   "source": [
    "#Classe com ordenamento específico para IDH\n",
    "classe_ordenada = pd.CategoricalDtype(categories = ['Alto', 'Médio', 'Baixo'], ordered = True)\n",
    "base['ClassIDH'] = base['ClassIDH'].astype(classe_ordenada)"
   ]
  },
  {
   "cell_type": "code",
   "execution_count": 4,
   "metadata": {},
   "outputs": [
    {
     "data": {
      "text/html": [
       "<div>\n",
       "<style scoped>\n",
       "    .dataframe tbody tr th:only-of-type {\n",
       "        vertical-align: middle;\n",
       "    }\n",
       "\n",
       "    .dataframe tbody tr th {\n",
       "        vertical-align: top;\n",
       "    }\n",
       "\n",
       "    .dataframe thead th {\n",
       "        text-align: right;\n",
       "    }\n",
       "</style>\n",
       "<table border=\"1\" class=\"dataframe\">\n",
       "  <thead>\n",
       "    <tr style=\"text-align: right;\">\n",
       "      <th></th>\n",
       "      <th>PAÍS</th>\n",
       "      <th>PIB</th>\n",
       "      <th>ILE</th>\n",
       "      <th>IPC</th>\n",
       "      <th>ClassIDH</th>\n",
       "    </tr>\n",
       "  </thead>\n",
       "  <tbody>\n",
       "    <tr>\n",
       "      <th>47</th>\n",
       "      <td>Emirados Árabes Unidos</td>\n",
       "      <td>0.005014</td>\n",
       "      <td>7.28</td>\n",
       "      <td>71</td>\n",
       "      <td>Alto</td>\n",
       "    </tr>\n",
       "    <tr>\n",
       "      <th>121</th>\n",
       "      <td>Polônia</td>\n",
       "      <td>0.007092</td>\n",
       "      <td>7.20</td>\n",
       "      <td>58</td>\n",
       "      <td>Alto</td>\n",
       "    </tr>\n",
       "    <tr>\n",
       "      <th>122</th>\n",
       "      <td>Portugal</td>\n",
       "      <td>0.002916</td>\n",
       "      <td>7.79</td>\n",
       "      <td>62</td>\n",
       "      <td>Alto</td>\n",
       "    </tr>\n",
       "    <tr>\n",
       "      <th>57</th>\n",
       "      <td>França</td>\n",
       "      <td>0.030892</td>\n",
       "      <td>7.55</td>\n",
       "      <td>69</td>\n",
       "      <td>Alto</td>\n",
       "    </tr>\n",
       "    <tr>\n",
       "      <th>56</th>\n",
       "      <td>Finlândia</td>\n",
       "      <td>0.000332</td>\n",
       "      <td>7.92</td>\n",
       "      <td>86</td>\n",
       "      <td>Alto</td>\n",
       "    </tr>\n",
       "    <tr>\n",
       "      <th>...</th>\n",
       "      <td>...</td>\n",
       "      <td>...</td>\n",
       "      <td>...</td>\n",
       "      <td>...</td>\n",
       "      <td>...</td>\n",
       "    </tr>\n",
       "    <tr>\n",
       "      <th>103</th>\n",
       "      <td>Moçambique</td>\n",
       "      <td>0.000174</td>\n",
       "      <td>6.15</td>\n",
       "      <td>26</td>\n",
       "      <td>Baixo</td>\n",
       "    </tr>\n",
       "    <tr>\n",
       "      <th>90</th>\n",
       "      <td>Libéria</td>\n",
       "      <td>0.000039</td>\n",
       "      <td>6.35</td>\n",
       "      <td>28</td>\n",
       "      <td>Baixo</td>\n",
       "    </tr>\n",
       "    <tr>\n",
       "      <th>98</th>\n",
       "      <td>Mali</td>\n",
       "      <td>0.000020</td>\n",
       "      <td>5.83</td>\n",
       "      <td>29</td>\n",
       "      <td>Baixo</td>\n",
       "    </tr>\n",
       "    <tr>\n",
       "      <th>33</th>\n",
       "      <td>Chade</td>\n",
       "      <td>0.000133</td>\n",
       "      <td>5.60</td>\n",
       "      <td>20</td>\n",
       "      <td>Baixo</td>\n",
       "    </tr>\n",
       "    <tr>\n",
       "      <th>126</th>\n",
       "      <td>República Centro-Africana</td>\n",
       "      <td>0.000002</td>\n",
       "      <td>5.36</td>\n",
       "      <td>25</td>\n",
       "      <td>Baixo</td>\n",
       "    </tr>\n",
       "  </tbody>\n",
       "</table>\n",
       "<p>156 rows × 5 columns</p>\n",
       "</div>"
      ],
      "text/plain": [
       "                          PAÍS       PIB   ILE  IPC ClassIDH\n",
       "47      Emirados Árabes Unidos  0.005014  7.28   71     Alto\n",
       "121                    Polônia  0.007092  7.20   58     Alto\n",
       "122                   Portugal  0.002916  7.79   62     Alto\n",
       "57                      França  0.030892  7.55   69     Alto\n",
       "56                   Finlândia  0.000332  7.92   86     Alto\n",
       "..                         ...       ...   ...  ...      ...\n",
       "103                 Moçambique  0.000174  6.15   26    Baixo\n",
       "90                     Libéria  0.000039  6.35   28    Baixo\n",
       "98                        Mali  0.000020  5.83   29    Baixo\n",
       "33                       Chade  0.000133  5.60   20    Baixo\n",
       "126  República Centro-Africana  0.000002  5.36   25    Baixo\n",
       "\n",
       "[156 rows x 5 columns]"
      ]
     },
     "execution_count": 4,
     "metadata": {},
     "output_type": "execute_result"
    }
   ],
   "source": [
    "#Modificando o dataframe ordenando pelo IDH do maior para o menor\n",
    "base.sort_values('ClassIDH', ascending = True, inplace = True)\n",
    "base"
   ]
  },
  {
   "cell_type": "code",
   "execution_count": 5,
   "metadata": {},
   "outputs": [
    {
     "data": {
      "text/plain": [
       "ClassIDH\n",
       "Alto     62\n",
       "Médio    77\n",
       "Baixo    17\n",
       "dtype: int64"
      ]
     },
     "execution_count": 5,
     "metadata": {},
     "output_type": "execute_result"
    }
   ],
   "source": [
    "#Visualizando a quantidade por categoria\n",
    "base.groupby(['ClassIDH']).size()"
   ]
  },
  {
   "cell_type": "code",
   "execution_count": 6,
   "metadata": {},
   "outputs": [
    {
     "data": {
      "text/plain": [
       "47      Alto\n",
       "121     Alto\n",
       "122     Alto\n",
       "57      Alto\n",
       "56      Alto\n",
       "       ...  \n",
       "103    Baixo\n",
       "90     Baixo\n",
       "98     Baixo\n",
       "33     Baixo\n",
       "126    Baixo\n",
       "Name: ClassIDH, Length: 156, dtype: category\n",
       "Categories (3, object): ['Alto' < 'Médio' < 'Baixo']"
      ]
     },
     "execution_count": 6,
     "metadata": {},
     "output_type": "execute_result"
    }
   ],
   "source": [
    "#Definindo variáveis independentes e variáveis dependentes\n",
    "agrupadores = base.iloc[:, 2:4]\n",
    "classe = base.iloc[:, 4]\n",
    "classe"
   ]
  },
  {
   "cell_type": "code",
   "execution_count": 7,
   "metadata": {},
   "outputs": [
    {
     "data": {
      "text/plain": [
       "array([0, 0, 0, 0, 0, 0, 0, 0, 0, 0, 0, 0, 0, 0, 0, 0, 0, 0, 0, 0, 0, 0,\n",
       "       0, 0, 0, 0, 0, 0, 0, 0, 0, 0, 0, 0, 0, 0, 0, 0, 0, 0, 0, 0, 0, 0,\n",
       "       0, 0, 0, 0, 0, 0, 0, 0, 0, 0, 0, 0, 0, 0, 0, 0, 0, 0, 2, 2, 2, 2,\n",
       "       2, 2, 2, 2, 2, 2, 2, 2, 2, 2, 2, 2, 2, 2, 2, 2, 2, 2, 2, 2, 2, 2,\n",
       "       2, 2, 2, 2, 2, 2, 2, 2, 2, 2, 2, 2, 2, 2, 2, 2, 2, 2, 2, 2, 2, 2,\n",
       "       2, 2, 2, 2, 2, 2, 2, 2, 2, 2, 2, 2, 2, 2, 2, 2, 2, 2, 2, 2, 2, 2,\n",
       "       2, 2, 2, 2, 2, 2, 2, 1, 1, 1, 1, 1, 1, 1, 1, 1, 1, 1, 1, 1, 1, 1,\n",
       "       1, 1])"
      ]
     },
     "execution_count": 7,
     "metadata": {},
     "output_type": "execute_result"
    }
   ],
   "source": [
    "#Codificando a classe\n",
    "labelencoder = LabelEncoder()\n",
    "classe = labelencoder.fit_transform(classe)\n",
    "classe"
   ]
  },
  {
   "cell_type": "code",
   "execution_count": 8,
   "metadata": {},
   "outputs": [],
   "source": [
    "#Contagem de grupos e quantidade de cada grupo\n",
    "grupos, quantidades = np.unique(classe, return_counts = True)"
   ]
  },
  {
   "cell_type": "code",
   "execution_count": 9,
   "metadata": {},
   "outputs": [
    {
     "data": {
      "text/plain": [
       "array([0, 1, 2])"
      ]
     },
     "execution_count": 9,
     "metadata": {},
     "output_type": "execute_result"
    }
   ],
   "source": [
    "#Quantidade de grupos\n",
    "grupos"
   ]
  },
  {
   "cell_type": "code",
   "execution_count": 10,
   "metadata": {},
   "outputs": [
    {
     "data": {
      "text/plain": [
       "array([62, 17, 77], dtype=int64)"
      ]
     },
     "execution_count": 10,
     "metadata": {},
     "output_type": "execute_result"
    }
   ],
   "source": [
    "#Quantidade de dentro de cada grupo\n",
    "quantidades"
   ]
  },
  {
   "cell_type": "code",
   "execution_count": 11,
   "metadata": {},
   "outputs": [
    {
     "data": {
      "text/plain": [
       "KMeans(n_clusters=3)"
      ]
     },
     "execution_count": 11,
     "metadata": {},
     "output_type": "execute_result"
    }
   ],
   "source": [
    "'''Definindo o número de clusters (grupos) e realizando o agrupamento com K-means utilizando \n",
    "ILE e IPC para o agrupamento'''\n",
    "cluster = KMeans(n_clusters = 3)\n",
    "cluster.fit(agrupadores)"
   ]
  },
  {
   "cell_type": "code",
   "execution_count": 12,
   "metadata": {},
   "outputs": [
    {
     "data": {
      "text/plain": [
       "array([[ 7.24169811, 49.71698113],\n",
       "       [ 6.37355263, 28.72368421],\n",
       "       [ 7.9537037 , 76.96296296]])"
      ]
     },
     "execution_count": 12,
     "metadata": {},
     "output_type": "execute_result"
    }
   ],
   "source": [
    "#Visualizando os centros utilizados pelo agrupador\n",
    "centroides = cluster.cluster_centers_ \n",
    "centroides"
   ]
  },
  {
   "cell_type": "code",
   "execution_count": 13,
   "metadata": {},
   "outputs": [
    {
     "data": {
      "text/plain": [
       "array([2, 0, 0, 2, 2, 2, 2, 0, 0, 0, 2, 0, 0, 0, 2, 0, 0, 0, 1, 0, 2, 0,\n",
       "       0, 0, 0, 2, 0, 0, 0, 2, 0, 2, 0, 2, 2, 2, 2, 0, 0, 2, 0, 0, 0, 2,\n",
       "       1, 2, 2, 2, 2, 2, 0, 2, 0, 2, 1, 2, 2, 1, 0, 0, 0, 0, 0, 0, 1, 1,\n",
       "       1, 1, 1, 1, 1, 0, 1, 1, 1, 0, 1, 0, 1, 1, 1, 1, 1, 1, 0, 1, 1, 1,\n",
       "       1, 1, 1, 1, 1, 0, 1, 0, 1, 1, 0, 1, 1, 1, 1, 1, 1, 0, 1, 1, 1, 1,\n",
       "       1, 1, 0, 1, 1, 1, 0, 0, 1, 1, 1, 1, 1, 1, 1, 0, 0, 0, 1, 1, 1, 0,\n",
       "       0, 0, 1, 1, 1, 0, 2, 0, 1, 1, 1, 1, 1, 1, 1, 1, 1, 1, 1, 1, 1, 1,\n",
       "       1, 1])"
      ]
     },
     "execution_count": 13,
     "metadata": {},
     "output_type": "execute_result"
    }
   ],
   "source": [
    "#Visualizando o agrupamento realizado\n",
    "agrupamento = cluster.labels_\n",
    "agrupamento"
   ]
  },
  {
   "cell_type": "code",
   "execution_count": 14,
   "metadata": {},
   "outputs": [],
   "source": [
    "#Contagem de grupos e quantidades de cada grupo\n",
    "grupos2, quantidades2 = np.unique(agrupamento, return_counts = True)"
   ]
  },
  {
   "cell_type": "code",
   "execution_count": 15,
   "metadata": {},
   "outputs": [
    {
     "data": {
      "text/plain": [
       "array([0, 1, 2])"
      ]
     },
     "execution_count": 15,
     "metadata": {},
     "output_type": "execute_result"
    }
   ],
   "source": [
    "#Quantidade de grupos\n",
    "grupos2"
   ]
  },
  {
   "cell_type": "code",
   "execution_count": 16,
   "metadata": {},
   "outputs": [
    {
     "data": {
      "text/plain": [
       "array([53, 76, 27], dtype=int64)"
      ]
     },
     "execution_count": 16,
     "metadata": {},
     "output_type": "execute_result"
    }
   ],
   "source": [
    "#Quantidades dentro de cada grupo\n",
    "quantidades2"
   ]
  },
  {
   "cell_type": "code",
   "execution_count": 17,
   "metadata": {},
   "outputs": [
    {
     "data": {
      "text/plain": [
       "array([[32,  4, 26],\n",
       "       [ 1, 16,  0],\n",
       "       [20, 56,  1]], dtype=int64)"
      ]
     },
     "execution_count": 17,
     "metadata": {},
     "output_type": "execute_result"
    }
   ],
   "source": [
    "#Analisando a matriz de confusão \n",
    "resultados = confusion_matrix(classe, agrupamento)\n",
    "resultados"
   ]
  },
  {
   "cell_type": "code",
   "execution_count": 18,
   "metadata": {},
   "outputs": [
    {
     "data": {
      "text/plain": [
       "0.3141025641025641"
      ]
     },
     "execution_count": 18,
     "metadata": {},
     "output_type": "execute_result"
    }
   ],
   "source": [
    "#Verificando a performance de acerto do agrupamento K-means\n",
    "taxa_acerto = accuracy_score(classe, agrupamento)\n",
    "taxa_acerto"
   ]
  }
 ],
 "metadata": {
  "kernelspec": {
   "display_name": "Python 3",
   "language": "python",
   "name": "python3"
  },
  "language_info": {
   "codemirror_mode": {
    "name": "ipython",
    "version": 3
   },
   "file_extension": ".py",
   "mimetype": "text/x-python",
   "name": "python",
   "nbconvert_exporter": "python",
   "pygments_lexer": "ipython3",
   "version": "3.8.5"
  }
 },
 "nbformat": 4,
 "nbformat_minor": 4
}
