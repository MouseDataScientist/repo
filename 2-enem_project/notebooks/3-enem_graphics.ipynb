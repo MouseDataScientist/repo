{
 "cells": [
  {
   "cell_type": "code",
   "execution_count": 156,
   "metadata": {},
   "outputs": [],
   "source": [
    "import pandas as pd\n",
    "import matplotlib.pyplot as plt\n",
    "import seaborn as sns"
   ]
  },
  {
   "cell_type": "code",
   "execution_count": 157,
   "metadata": {},
   "outputs": [
    {
     "data": {
      "text/html": [
       "<div>\n",
       "<style scoped>\n",
       "    .dataframe tbody tr th:only-of-type {\n",
       "        vertical-align: middle;\n",
       "    }\n",
       "\n",
       "    .dataframe tbody tr th {\n",
       "        vertical-align: top;\n",
       "    }\n",
       "\n",
       "    .dataframe thead th {\n",
       "        text-align: right;\n",
       "    }\n",
       "</style>\n",
       "<table border=\"1\" class=\"dataframe\">\n",
       "  <thead>\n",
       "    <tr style=\"text-align: right;\">\n",
       "      <th></th>\n",
       "      <th>TP_FAIXA_ETARIA</th>\n",
       "      <th>TP_ESCOLA</th>\n",
       "      <th>TP_ENSINO</th>\n",
       "      <th>RENDA_FAM</th>\n",
       "      <th>CELULAR</th>\n",
       "      <th>COMPUTADOR</th>\n",
       "      <th>INTERNET</th>\n",
       "      <th>NOTA</th>\n",
       "    </tr>\n",
       "  </thead>\n",
       "  <tbody>\n",
       "    <tr>\n",
       "      <th>0</th>\n",
       "      <td>5</td>\n",
       "      <td>1</td>\n",
       "      <td>0</td>\n",
       "      <td>3</td>\n",
       "      <td>1</td>\n",
       "      <td>1</td>\n",
       "      <td>1</td>\n",
       "      <td>baixa</td>\n",
       "    </tr>\n",
       "    <tr>\n",
       "      <th>1</th>\n",
       "      <td>12</td>\n",
       "      <td>1</td>\n",
       "      <td>0</td>\n",
       "      <td>1</td>\n",
       "      <td>2</td>\n",
       "      <td>0</td>\n",
       "      <td>0</td>\n",
       "      <td>media</td>\n",
       "    </tr>\n",
       "    <tr>\n",
       "      <th>2</th>\n",
       "      <td>3</td>\n",
       "      <td>2</td>\n",
       "      <td>1</td>\n",
       "      <td>1</td>\n",
       "      <td>1</td>\n",
       "      <td>1</td>\n",
       "      <td>1</td>\n",
       "      <td>media</td>\n",
       "    </tr>\n",
       "    <tr>\n",
       "      <th>3</th>\n",
       "      <td>2</td>\n",
       "      <td>2</td>\n",
       "      <td>1</td>\n",
       "      <td>2</td>\n",
       "      <td>4</td>\n",
       "      <td>1</td>\n",
       "      <td>1</td>\n",
       "      <td>media</td>\n",
       "    </tr>\n",
       "    <tr>\n",
       "      <th>4</th>\n",
       "      <td>9</td>\n",
       "      <td>1</td>\n",
       "      <td>0</td>\n",
       "      <td>2</td>\n",
       "      <td>2</td>\n",
       "      <td>0</td>\n",
       "      <td>1</td>\n",
       "      <td>baixa</td>\n",
       "    </tr>\n",
       "  </tbody>\n",
       "</table>\n",
       "</div>"
      ],
      "text/plain": [
       "   TP_FAIXA_ETARIA  TP_ESCOLA  TP_ENSINO  RENDA_FAM  CELULAR  COMPUTADOR  \\\n",
       "0                5          1          0          3        1           1   \n",
       "1               12          1          0          1        2           0   \n",
       "2                3          2          1          1        1           1   \n",
       "3                2          2          1          2        4           1   \n",
       "4                9          1          0          2        2           0   \n",
       "\n",
       "   INTERNET   NOTA  \n",
       "0         1  baixa  \n",
       "1         0  media  \n",
       "2         1  media  \n",
       "3         1  media  \n",
       "4         1  baixa  "
      ]
     },
     "execution_count": 157,
     "metadata": {},
     "output_type": "execute_result"
    }
   ],
   "source": [
    "base = pd.read_csv('../data/microdados_enem2021v2.csv')\n",
    "pd.set_option('display.max_rows', 100)\n",
    "base.head()"
   ]
  },
  {
   "cell_type": "code",
   "execution_count": 158,
   "metadata": {},
   "outputs": [],
   "source": [
    "base['TP_FAIXA_ETARIA'].replace({1:'<17',2:'17',3:'18',4:'19',5:'20', \n",
    "                                 6:'21',7:'22',8:'23',9:'24',10:'25', \n",
    "                                 11:'26..30',12:'31..35',13:'36..40',\n",
    "                                 14:'41..45',15:'46..50',16:'51..55',\n",
    "                                 17:'56..60',18:'61..65',19:'66..70',\n",
    "                                 20:'>70'}, inplace = True)"
   ]
  },
  {
   "cell_type": "code",
   "execution_count": 159,
   "metadata": {},
   "outputs": [],
   "source": [
    "base['TP_ESCOLA'].replace({1:'DESCONHECIDA', 2:'PUBLICA', 3:'PRIVADA'}, inplace = True)"
   ]
  },
  {
   "cell_type": "code",
   "execution_count": 160,
   "metadata": {},
   "outputs": [],
   "source": [
    "base['TP_ENSINO'].replace({0:'DESCONHECIDO', 1:'REGULAR', 2:'SUBSTITUTIVO'}, inplace = True)"
   ]
  },
  {
   "cell_type": "code",
   "execution_count": 161,
   "metadata": {},
   "outputs": [],
   "source": [
    "base['RENDA_FAM'].replace({0:'A',1:'B',2:'C',3:'D',4:'E',\n",
    "                           5:'F',6:'G',7:'H',8:'I',9:'J',\n",
    "                           10:'K',11:'L',12:'M',13:'N',\n",
    "                           14:'O',15:'P',16:'Q'}, \n",
    "                          inplace = True)"
   ]
  },
  {
   "cell_type": "code",
   "execution_count": 162,
   "metadata": {},
   "outputs": [],
   "source": [
    "base['CELULAR'].replace({0:'NAO',1:'SIM',2:'SIM',3:'SIM',4:'SIM'}, inplace = True)"
   ]
  },
  {
   "cell_type": "code",
   "execution_count": 163,
   "metadata": {},
   "outputs": [],
   "source": [
    "base['COMPUTADOR'].replace({0:'NAO',1:'SIM',2:'SIM',3:'SIM',4:'SIM',5:'SIM'}, inplace = True)"
   ]
  },
  {
   "cell_type": "code",
   "execution_count": 164,
   "metadata": {},
   "outputs": [],
   "source": [
    "base['INTERNET'].replace({0:'NAO',1:'SIM'}, inplace = True)"
   ]
  },
  {
   "cell_type": "code",
   "execution_count": 165,
   "metadata": {},
   "outputs": [],
   "source": [
    "base['NOTA'] = base['NOTA'].str.upper()"
   ]
  },
  {
   "cell_type": "code",
   "execution_count": 166,
   "metadata": {},
   "outputs": [
    {
     "data": {
      "text/html": [
       "<div>\n",
       "<style scoped>\n",
       "    .dataframe tbody tr th:only-of-type {\n",
       "        vertical-align: middle;\n",
       "    }\n",
       "\n",
       "    .dataframe tbody tr th {\n",
       "        vertical-align: top;\n",
       "    }\n",
       "\n",
       "    .dataframe thead th {\n",
       "        text-align: right;\n",
       "    }\n",
       "</style>\n",
       "<table border=\"1\" class=\"dataframe\">\n",
       "  <thead>\n",
       "    <tr style=\"text-align: right;\">\n",
       "      <th></th>\n",
       "      <th>TP_FAIXA_ETARIA</th>\n",
       "      <th>TP_ESCOLA</th>\n",
       "      <th>TP_ENSINO</th>\n",
       "      <th>RENDA_FAM</th>\n",
       "      <th>CELULAR</th>\n",
       "      <th>COMPUTADOR</th>\n",
       "      <th>INTERNET</th>\n",
       "      <th>NOTA</th>\n",
       "    </tr>\n",
       "  </thead>\n",
       "  <tbody>\n",
       "    <tr>\n",
       "      <th>0</th>\n",
       "      <td>20</td>\n",
       "      <td>DESCONHECIDA</td>\n",
       "      <td>DESCONHECIDO</td>\n",
       "      <td>D</td>\n",
       "      <td>SIM</td>\n",
       "      <td>SIM</td>\n",
       "      <td>SIM</td>\n",
       "      <td>BAIXA</td>\n",
       "    </tr>\n",
       "    <tr>\n",
       "      <th>1</th>\n",
       "      <td>31..35</td>\n",
       "      <td>DESCONHECIDA</td>\n",
       "      <td>DESCONHECIDO</td>\n",
       "      <td>B</td>\n",
       "      <td>SIM</td>\n",
       "      <td>NAO</td>\n",
       "      <td>NAO</td>\n",
       "      <td>MEDIA</td>\n",
       "    </tr>\n",
       "    <tr>\n",
       "      <th>2</th>\n",
       "      <td>18</td>\n",
       "      <td>PUBLICA</td>\n",
       "      <td>REGULAR</td>\n",
       "      <td>B</td>\n",
       "      <td>SIM</td>\n",
       "      <td>SIM</td>\n",
       "      <td>SIM</td>\n",
       "      <td>MEDIA</td>\n",
       "    </tr>\n",
       "    <tr>\n",
       "      <th>3</th>\n",
       "      <td>17</td>\n",
       "      <td>PUBLICA</td>\n",
       "      <td>REGULAR</td>\n",
       "      <td>C</td>\n",
       "      <td>SIM</td>\n",
       "      <td>SIM</td>\n",
       "      <td>SIM</td>\n",
       "      <td>MEDIA</td>\n",
       "    </tr>\n",
       "    <tr>\n",
       "      <th>4</th>\n",
       "      <td>24</td>\n",
       "      <td>DESCONHECIDA</td>\n",
       "      <td>DESCONHECIDO</td>\n",
       "      <td>C</td>\n",
       "      <td>SIM</td>\n",
       "      <td>NAO</td>\n",
       "      <td>SIM</td>\n",
       "      <td>BAIXA</td>\n",
       "    </tr>\n",
       "  </tbody>\n",
       "</table>\n",
       "</div>"
      ],
      "text/plain": [
       "  TP_FAIXA_ETARIA     TP_ESCOLA     TP_ENSINO RENDA_FAM CELULAR COMPUTADOR  \\\n",
       "0              20  DESCONHECIDA  DESCONHECIDO         D     SIM        SIM   \n",
       "1          31..35  DESCONHECIDA  DESCONHECIDO         B     SIM        NAO   \n",
       "2              18       PUBLICA       REGULAR         B     SIM        SIM   \n",
       "3              17       PUBLICA       REGULAR         C     SIM        SIM   \n",
       "4              24  DESCONHECIDA  DESCONHECIDO         C     SIM        NAO   \n",
       "\n",
       "  INTERNET   NOTA  \n",
       "0      SIM  BAIXA  \n",
       "1      NAO  MEDIA  \n",
       "2      SIM  MEDIA  \n",
       "3      SIM  MEDIA  \n",
       "4      SIM  BAIXA  "
      ]
     },
     "execution_count": 166,
     "metadata": {},
     "output_type": "execute_result"
    }
   ],
   "source": [
    "base.head()"
   ]
  },
  {
   "cell_type": "code",
   "execution_count": 170,
   "metadata": {},
   "outputs": [],
   "source": [
    "def graphicGenerator(index, hue, figsize, style, titleA, titleB, yLabel, xLabel):\n",
    "\n",
    "    if index == 'TP_FAIXA_ETARIA':\n",
    "        # Gráfico A\n",
    "        plt.figure(figsize = (10,10))\n",
    "        sns.set_theme(style = style)\n",
    "        top_10 = base[index].value_counts()[:10].index\n",
    "        sns.countplot(x=index, order=top_10, data=base, linewidth=0)\n",
    "        plt.title(titleA)\n",
    "        plt.ylabel(yLabel)\n",
    "        plt.xlabel(xLabel)\n",
    "        plt.xticks(rotation = 45)\n",
    "        # Gráfico B\n",
    "        plt.figure(figsize = (10,10))\n",
    "        sns.set_theme(style = style)\n",
    "        sns.countplot(x=index, hue=hue, order=top_10, data=base, linewidth=0)\n",
    "        plt.title(titleB)\n",
    "        plt.ylabel(yLabel)\n",
    "        plt.xlabel(xLabel)\n",
    "\n",
    "    elif index == 'RENDA_FAM':\n",
    "        # Gráfico A\n",
    "        plt.figure(figsize = figsize)\n",
    "        sns.set_theme(style = style)\n",
    "        top_renda = base.groupby(index).size().index\n",
    "        sns.countplot(x=index, order=top_renda, data=base)\n",
    "        plt.title(titleA)\n",
    "        plt.ylabel(yLabel)\n",
    "        plt.xlabel(xLabel)\n",
    "        # Gráfico B\n",
    "        plt.figure(figsize = figsize)\n",
    "        sns.set_theme(style = style)\n",
    "        sns.countplot(x=index, hue=hue, order=top_renda, data=base, linewidth=0)\n",
    "        plt.title(titleB)\n",
    "        plt.ylabel(yLabel)\n",
    "        plt.xlabel(xLabel)\n",
    "        \n",
    "    else:\n",
    "        # Gráfico A\n",
    "        plt.figure(figsize = figsize)\n",
    "        sns.set_theme(style = style)\n",
    "        sns.countplot(x=index, data=base)\n",
    "        plt.title(titleA)\n",
    "        plt.ylabel(yLabel)\n",
    "        plt.xlabel(xLabel)\n",
    "        # Gráfico B\n",
    "        plt.figure(figsize = figsize)\n",
    "        sns.set_theme(style = style)\n",
    "        sns.countplot(x=index, hue=hue, data=base)\n",
    "        plt.title(titleB)\n",
    "        plt.ylabel(yLabel)\n",
    "        plt.xlabel(xLabel)"
   ]
  },
  {
   "cell_type": "code",
   "execution_count": 168,
   "metadata": {},
   "outputs": [
    {
     "data": {
      "text/html": [
       "<div>\n",
       "<style scoped>\n",
       "    .dataframe tbody tr th:only-of-type {\n",
       "        vertical-align: middle;\n",
       "    }\n",
       "\n",
       "    .dataframe tbody tr th {\n",
       "        vertical-align: top;\n",
       "    }\n",
       "\n",
       "    .dataframe thead th {\n",
       "        text-align: right;\n",
       "    }\n",
       "</style>\n",
       "<table border=\"1\" class=\"dataframe\">\n",
       "  <thead>\n",
       "    <tr style=\"text-align: right;\">\n",
       "      <th></th>\n",
       "      <th>INDEXES</th>\n",
       "    </tr>\n",
       "  </thead>\n",
       "  <tbody>\n",
       "    <tr>\n",
       "      <th>0</th>\n",
       "      <td>TP_FAIXA_ETARIA</td>\n",
       "    </tr>\n",
       "    <tr>\n",
       "      <th>1</th>\n",
       "      <td>TP_ESCOLA</td>\n",
       "    </tr>\n",
       "    <tr>\n",
       "      <th>2</th>\n",
       "      <td>TP_ENSINO</td>\n",
       "    </tr>\n",
       "    <tr>\n",
       "      <th>3</th>\n",
       "      <td>RENDA_FAM</td>\n",
       "    </tr>\n",
       "    <tr>\n",
       "      <th>4</th>\n",
       "      <td>CELULAR</td>\n",
       "    </tr>\n",
       "    <tr>\n",
       "      <th>5</th>\n",
       "      <td>COMPUTADOR</td>\n",
       "    </tr>\n",
       "    <tr>\n",
       "      <th>6</th>\n",
       "      <td>INTERNET</td>\n",
       "    </tr>\n",
       "  </tbody>\n",
       "</table>\n",
       "</div>"
      ],
      "text/plain": [
       "           INDEXES\n",
       "0  TP_FAIXA_ETARIA\n",
       "1        TP_ESCOLA\n",
       "2        TP_ENSINO\n",
       "3        RENDA_FAM\n",
       "4          CELULAR\n",
       "5       COMPUTADOR\n",
       "6         INTERNET"
      ]
     },
     "execution_count": 168,
     "metadata": {},
     "output_type": "execute_result"
    }
   ],
   "source": [
    "indexes = pd.DataFrame(base.columns).drop([7]).rename(columns = {0:'INDEXES'})\n",
    "indexes"
   ]
  },
  {
   "cell_type": "code",
   "execution_count": 172,
   "metadata": {},
   "outputs": [
    {
     "name": "stdout",
     "output_type": "stream",
     "text": [
      "-=--=--=--=--=--=--=--=--=--=--=--=--=--=--=--=--=--=--=--=--=--=--=--=--=-\n",
      "                      0\n",
      "INTERNET NOTA          \n",
      "NAO      ALTA       775\n",
      "         BAIXA   119362\n",
      "         MEDIA    55750\n",
      "SIM      ALTA     94120\n",
      "         BAIXA   702068\n",
      "         MEDIA  1074931\n",
      "-=--=--=--=--=--=--=--=--=--=--=--=--=--=--=--=--=--=--=--=--=--=--=--=--=-\n",
      "0.44% dos participantes que NÃO possuem INTERNET obtiveram nota alta.\n",
      "5.03% dos participantes que POSSUEM INTERNET obtiveram nota alta.\n",
      "-=--=--=--=--=--=--=--=--=--=--=--=--=--=--=--=--=--=--=--=--=--=--=--=--=-\n"
     ]
    },
    {
     "data": {
      "image/png": "[encoded data removed]",
      "text/plain": [
       "<Figure size 360x360 with 1 Axes>"
      ]
     },
     "metadata": {},
     "output_type": "display_data"
    },
    {
     "data": {
      "image/png": "[encoded data removed]",
      "text/plain": [
       "<Figure size 360x360 with 1 Axes>"
      ]
     },
     "metadata": {},
     "output_type": "display_data"
    }
   ],
   "source": [
    "inputIndex = int(input('Input Index'))\n",
    "index = base.columns[inputIndex]\n",
    "\n",
    "comparacao = pd.DataFrame(base.groupby([index, 'NOTA']).size())\n",
    "print('-=-'*25)\n",
    "print(comparacao)\n",
    "\n",
    "if index != 'TP_FAIXA_ETARIA':\n",
    "\n",
    "    if index == 'TP_ESCOLA':\n",
    "        tipo1 = 'PRIVADA'\n",
    "        tipo2 = 'PUBLICA'\n",
    "        msg1 = 'do {} PUBLICA'.format(index)\n",
    "        msg2 = 'do {} PRIVADA'.format(index)\n",
    "\n",
    "    elif index == 'TP_ENSINO':\n",
    "        tipo1 = 'REGULAR'\n",
    "        tipo2 = 'SUBSTITUTIVO'\n",
    "        msg1 = 'do {} REGULAR'.format(index)\n",
    "        msg2 = 'do {} SUBSTITUTIVO'.format(index)\n",
    "\n",
    "    elif index == 'RENDA_FAM':\n",
    "        tipo1 = 'B'\n",
    "        tipo2 = 'Q'\n",
    "        msg1 = 'de {} de ATÉ R$1.100,00'.format(index)\n",
    "        msg2 = 'de {} ACIMA DE R$22.000,00'.format(index)\n",
    "\n",
    "    else:\n",
    "        tipo1 = 'NAO'\n",
    "        tipo2 = 'SIM'\n",
    "        msg1 = 'que NÃO possuem {}'.format(index)\n",
    "        msg2 = 'que POSSUEM {}'.format(index)\n",
    "\n",
    "    c1 = list(comparacao.loc[tipo1].values)\n",
    "    c2 = list(comparacao.loc[tipo2].values)\n",
    "    sumC1 = int(c1[0]+c1[1]+c1[2])\n",
    "    sumC2 = int(c2[0]+c2[1]+c2[2])\n",
    "    c1 = float(c1[0]*100/sumC1)\n",
    "    c2 = float(c2[0]*100/sumC2)\n",
    "\n",
    "    print('-=-'*25)\n",
    "    print('{:.2f}% dos participantes {} obtiveram nota alta.'.format(c1, msg1))\n",
    "    print('{:.2f}% dos participantes {} obtiveram nota alta.'.format(c2, msg2))\n",
    "    print('-=-'*25)\n",
    "\n",
    "graphicGenerator(index=index, hue = 'NOTA', figsize=(5,5), style='darkgrid', titleA=index, \n",
    "                 titleB='NOTAS X '+index, yLabel='Partifipantes', xLabel='')"
   ]
  }
 ],
 "metadata": {
  "kernelspec": {
   "display_name": "Python 3.10.5 64-bit",
   "language": "python",
   "name": "python3"
  },
  "language_info": {
   "codemirror_mode": {
    "name": "ipython",
    "version": 3
   },
   "file_extension": ".py",
   "mimetype": "text/x-python",
   "name": "python",
   "nbconvert_exporter": "python",
   "pygments_lexer": "ipython3",
   "version": "3.10.5"
  },
  "vscode": {
   "interpreter": {
    "hash": "f0cc6ac6ae42d7b7a2c0ba126ab853cd3055a2361239d2799ab31271d6bd3859"
   }
  }
 },
 "nbformat": 4,
 "nbformat_minor": 4
}
