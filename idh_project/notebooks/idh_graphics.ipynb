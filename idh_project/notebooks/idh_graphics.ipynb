{
 "cells": [
  {
   "cell_type": "code",
   "execution_count": 1,
   "metadata": {},
   "outputs": [],
   "source": [
    "#Bibliotecas\n",
    "import pandas as pd\n",
    "import numpy as np\n",
    "import seaborn as sns\n",
    "import matplotlib.pyplot as plt"
   ]
  },
  {
   "cell_type": "code",
   "execution_count": 2,
   "metadata": {},
   "outputs": [],
   "source": [
    "#Carregamento da base de dados classificada\n",
    "base_classe = pd.read_csv('idh_classificado_B.csv')"
   ]
  },
  {
   "cell_type": "code",
   "execution_count": 3,
   "metadata": {},
   "outputs": [
    {
     "data": {
      "text/plain": [
       "ClassIDH\n",
       "Alto     62\n",
       "Baixo    17\n",
       "Médio    77\n",
       "dtype: int64"
      ]
     },
     "execution_count": 3,
     "metadata": {},
     "output_type": "execute_result"
    }
   ],
   "source": [
    "#Agrupando por classe\n",
    "classe = base_classe.groupby(['ClassIDH']).size()\n",
    "classe"
   ]
  },
  {
   "cell_type": "code",
   "execution_count": 4,
   "metadata": {},
   "outputs": [
    {
     "data": {
      "text/html": [
       "<div>\n",
       "<style scoped>\n",
       "    .dataframe tbody tr th:only-of-type {\n",
       "        vertical-align: middle;\n",
       "    }\n",
       "\n",
       "    .dataframe tbody tr th {\n",
       "        vertical-align: top;\n",
       "    }\n",
       "\n",
       "    .dataframe thead th {\n",
       "        text-align: right;\n",
       "    }\n",
       "</style>\n",
       "<table border=\"1\" class=\"dataframe\">\n",
       "  <thead>\n",
       "    <tr style=\"text-align: right;\">\n",
       "      <th></th>\n",
       "      <th>PAÍS</th>\n",
       "      <th>PIB</th>\n",
       "      <th>ILE</th>\n",
       "      <th>IPC</th>\n",
       "      <th>ClassIDH</th>\n",
       "    </tr>\n",
       "  </thead>\n",
       "  <tbody>\n",
       "    <tr>\n",
       "      <th>0</th>\n",
       "      <td>África do Sul</td>\n",
       "      <td>0.004457</td>\n",
       "      <td>6.97</td>\n",
       "      <td>44</td>\n",
       "      <td>Médio</td>\n",
       "    </tr>\n",
       "    <tr>\n",
       "      <th>1</th>\n",
       "      <td>Albânia</td>\n",
       "      <td>0.000182</td>\n",
       "      <td>7.81</td>\n",
       "      <td>35</td>\n",
       "      <td>Médio</td>\n",
       "    </tr>\n",
       "    <tr>\n",
       "      <th>2</th>\n",
       "      <td>Alemanha</td>\n",
       "      <td>0.045774</td>\n",
       "      <td>7.91</td>\n",
       "      <td>80</td>\n",
       "      <td>Alto</td>\n",
       "    </tr>\n",
       "    <tr>\n",
       "      <th>3</th>\n",
       "      <td>Angola</td>\n",
       "      <td>0.001282</td>\n",
       "      <td>5.50</td>\n",
       "      <td>26</td>\n",
       "      <td>Médio</td>\n",
       "    </tr>\n",
       "    <tr>\n",
       "      <th>4</th>\n",
       "      <td>Arábia Saudita</td>\n",
       "      <td>0.008244</td>\n",
       "      <td>6.85</td>\n",
       "      <td>53</td>\n",
       "      <td>Alto</td>\n",
       "    </tr>\n",
       "    <tr>\n",
       "      <th>...</th>\n",
       "      <td>...</td>\n",
       "      <td>...</td>\n",
       "      <td>...</td>\n",
       "      <td>...</td>\n",
       "      <td>...</td>\n",
       "    </tr>\n",
       "    <tr>\n",
       "      <th>151</th>\n",
       "      <td>Uruguai</td>\n",
       "      <td>0.000722</td>\n",
       "      <td>7.36</td>\n",
       "      <td>71</td>\n",
       "      <td>Alto</td>\n",
       "    </tr>\n",
       "    <tr>\n",
       "      <th>152</th>\n",
       "      <td>Venezuela</td>\n",
       "      <td>0.001191</td>\n",
       "      <td>2.83</td>\n",
       "      <td>16</td>\n",
       "      <td>Médio</td>\n",
       "    </tr>\n",
       "    <tr>\n",
       "      <th>153</th>\n",
       "      <td>Vietnã</td>\n",
       "      <td>0.002921</td>\n",
       "      <td>6.26</td>\n",
       "      <td>37</td>\n",
       "      <td>Médio</td>\n",
       "    </tr>\n",
       "    <tr>\n",
       "      <th>154</th>\n",
       "      <td>Zâmbia</td>\n",
       "      <td>0.000032</td>\n",
       "      <td>7.09</td>\n",
       "      <td>34</td>\n",
       "      <td>Médio</td>\n",
       "    </tr>\n",
       "    <tr>\n",
       "      <th>155</th>\n",
       "      <td>Zimbábue</td>\n",
       "      <td>0.000254</td>\n",
       "      <td>4.94</td>\n",
       "      <td>24</td>\n",
       "      <td>Médio</td>\n",
       "    </tr>\n",
       "  </tbody>\n",
       "</table>\n",
       "<p>156 rows × 5 columns</p>\n",
       "</div>"
      ],
      "text/plain": [
       "               PAÍS       PIB   ILE  IPC ClassIDH\n",
       "0     África do Sul  0.004457  6.97   44    Médio\n",
       "1           Albânia  0.000182  7.81   35    Médio\n",
       "2          Alemanha  0.045774  7.91   80     Alto\n",
       "3            Angola  0.001282  5.50   26    Médio\n",
       "4    Arábia Saudita  0.008244  6.85   53     Alto\n",
       "..              ...       ...   ...  ...      ...\n",
       "151         Uruguai  0.000722  7.36   71     Alto\n",
       "152       Venezuela  0.001191  2.83   16    Médio\n",
       "153          Vietnã  0.002921  6.26   37    Médio\n",
       "154          Zâmbia  0.000032  7.09   34    Médio\n",
       "155        Zimbábue  0.000254  4.94   24    Médio\n",
       "\n",
       "[156 rows x 5 columns]"
      ]
     },
     "execution_count": 4,
     "metadata": {},
     "output_type": "execute_result"
    }
   ],
   "source": [
    "base_classe"
   ]
  },
  {
   "cell_type": "code",
   "execution_count": 5,
   "metadata": {},
   "outputs": [
    {
     "data": {
      "text/html": [
       "<div>\n",
       "<style scoped>\n",
       "    .dataframe tbody tr th:only-of-type {\n",
       "        vertical-align: middle;\n",
       "    }\n",
       "\n",
       "    .dataframe tbody tr th {\n",
       "        vertical-align: top;\n",
       "    }\n",
       "\n",
       "    .dataframe thead th {\n",
       "        text-align: right;\n",
       "    }\n",
       "</style>\n",
       "<table border=\"1\" class=\"dataframe\">\n",
       "  <thead>\n",
       "    <tr style=\"text-align: right;\">\n",
       "      <th></th>\n",
       "      <th>País</th>\n",
       "      <th>PIB</th>\n",
       "      <th>ILE</th>\n",
       "      <th>IPC</th>\n",
       "      <th>IDH</th>\n",
       "    </tr>\n",
       "  </thead>\n",
       "  <tbody>\n",
       "    <tr>\n",
       "      <th>0</th>\n",
       "      <td>África do Sul</td>\n",
       "      <td>0.004457</td>\n",
       "      <td>6.97</td>\n",
       "      <td>44</td>\n",
       "      <td>0.709</td>\n",
       "    </tr>\n",
       "    <tr>\n",
       "      <th>1</th>\n",
       "      <td>Albânia</td>\n",
       "      <td>0.000182</td>\n",
       "      <td>7.81</td>\n",
       "      <td>35</td>\n",
       "      <td>0.795</td>\n",
       "    </tr>\n",
       "    <tr>\n",
       "      <th>2</th>\n",
       "      <td>Alemanha</td>\n",
       "      <td>0.045774</td>\n",
       "      <td>7.91</td>\n",
       "      <td>80</td>\n",
       "      <td>0.947</td>\n",
       "    </tr>\n",
       "    <tr>\n",
       "      <th>3</th>\n",
       "      <td>Angola</td>\n",
       "      <td>0.001282</td>\n",
       "      <td>5.50</td>\n",
       "      <td>26</td>\n",
       "      <td>0.581</td>\n",
       "    </tr>\n",
       "    <tr>\n",
       "      <th>4</th>\n",
       "      <td>Arábia Saudita</td>\n",
       "      <td>0.008244</td>\n",
       "      <td>6.85</td>\n",
       "      <td>53</td>\n",
       "      <td>0.854</td>\n",
       "    </tr>\n",
       "    <tr>\n",
       "      <th>...</th>\n",
       "      <td>...</td>\n",
       "      <td>...</td>\n",
       "      <td>...</td>\n",
       "      <td>...</td>\n",
       "      <td>...</td>\n",
       "    </tr>\n",
       "    <tr>\n",
       "      <th>151</th>\n",
       "      <td>Uruguai</td>\n",
       "      <td>0.000722</td>\n",
       "      <td>7.36</td>\n",
       "      <td>71</td>\n",
       "      <td>0.817</td>\n",
       "    </tr>\n",
       "    <tr>\n",
       "      <th>152</th>\n",
       "      <td>Venezuela</td>\n",
       "      <td>0.001191</td>\n",
       "      <td>2.83</td>\n",
       "      <td>16</td>\n",
       "      <td>0.711</td>\n",
       "    </tr>\n",
       "    <tr>\n",
       "      <th>153</th>\n",
       "      <td>Vietnã</td>\n",
       "      <td>0.002921</td>\n",
       "      <td>6.26</td>\n",
       "      <td>37</td>\n",
       "      <td>0.704</td>\n",
       "    </tr>\n",
       "    <tr>\n",
       "      <th>154</th>\n",
       "      <td>Zâmbia</td>\n",
       "      <td>0.000032</td>\n",
       "      <td>7.09</td>\n",
       "      <td>34</td>\n",
       "      <td>0.584</td>\n",
       "    </tr>\n",
       "    <tr>\n",
       "      <th>155</th>\n",
       "      <td>Zimbábue</td>\n",
       "      <td>0.000254</td>\n",
       "      <td>4.94</td>\n",
       "      <td>24</td>\n",
       "      <td>0.571</td>\n",
       "    </tr>\n",
       "  </tbody>\n",
       "</table>\n",
       "<p>156 rows × 5 columns</p>\n",
       "</div>"
      ],
      "text/plain": [
       "               País       PIB   ILE  IPC    IDH\n",
       "0     África do Sul  0.004457  6.97   44  0.709\n",
       "1           Albânia  0.000182  7.81   35  0.795\n",
       "2          Alemanha  0.045774  7.91   80  0.947\n",
       "3            Angola  0.001282  5.50   26  0.581\n",
       "4    Arábia Saudita  0.008244  6.85   53  0.854\n",
       "..              ...       ...   ...  ...    ...\n",
       "151         Uruguai  0.000722  7.36   71  0.817\n",
       "152       Venezuela  0.001191  2.83   16  0.711\n",
       "153          Vietnã  0.002921  6.26   37  0.704\n",
       "154          Zâmbia  0.000032  7.09   34  0.584\n",
       "155        Zimbábue  0.000254  4.94   24  0.571\n",
       "\n",
       "[156 rows x 5 columns]"
      ]
     },
     "execution_count": 5,
     "metadata": {},
     "output_type": "execute_result"
    }
   ],
   "source": [
    "#Carregamento da base de dados pontuada\n",
    "base_num = pd.read_csv('idh_pontuado.csv')\n",
    "base_num"
   ]
  },
  {
   "cell_type": "code",
   "execution_count": 6,
   "metadata": {},
   "outputs": [],
   "source": [
    "#Dividindo índices para análises individuais\n",
    "ile = base_num.iloc[:,2].values\n",
    "ipc = base_num.iloc[:,3].values\n",
    "idh = base_num.iloc[:,4].values"
   ]
  },
  {
   "cell_type": "code",
   "execution_count": 7,
   "metadata": {},
   "outputs": [
    {
     "data": {
      "text/plain": [
       "<AxesSubplot:xlabel='ClassIDH'>"
      ]
     },
     "execution_count": 7,
     "metadata": {},
     "output_type": "execute_result"
    },
    {
     "data": {
      "image/png": "[encoded data removed]",
      "text/plain": [
       "<Figure size 432x288 with 1 Axes>"
      ]
     },
     "metadata": {
      "needs_background": "light"
     },
     "output_type": "display_data"
    }
   ],
   "source": [
    "#Gráfico de barras da classe\n",
    "classe.plot.bar(color = ['green', 'yellow', 'red'])"
   ]
  },
  {
   "cell_type": "code",
   "execution_count": 8,
   "metadata": {},
   "outputs": [],
   "source": [
    "#Criando ordenamento específico para IDH\n",
    "classe_ordenada = pd.CategoricalDtype(categories = ['Alto', 'Médio', 'Baixo'], ordered = True)\n",
    "base_classe['ClassIDH'] = base_classe['ClassIDH'].astype(classe_ordenada)\n",
    "base_classe.sort_values('ClassIDH', ascending = True, inplace = True)"
   ]
  },
  {
   "cell_type": "code",
   "execution_count": 9,
   "metadata": {},
   "outputs": [
    {
     "data": {
      "text/plain": [
       "ClassIDH\n",
       "Alto     62\n",
       "Médio    77\n",
       "Baixo    17\n",
       "dtype: int64"
      ]
     },
     "execution_count": 9,
     "metadata": {},
     "output_type": "execute_result"
    }
   ],
   "source": [
    "#Aplicando ordenamento criado no dataframe\n",
    "classe = base_classe.groupby(['ClassIDH']).size()\n",
    "classe"
   ]
  },
  {
   "cell_type": "code",
   "execution_count": 10,
   "metadata": {},
   "outputs": [
    {
     "data": {
      "text/plain": [
       "<AxesSubplot:xlabel='ClassIDH'>"
      ]
     },
     "execution_count": 10,
     "metadata": {},
     "output_type": "execute_result"
    },
    {
     "data": {
      "image/png": "[encoded data removed]",
      "text/plain": [
       "<Figure size 432x288 with 1 Axes>"
      ]
     },
     "metadata": {
      "needs_background": "light"
     },
     "output_type": "display_data"
    }
   ],
   "source": [
    "#Analisando novamente a classe\n",
    "classe.plot.bar(color = ['green', 'yellow', 'red'])"
   ]
  },
  {
   "cell_type": "code",
   "execution_count": 11,
   "metadata": {},
   "outputs": [
    {
     "data": {
      "text/plain": [
       "<AxesSubplot:ylabel='None'>"
      ]
     },
     "execution_count": 11,
     "metadata": {},
     "output_type": "execute_result"
    },
    {
     "data": {
      "image/png": "[encoded data removed]",
      "text/plain": [
       "<Figure size 432x288 with 1 Axes>"
      ]
     },
     "metadata": {},
     "output_type": "display_data"
    }
   ],
   "source": [
    "#Gr´sfico de pizza da classe\n",
    "classe.plot.pie(legend = True)"
   ]
  },
  {
   "cell_type": "code",
   "execution_count": 12,
   "metadata": {},
   "outputs": [
    {
     "data": {
      "text/plain": [
       "Text(0.5, 0, 'ÍNDICE')"
      ]
     },
     "execution_count": 12,
     "metadata": {},
     "output_type": "execute_result"
    },
    {
     "data": {
      "image/png": "[encoded data removed]",
      "text/plain": [
       "<Figure size 432x288 with 1 Axes>"
      ]
     },
     "metadata": {
      "needs_background": "light"
     },
     "output_type": "display_data"
    }
   ],
   "source": [
    "#Verificando a existência de outliers no índice ILE\n",
    "plt.boxplot(ile, vert = False, showfliers = True, notch = False, patch_artist = False)\n",
    "plt.title(\"ILE\")\n",
    "plt.xlabel(\"ÍNDICE\")"
   ]
  },
  {
   "cell_type": "code",
   "execution_count": 13,
   "metadata": {},
   "outputs": [
    {
     "data": {
      "text/plain": [
       "Text(0.5, 1.0, 'ÍNDICE')"
      ]
     },
     "execution_count": 13,
     "metadata": {},
     "output_type": "execute_result"
    },
    {
     "data": {
      "image/png": "[encoded data removed]",
      "text/plain": [
       "<Figure size 432x288 with 1 Axes>"
      ]
     },
     "metadata": {
      "needs_background": "light"
     },
     "output_type": "display_data"
    }
   ],
   "source": [
    "#Verificando a existência de outliers no índice IPC\n",
    "plt.boxplot(ipc, vert = False, showfliers = True, notch = False, patch_artist = False)\n",
    "plt.title('IPC')\n",
    "plt.title('ÍNDICE')"
   ]
  },
  {
   "cell_type": "code",
   "execution_count": 14,
   "metadata": {},
   "outputs": [
    {
     "data": {
      "text/plain": [
       "Text(0.5, 0, 'ÍNDICE')"
      ]
     },
     "execution_count": 14,
     "metadata": {},
     "output_type": "execute_result"
    },
    {
     "data": {
      "image/png": "[encoded data removed]",
      "text/plain": [
       "<Figure size 432x288 with 1 Axes>"
      ]
     },
     "metadata": {
      "needs_background": "light"
     },
     "output_type": "display_data"
    }
   ],
   "source": [
    "#Verificando a existência de outliers na classe IDH\n",
    "plt.boxplot(idh, vert = False, showfliers = True, notch = False, patch_artist = False)\n",
    "plt.title('IDH')\n",
    "plt.xlabel('ÍNDICE')"
   ]
  },
  {
   "cell_type": "code",
   "execution_count": 15,
   "metadata": {},
   "outputs": [
    {
     "data": {
      "text/plain": [
       "array([6.97, 7.81, 7.91, 5.5 , 6.85, 4.9 , 5.5 , 8.03, 8.2 , 7.86, 6.44,\n",
       "       7.56, 7.33, 6.05, 6.91, 7.62, 6.62, 6.88, 6.28, 6.86, 7.62, 6.63,\n",
       "       7.3 , 7.76, 6.04, 5.65, 6.82, 7.65, 5.86, 7.22, 8.06, 7.09, 7.52,\n",
       "       5.6 , 7.85, 6.53, 7.89, 6.82, 6.55, 5.08, 7.61, 7.68, 7.36, 8.17,\n",
       "       6.68, 5.68, 7.39, 7.28, 6.68, 7.61, 7.43, 7.89, 8.24, 8.11, 5.87,\n",
       "       7.42, 7.92, 7.55, 5.8 , 7.04, 6.69, 8.26, 7.15, 7.8 , 6.52, 5.62,\n",
       "       6.06, 6.51, 7.96, 7.26, 8.91, 7.53, 5.45, 8.16, 6.66, 7.26, 5.06,\n",
       "       5.74, 8.21, 7.9 , 7.63, 7.61, 7.71, 7.98, 7.59, 6.72, 6.6 , 6.57,\n",
       "       7.94, 6.76, 6.35, 4.79, 8.21, 7.84, 7.13, 6.33, 7.52, 5.96, 5.83,\n",
       "       8.03, 6.69, 6.49, 7.2 , 6.15, 7.3 , 7.38, 7.64, 5.94, 6.76, 6.71,\n",
       "       7.04, 5.97, 6.97, 7.72, 6.23, 8.56, 6.69, 7.79, 5.95, 7.22, 7.78,\n",
       "       7.2 , 7.79, 6.94, 7.17, 8.15, 5.36, 5.36, 7.58, 7.87, 7.88, 7.35,\n",
       "       6.7 , 6.25, 6.15, 7.22, 8.81, 5.19, 6.78, 4.19, 7.72, 8.48, 6.14,\n",
       "       6.87, 6.5 , 6.75, 6.19, 7.27, 5.97, 6.2 , 7.42, 7.36, 2.83, 6.26,\n",
       "       7.09, 4.94])"
      ]
     },
     "execution_count": 15,
     "metadata": {},
     "output_type": "execute_result"
    }
   ],
   "source": [
    "#ILE\n",
    "ile"
   ]
  },
  {
   "cell_type": "code",
   "execution_count": 16,
   "metadata": {},
   "outputs": [],
   "source": [
    "#Capturando outliers no índice ILE \n",
    "outliers = []\n",
    "\n",
    "def find_outliers(ile):\n",
    "    corte_dpadrao = 3\n",
    "    media = np.mean(ile)\n",
    "    dpadrao = np.std(ile)\n",
    "    \n",
    "    for dado in ile:\n",
    "        z_score = (dado - media)/dpadrao\n",
    "        if np.abs(z_score) >= corte_dpadrao:\n",
    "            outliers.append(dado)\n",
    "            \n",
    "    return outliers"
   ]
  },
  {
   "cell_type": "code",
   "execution_count": 17,
   "metadata": {},
   "outputs": [
    {
     "data": {
      "text/plain": [
       "[2.83]"
      ]
     },
     "execution_count": 17,
     "metadata": {},
     "output_type": "execute_result"
    }
   ],
   "source": [
    "#Visualizando outliers em ILE\n",
    "outliers = find_outliers(ile)\n",
    "outliers"
   ]
  },
  {
   "cell_type": "code",
   "execution_count": 18,
   "metadata": {},
   "outputs": [
    {
     "data": {
      "text/html": [
       "<div>\n",
       "<style scoped>\n",
       "    .dataframe tbody tr th:only-of-type {\n",
       "        vertical-align: middle;\n",
       "    }\n",
       "\n",
       "    .dataframe tbody tr th {\n",
       "        vertical-align: top;\n",
       "    }\n",
       "\n",
       "    .dataframe thead th {\n",
       "        text-align: right;\n",
       "    }\n",
       "</style>\n",
       "<table border=\"1\" class=\"dataframe\">\n",
       "  <thead>\n",
       "    <tr style=\"text-align: right;\">\n",
       "      <th></th>\n",
       "      <th>PAÍS</th>\n",
       "      <th>PIB</th>\n",
       "      <th>ILE</th>\n",
       "      <th>IPC</th>\n",
       "      <th>ClassIDH</th>\n",
       "    </tr>\n",
       "  </thead>\n",
       "  <tbody>\n",
       "    <tr>\n",
       "      <th>152</th>\n",
       "      <td>Venezuela</td>\n",
       "      <td>0.001191</td>\n",
       "      <td>2.83</td>\n",
       "      <td>16</td>\n",
       "      <td>Médio</td>\n",
       "    </tr>\n",
       "  </tbody>\n",
       "</table>\n",
       "</div>"
      ],
      "text/plain": [
       "          PAÍS       PIB   ILE  IPC ClassIDH\n",
       "152  Venezuela  0.001191  2.83   16    Médio"
      ]
     },
     "execution_count": 18,
     "metadata": {},
     "output_type": "execute_result"
    }
   ],
   "source": [
    "#Verificando o dado com outlier\n",
    "base_classe.loc[base_classe['ILE'] == 2.83]"
   ]
  },
  {
   "cell_type": "code",
   "execution_count": 19,
   "metadata": {},
   "outputs": [],
   "source": [
    "#Removendo outlier nos dataframes\n",
    "base_classe.drop(152, axis = 0, inplace = True)\n",
    "base_num.drop(152, axis = 0, inplace = True)"
   ]
  },
  {
   "cell_type": "code",
   "execution_count": 20,
   "metadata": {},
   "outputs": [
    {
     "data": {
      "text/html": [
       "<div>\n",
       "<style scoped>\n",
       "    .dataframe tbody tr th:only-of-type {\n",
       "        vertical-align: middle;\n",
       "    }\n",
       "\n",
       "    .dataframe tbody tr th {\n",
       "        vertical-align: top;\n",
       "    }\n",
       "\n",
       "    .dataframe thead th {\n",
       "        text-align: right;\n",
       "    }\n",
       "</style>\n",
       "<table border=\"1\" class=\"dataframe\">\n",
       "  <thead>\n",
       "    <tr style=\"text-align: right;\">\n",
       "      <th></th>\n",
       "      <th>PAÍS</th>\n",
       "      <th>PIB</th>\n",
       "      <th>ILE</th>\n",
       "      <th>IPC</th>\n",
       "      <th>ClassIDH</th>\n",
       "    </tr>\n",
       "  </thead>\n",
       "  <tbody>\n",
       "  </tbody>\n",
       "</table>\n",
       "</div>"
      ],
      "text/plain": [
       "Empty DataFrame\n",
       "Columns: [PAÍS, PIB, ILE, IPC, ClassIDH]\n",
       "Index: []"
      ]
     },
     "execution_count": 20,
     "metadata": {},
     "output_type": "execute_result"
    }
   ],
   "source": [
    "#Verificando a remoção do autlier\n",
    "base_classe.loc[base_classe['ILE'] == 2.83]"
   ]
  },
  {
   "cell_type": "code",
   "execution_count": 21,
   "metadata": {},
   "outputs": [],
   "source": [
    "#Exportando o dataframe tratado para o formato .csv\n",
    "#base_classe.to_csv('idh_Sem_Outliers.csv')"
   ]
  },
  {
   "cell_type": "code",
   "execution_count": 22,
   "metadata": {},
   "outputs": [
    {
     "data": {
      "text/plain": [
       "<seaborn.axisgrid.FacetGrid at 0x23768a3b4f0>"
      ]
     },
     "execution_count": 22,
     "metadata": {},
     "output_type": "execute_result"
    },
    {
     "data": {
      "image/png": "[encoded data removed]",
      "text/plain": [
       "<Figure size 360x360 with 1 Axes>"
      ]
     },
     "metadata": {
      "needs_background": "light"
     },
     "output_type": "display_data"
    }
   ],
   "source": [
    "#Verificando a distribuição em IDH\n",
    "sns.displot(base_num.iloc[:,4], color = 'blue', label = 'IDH', kde = True, linewidth = 1)"
   ]
  },
  {
   "cell_type": "code",
   "execution_count": 23,
   "metadata": {},
   "outputs": [
    {
     "data": {
      "text/plain": [
       "<seaborn.axisgrid.FacetGrid at 0x23768bbae50>"
      ]
     },
     "execution_count": 23,
     "metadata": {},
     "output_type": "execute_result"
    },
    {
     "data": {
      "image/png": "[encoded data removed]",
      "text/plain": [
       "<Figure size 360x360 with 1 Axes>"
      ]
     },
     "metadata": {
      "needs_background": "light"
     },
     "output_type": "display_data"
    }
   ],
   "source": [
    "#Verificando a distribuição em IPC\n",
    "sns.displot(base_num.iloc[:,3], color = 'blue', label = 'IPC', kde = True, linewidth = 1)"
   ]
  },
  {
   "cell_type": "code",
   "execution_count": 24,
   "metadata": {},
   "outputs": [
    {
     "data": {
      "text/plain": [
       "<seaborn.axisgrid.FacetGrid at 0x23768be6af0>"
      ]
     },
     "execution_count": 24,
     "metadata": {},
     "output_type": "execute_result"
    },
    {
     "data": {
      "image/png": "[encoded data removed]",
      "text/plain": [
       "<Figure size 360x360 with 1 Axes>"
      ]
     },
     "metadata": {
      "needs_background": "light"
     },
     "output_type": "display_data"
    }
   ],
   "source": [
    "#Verificando a distribuição em ILE\n",
    "sns.displot(base_num.iloc[:,2], color = 'blue', label = 'ILE', kde = True, linewidth = 1)"
   ]
  }
 ],
 "metadata": {
  "kernelspec": {
   "display_name": "Python 3",
   "language": "python",
   "name": "python3"
  },
  "language_info": {
   "codemirror_mode": {
    "name": "ipython",
    "version": 3
   },
   "file_extension": ".py",
   "mimetype": "text/x-python",
   "name": "python",
   "nbconvert_exporter": "python",
   "pygments_lexer": "ipython3",
   "version": "3.8.5"
  }
 },
 "nbformat": 4,
 "nbformat_minor": 4
}
