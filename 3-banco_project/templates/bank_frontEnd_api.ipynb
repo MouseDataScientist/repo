{
 "cells": [
  {
   "cell_type": "code",
   "execution_count": 25,
   "metadata": {},
   "outputs": [],
   "source": [
    "import pandas as pd\n",
    "import pickle\n",
    "from flask import Flask, request, render_template"
   ]
  },
  {
   "cell_type": "code",
   "execution_count": 26,
   "metadata": {},
   "outputs": [],
   "source": [
    "model = pickle.load(open('../model/model.pkl', 'rb'))"
   ]
  },
  {
   "cell_type": "code",
   "execution_count": null,
   "metadata": {},
   "outputs": [],
   "source": [
    "app = Flask(__name__, template_folder='../templates/')\n",
    "\n",
    "@app.route('/')\n",
    "def homepage():\n",
    "    img = 'static/images/main.svg'\n",
    "    return render_template('template.html', main_img=img)\n",
    "\n",
    "@app.route('/predict', methods = ['POST'])\n",
    "def predict():\n",
    "    data = {'age': 0,'education': 0,'default': 0,'balance': 0,'housing': 0,'loan': 0,'day': 0,'month': 0,'duration': 0,\n",
    "            'campaign': 0,'pdays': 0,'previous': 0,'admin.': 0.0,'blue-collar': 0.0,'entrepreneur': 0.0,'housemaid': 0.0,\n",
    "            'management': 0.0,'retired': 0.0,'self-employed': 0.0,'services': 0.0,'student': 0.0,'technician': 0.0,\n",
    "            'unemployed': 0.0,'divorced': 0.0,'married': 0.0,'single': 0.0,'cellular': 0.0,'telephone': 0.0,\n",
    "            'failure': 0.0,'other': 0.0,'success': 0.0}\n",
    "\n",
    "    age = request.form.get('age')\n",
    "    data['age']=int(age)\n",
    "\n",
    "    education = request.form.get('education')\n",
    "    data['education']=int(education)\n",
    "\n",
    "    default = request.form.get('default')\n",
    "    data['default']=int(default)\n",
    "\n",
    "    balance = request.form.get('balance')\n",
    "    data['balance']=int(balance)\n",
    "\n",
    "    housing = request.form.get('housing')\n",
    "    data['housing']=int(housing)\n",
    "\n",
    "    loan = request.form.get('loan')\n",
    "    data['loan']=int(loan)\n",
    "\n",
    "    date = request.form.get('date').split('-')\n",
    "    data['month']=int(date[1])\n",
    "    data['day']=int(date[2])\n",
    "\n",
    "    duration = request.form.get('duration')\n",
    "    data['duration']=int(duration)\n",
    "\n",
    "    campaign = request.form.get('campaign')\n",
    "    data['campaign']=int(campaign)\n",
    "\n",
    "    pdays = request.form.get('pdays')\n",
    "    data['pdays']=int(pdays)\n",
    "\n",
    "    previous = request.form.get('previous')\n",
    "    data['previous']=int(previous)\n",
    "\n",
    "    job = request.form.get('job')\n",
    "    if job in data:\n",
    "        data[job]=float(1)\n",
    "\n",
    "    marital = request.form.get('marital')\n",
    "    data[marital]=float(1)\n",
    "\n",
    "    contact = request.form.get('contact')\n",
    "    if contact in data:\n",
    "        data[contact]=float(1)\n",
    "\n",
    "    poutcome = request.form.get('poutcome')\n",
    "    if poutcome in data:\n",
    "        data[poutcome]=float(1)\n",
    "\n",
    "    to_dataframe = pd.DataFrame(data, index=[0])\n",
    "    predict = model.predict(to_dataframe)\n",
    "    print(data, predict)\n",
    "    \n",
    "    img_deposit = \"\"\n",
    "    if predict==['no']:\n",
    "        img_deposit = 'static/images/no.svg'\n",
    "    else:\n",
    "        img_deposit = 'static/images/yes.svg'\n",
    "\n",
    "    return render_template('template.html', img_deposit=img_deposit)\n",
    "\n",
    "if __name__ == '__main__':\n",
    "    app.run(host='127.0.0.1', port='5000')"
   ]
  }
 ],
 "metadata": {
  "kernelspec": {
   "display_name": "Python 3.10.5 64-bit",
   "language": "python",
   "name": "python3"
  },
  "language_info": {
   "codemirror_mode": {
    "name": "ipython",
    "version": 3
   },
   "file_extension": ".py",
   "mimetype": "text/x-python",
   "name": "python",
   "nbconvert_exporter": "python",
   "pygments_lexer": "ipython3",
   "version": "3.10.5"
  },
  "vscode": {
   "interpreter": {
    "hash": "f0cc6ac6ae42d7b7a2c0ba126ab853cd3055a2361239d2799ab31271d6bd3859"
   }
  }
 },
 "nbformat": 4,
 "nbformat_minor": 4
}
